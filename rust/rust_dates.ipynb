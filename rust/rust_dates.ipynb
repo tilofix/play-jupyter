{
 "cells": [
  {
   "cell_type": "markdown",
   "metadata": {},
   "source": [
    "## Datum und Zeit in Rust\n",
    "\n",
    "Wie arbeitet man in Rust mit Datum und Zeit?\n",
    "- Es gibt ein Modul in der Standardbibliothek: [std::time](https://doc.rust-lang.org/std/time/index.html).\n",
    "- Eine Websuche führt einem zum [Crate `chrono`](https://docs.rs/chrono/0.4.19/chrono/). \n",
    "> It aims to be a feature-complete superset of the time library. \n",
    "  - Für das Einlesen und Auslesen von Datum und Zeit hat `chrono` das [Modul `chrono::format`](https://docs.rs/chrono/0.4.19/chrono/format/index.html).\n",
    "  - Diese Modul verwendet einen [String-Formatierer](https://docs.rs/chrono/0.4.19/chrono/format/strftime/index.html#specifiers).\n",
    "  - Für die meisten Fälle sollen [DateTime::format](https://docs.rs/chrono/0.4.19/chrono/struct.DateTime.html#method.format) und [DateTime::parse_from_str](https://docs.rs/chrono/0.4.19/chrono/struct.DateTime.html#method.parse_from_str) ausreichen.\n",
    "- Da ich mit Quartalen arbeiten möchte, fand ich in diesem [Webpost](https://stackoverflow.com/questions/62947343/nth-day-of-every-mth-month-in-rust) einen Hinweis auf [Crate (Kiste) `kronos`](https://crates.io/crates/kronos), der wiederum von `chrono` abhängt. Im Vergleich zu `chrono` ist die \n",
    "> Kronos is a tool for calculating date/times.\n",
    "  - Interessant sind die Aufzählung der Datum/Zeit Einteilung [kronos::Grain](https://docs.rs/kronos/0.1.5/kronos/enum.Grain.html)\n",
    "    - Second, Minute, Hour, \n",
    "    - Day, Week, Month,\n",
    "    - Quarter, Half, Year,\n",
    "    - Lustrum, Decade, Century, Millenium,\n",
    "  - als auch die Aufzählung der Jahreszeiten [kronos::Season](https://docs.rs/kronos/0.1.5/kronos/enum.Season.html)\n",
    "    - Spring, Summer, Autumn, Winter,\n",
    "  - Allerdings sind die Elemente der Bibliothek wie Strukturen, Traits, und Funktionen undokumentiert. Sie dient wohl privaten Zwecken und vorallem dem generieren von Datum und Zeit Einträgen.\n",
    "- Das Suchen von \"date month quarter\" führt einen zur [Crate (Kiste) `date_calculations`](https://crates.io/crates/date-calculations), die eine Reihe von Funktionen bereitstellt, um von einem Datum aus den Anfang, das Ende, das vorherige, oder das nächste Jahr (Monat, Quartal, Woche) zu berechnen.\n"
   ]
  },
  {
   "cell_type": "markdown",
   "metadata": {},
   "source": [
    "### std::time"
   ]
  },
  {
   "cell_type": "code",
   "execution_count": 2,
   "metadata": {},
   "outputs": [
    {
     "name": "stdout",
     "output_type": "stream",
     "text": [
      "2\n"
     ]
    },
    {
     "data": {
      "text/plain": [
       "()"
      ]
     },
     "execution_count": 2,
     "metadata": {},
     "output_type": "execute_result"
    }
   ],
   "source": [
    "let now = std::time::SystemTime::now();\n",
    "\n",
    "// we sleep for 2 seconds\n",
    "std::thread::sleep(std::time::Duration::new(2, 0));\n",
    "// it prints '2'\n",
    "match now.elapsed() { \n",
    "    // SystemTime::elapsed(&self) -> Result<Duration, SystemTimeError>\n",
    "    Ok(duration) => { println!(\"{}\", duration.as_secs()); }\n",
    "    Err(error) => { panic!(\"Error: {:?}\", error); }\n",
    "}"
   ]
  },
  {
   "cell_type": "code",
   "execution_count": 3,
   "metadata": {
    "scrolled": true
   },
   "outputs": [
    {
     "name": "stdout",
     "output_type": "stream",
     "text": [
      "1970-01-01 00:00:00 UTC was 1672978251 seconds ago!\n"
     ]
    },
    {
     "data": {
      "text/plain": [
       "()"
      ]
     },
     "execution_count": 3,
     "metadata": {},
     "output_type": "execute_result"
    }
   ],
   "source": [
    "match std::time::SystemTime::now().duration_since(std::time::SystemTime::UNIX_EPOCH) {\n",
    "    Ok(n) => println!(\"1970-01-01 00:00:00 UTC was {} seconds ago!\", n.as_secs()),\n",
    "    Err(_) => panic!(\"SystemTime before UNIX EPOCH!\"),\n",
    "}"
   ]
  },
  {
   "cell_type": "markdown",
   "metadata": {},
   "source": [
    "### chrono"
   ]
  },
  {
   "cell_type": "code",
   "execution_count": 4,
   "metadata": {},
   "outputs": [
    {
     "name": "stdout",
     "output_type": "stream",
     "text": [
      "UTC time now: 2023-01-06 04:11:38.380163874 UTC\n",
      "2003-07-01 10:52:37 +02:00\n",
      "1996-12-19 16:39:57 -08:00\n",
      "1994-08-05 08:00:00 +00:00\n",
      "23:56:04\n",
      "2015-09-05\n",
      "2015-09-05 23:56:04\n",
      "LOCAL time now: 2023-01-06 05:11:38.380213524 +01:00\n"
     ]
    },
    {
     "data": {
      "text/plain": [
       "()"
      ]
     },
     "execution_count": 4,
     "metadata": {},
     "output_type": "execute_result"
    }
   ],
   "source": [
    ":dep chrono = {version = \"0.4\"}\n",
    "// Source: https://rust-lang-nursery.github.io/rust-cookbook/datetime.html\n",
    "\n",
    "let utc: chrono::DateTime<chrono::Utc> = chrono::Utc::now();\n",
    "println!(\"UTC time now: {}\", utc);\n",
    "\n",
    "let rfc2822 = chrono::DateTime::parse_from_rfc2822(\"Tue, 1 Jul 2003 10:52:37 +0200\")?;\n",
    "println!(\"{}\", rfc2822);\n",
    "\n",
    "let rfc3339 = chrono::DateTime::parse_from_rfc3339(\"1996-12-19T16:39:57-08:00\")?;\n",
    "println!(\"{}\", rfc3339);\n",
    "\n",
    "let custom = chrono::DateTime::parse_from_str(\"5.8.1994 8:00 am +0000\", \"%d.%m.%Y %H:%M %P %z\")?;\n",
    "println!(\"{}\", custom);\n",
    "\n",
    "let time_only = chrono::NaiveTime::parse_from_str(\"23:56:04\", \"%H:%M:%S\")?;\n",
    "println!(\"{}\", time_only);\n",
    "\n",
    "let date_only = chrono::NaiveDate::parse_from_str(\"2015-09-05\", \"%Y-%m-%d\")?;\n",
    "println!(\"{}\", date_only);\n",
    "\n",
    "let no_timezone = chrono::NaiveDateTime::parse_from_str(\"2015-09-05 23:56:04\", \"%Y-%m-%d %H:%M:%S\")?;\n",
    "println!(\"{}\", no_timezone);\n",
    "\n",
    "let local: chrono::DateTime<chrono::Local> = chrono::Local::now();\n",
    "println!(\"LOCAL time now: {}\", local)"
   ]
  },
  {
   "cell_type": "markdown",
   "metadata": {},
   "source": [
    "### kronos"
   ]
  },
  {
   "cell_type": "code",
   "execution_count": 5,
   "metadata": {},
   "outputs": [
    {
     "name": "stdout",
     "output_type": "stream",
     "text": [
      "2019-02-05 00:00:00\n",
      "Range { start: 2019-02-11T00:00:00, end: 2019-02-12T00:00:00, grain: Day }\n",
      "Range { start: 2019-01-01T00:00:00, end: 2019-04-01T00:00:00, grain: Quarter }\n",
      "Range { start: 2018-10-01T00:00:00, end: 2019-01-01T00:00:00, grain: Quarter }\n",
      "Range { start: 2019-03-21T00:00:00, end: 2019-06-21T00:00:00, grain: Day }\n",
      "Range { start: 2018-03-21T00:00:00, end: 2018-06-21T00:00:00, grain: Day }\n"
     ]
    }
   ],
   "source": [
    ":dep chrono = {version = \"0.4\"}\n",
    ":dep kronos = {version = \"0.1.5\"}\n",
    "\n",
    "// Reference time: Tuesday, 5th Feb 2019\n",
    "let date_time = chrono::NaiveDate::from_ymd(2019, 2, 5).and_hms(0, 0, 0);\n",
    "println!(\"{}\", date_time);\n",
    "\n",
    "// fn future(&self, t0: &NaiveDateTime) -> Box<dyn Iterator<Item = Range>>\n",
    "// fn past(&self, t0: &NaiveDateTime) -> Box<dyn Iterator<Item = Range>>\n",
    "\n",
    "// First Monday after a date reference time\n",
    "println!(\"{:?}\", kronos::TimeSequence::future(\n",
    "    &kronos::Weekday(1), \n",
    "    &date_time)\n",
    "    .next()\n",
    "    .unwrap());\n",
    "\n",
    "println!(\"{:?}\", kronos::TimeSequence::future(\n",
    "    &kronos::Grains(kronos::Grain::Quarter), \n",
    "    &date_time)\n",
    "    .next()\n",
    "    .unwrap());\n",
    "println!(\"{:?}\", kronos::TimeSequence::past(\n",
    "    &kronos::Grains(kronos::Grain::Quarter), \n",
    "    &date_time)\n",
    "    .next()\n",
    "    .unwrap());\n",
    "\n",
    "// kronos has no documentation, looks as if BOOL stands for north(true) and south(false) half of earth\n",
    "println!(\"{:?}\", kronos::TimeSequence::future(\n",
    "    &kronos::Seasons(kronos::Season::Spring, true), \n",
    "    &date_time)\n",
    "    .next()\n",
    "    .unwrap());\n",
    "println!(\"{:?}\", kronos::TimeSequence::past(\n",
    "    &kronos::Seasons(kronos::Season::Spring, true), \n",
    "    &date_time)\n",
    "    .next()\n",
    "    .unwrap());\n"
   ]
  },
  {
   "cell_type": "code",
   "execution_count": 6,
   "metadata": {},
   "outputs": [
    {
     "data": {
      "text/plain": [
       "Range { start: 2022-12-24T00:00:00, end: 2022-12-26T00:00:00, grain: Day }"
      ]
     },
     "execution_count": 6,
     "metadata": {},
     "output_type": "execute_result"
    }
   ],
   "source": [
    ":dep chrono = {version = \"0.4\"}\n",
    ":dep kronos = {version = \"0.1.5\"}\n",
    "\n",
    "kronos::TimeSequence::past(\n",
    "    &kronos::LastOf(2, kronos::Weekend, kronos::Grains(kronos::Grain::Year)),\n",
    "    &chrono::NaiveDateTime::from_timestamp(chrono::Local::now().timestamp(),0),\n",
    ")\n",
    ".next()\n",
    ".unwrap()\n",
    "/* \n",
    "   Following for-loop panics thanks to deadend in kronos\n",
    "\n",
    "for range_item in kronos::TimeSequence::past(\n",
    "...\n",
    ")\n",
    "{\n",
    "    println!(\"{:?}\", range_item)\n",
    "}\n",
    "\n",
    "thread '<unnamed>' panicked at 'assertion failed: i <= INFINITE_FUSE', /home/tilo/.cargo/registry/src/github.com-1ecc6299db9ec823/kronos-0.1.5/src/seq_lastof.rs:42:39\n",
    "*/"
   ]
  },
  {
   "cell_type": "code",
   "execution_count": 7,
   "metadata": {},
   "outputs": [
    {
     "data": {
      "text/plain": [
       "Duration { secs: 7948800, nanos: 0 }"
      ]
     },
     "execution_count": 7,
     "metadata": {},
     "output_type": "execute_result"
    }
   ],
   "source": [
    ":dep chrono = {version = \"0.4\"}\n",
    ":dep kronos = {version = \"0.1.5\"}\n",
    "\n",
    "kronos::TimeSequence::past(\n",
    "    &kronos::Grains(kronos::Grain::Quarter),\n",
    "    &chrono::NaiveDateTime::from_timestamp(chrono::Local::now().timestamp(),0),\n",
    ")\n",
    ".next()\n",
    ".unwrap()\n",
    ".duration()"
   ]
  },
  {
   "cell_type": "markdown",
   "metadata": {},
   "source": [
    "### date-calculations"
   ]
  },
  {
   "cell_type": "code",
   "execution_count": 8,
   "metadata": {},
   "outputs": [],
   "source": [
    ":dep chrono = {version = \"0.4\"}\n",
    ":dep date-calculations = {version = \"0.1.1\"}\n",
    "\n",
    "let twenty_twentyone : chrono::NaiveDate = chrono::NaiveDate::from_ymd(2021, 1, 31);\n",
    "\n",
    "assert_eq!(\n",
    "    chrono::Datelike::year(&date_calculations::next_year(&twenty_twentyone).unwrap()), \n",
    "    2022);\n",
    "assert_eq!(\n",
    "    chrono::Datelike::month(&date_calculations::next_year(&twenty_twentyone).unwrap()), \n",
    "    1);\n",
    "assert_eq!(\n",
    "    chrono::Datelike::day(&date_calculations::next_year(&twenty_twentyone).unwrap()), \n",
    "    1);\n",
    "\n",
    "assert_eq!(\n",
    "    chrono::Datelike::year(&date_calculations::previous_quarter(&twenty_twentyone).unwrap()), \n",
    "    2020);\n",
    "assert_eq!(\n",
    "    chrono::Datelike::month(&date_calculations::previous_quarter(&twenty_twentyone).unwrap()), \n",
    "    10);\n",
    "assert_eq!(\n",
    "    chrono::Datelike::day(&date_calculations::previous_quarter(&twenty_twentyone).unwrap()), \n",
    "    1);\n"
   ]
  },
  {
   "cell_type": "markdown",
   "metadata": {
    "tags": []
   },
   "source": [
    "## Wie funktioniert die `chrono`-Kiste\n",
    "\n",
    "[Kiste `chrono`](https://crates.io/crates/chrono) möchte eine Übermenge der - vermeintlich - eingestellten Bibliothek [`time`](https://docs.rs/time/latest/time/index.html) sein. Auch wenn `chrono` in seiner Dokumentation auf [rust-lang-deprecated/time](https://github.com/rust-lang-deprecated/time) zeigt, so wird der Link heute (2022-05-10) auf die Organisation [`time-rs`]() weitergeleitet. Egal.\n",
    "\n",
    "`chrono` hat je drei Grundlegende Typen mit und ohne Zeitzonen Unterstützung:\n",
    "- [`Date`](https://docs.rs/chrono/0.4/chrono/struct.Date.html), (non-existent) `Time`, [`DateTime`](https://docs.rs/chrono/0.4/chrono/struct.DateTime.html) parametrisiert mit Zeitzonen-Offset [`Utc`](https://docs.rs/chrono/0.4/chrono/offset/struct.Utc.html), [`local`](https://docs.rs/chrono/0.4/chrono/offset/struct.Local.html), oder [`Fixed`](https://docs.rs/chrono/0.4/chrono/offset/struct.FixedOffset.html) (Zeitzone mit fixed offset, von UTC-23:59:59 bis UTC+23:59:59).\n",
    "- [`NaiveDate`](https://docs.rs/chrono/0.4/chrono/naive/struct.NaiveDate.html), [`NaiveTime`](https://docs.rs/chrono/0.4/chrono/naive/struct.NaiveTime.html), [`NaiveDateTime`](https://docs.rs/chrono/0.4/chrono/naive/struct.NaiveDateTime.html)\n",
    "\n",
    "Auf die Eigenschafter der grundlegenden Typen greift man über die beiden Traits [`Datelike`](https://docs.rs/chrono/0.4/chrono/trait.Datelike.html) und [`Timelike`](https://docs.rs/chrono/0.4/chrono/trait.Timelike.html) zu."
   ]
  },
  {
   "cell_type": "code",
   "execution_count": 9,
   "metadata": {},
   "outputs": [],
   "source": [
    ":dep chrono = {version = \"0.4\"}"
   ]
  },
  {
   "cell_type": "code",
   "execution_count": 10,
   "metadata": {},
   "outputs": [
    {
     "name": "stdout",
     "output_type": "stream",
     "text": [
      "Universal time: 2023-01-06 04:16:45.657303114 UTC,\n",
      "Local     time: 2023-01-06 05:16:45.657304034 +01:00,\n"
     ]
    }
   ],
   "source": [
    "let utc: chrono::DateTime<chrono::Utc> = chrono::Utc::now();\n",
    "let local: chrono::DateTime<chrono::Local> = chrono::Local::now();\n",
    "\n",
    "println!(\"Universal time: {},\", utc);\n",
    "println!(\"Local     time: {},\", local);\n"
   ]
  },
  {
   "cell_type": "code",
   "execution_count": 11,
   "metadata": {},
   "outputs": [
    {
     "data": {
      "text/plain": [
       "2022-02-01"
      ]
     },
     "execution_count": 11,
     "metadata": {},
     "output_type": "execute_result"
    }
   ],
   "source": [
    "chrono::NaiveDate::parse_from_str(format!(\"{}-01\",\"2022-02\").as_str(), \"%Y-%m-%d\")?\n"
   ]
  },
  {
   "cell_type": "code",
   "execution_count": 12,
   "metadata": {},
   "outputs": [
    {
     "data": {
      "text/plain": [
       "2022-04-12"
      ]
     },
     "execution_count": 12,
     "metadata": {},
     "output_type": "execute_result"
    }
   ],
   "source": [
    "chrono::NaiveDate::parse_from_str(\"2022-04-12\", \"%Y-%m-%d\")?\n"
   ]
  },
  {
   "cell_type": "markdown",
   "metadata": {},
   "source": [
    "Using the [`TimeZone`](https://docs.rs/chrono/0.4.19/chrono/offset/trait.TimeZone.html) methods on a `FixedOffset` struct is the preferred way to construct `DateTime<FixedOffset>` instances. "
   ]
  },
  {
   "cell_type": "code",
   "execution_count": 13,
   "metadata": {},
   "outputs": [],
   "source": [
    "let hour = 3600;\n",
    "let dt: chrono::DateTime<chrono::FixedOffset> = \n",
    "        chrono::TimeZone::ymd(&chrono::FixedOffset::east(5 * hour), 2016, 11, 08)\n",
    "        .and_hms(0, 0, 0);\n",
    "\n",
    "assert_eq!(&dt.to_rfc3339(), \"2016-11-08T00:00:00+05:00\");\n",
    "\n",
    "// property accessors\n",
    "use chrono::Datelike;\n",
    "assert_eq!((dt.year(), dt.month(), dt.day()), (2016, 11, 08));\n",
    "assert_eq!((dt.month0(), dt.day0()), (10, 7)); // for unfortunate souls\n",
    "assert_eq!(dt.weekday(), chrono::Weekday::Tue);\n",
    "assert_eq!(dt.weekday().number_from_monday(), 2); // Mon=1, ..., Sun=7\n",
    "assert_eq!(dt.ordinal(), 313); // the day of year\n",
    "assert_eq!(dt.num_days_from_ce(), 736276); // the number of days from and including Jan 1, 1\n",
    "\n",
    "// time zone accessor\n",
    "assert_eq!(dt.timezone(), chrono::FixedOffset::east(5 * 3600));\n"
   ]
  },
  {
   "cell_type": "code",
   "execution_count": 14,
   "metadata": {},
   "outputs": [],
   "source": [
    "assert_eq!(chrono::NaiveDate::from_ymd(2015, 9, 8).year(), 2015);\n",
    "assert_eq!(chrono::NaiveDate::from_ymd(-308, 3, 14).year(), -308); // 309 BCE\n"
   ]
  },
  {
   "cell_type": "markdown",
   "metadata": {},
   "source": [
    "## Julia Abfrage-Funktionen mit der `chrono`-Kiste\n",
    "\n",
    "Nachbau der Query-Funktionen und notwendige Teile der Accessor-Funktionen der Julia Bibliothek [Dates](https://docs.julialang.org/en/v1/stdlib/Dates), um aus einem Chronos::Datelike Objekt das Jahr, das Quartal, den Monat, den Tag abzuleiten.\n",
    "\n",
    "Die Julia Implementationen verwenden verschiedene mathematische Operationen für Division:\n",
    "- [div()](https://docs.julialang.org/en/v1/base/math/#Base.div)\n",
    "  `div(a, b) = div(a, b, RoundToZero)`\n",
    "- [fld()](https://docs.julialang.org/en/v1/base/math/#Base.fld)\n",
    "  `fld(a, b) = div(a, b, RoundDown)`\n",
    "- [cld()](https://docs.julialang.org/en/v1/base/math/#Base.cld)\n",
    "  `cld(a, b) = div(a, b, RoundUp)`\n",
    "- [rem()](https://docs.julialang.org/en/v1/base/math/#Base.rem)\n",
    "\n",
    "Rust kennt die Operatoren \n",
    "- [std::ops::Div](https://doc.rust-lang.org/std/ops/trait.Div.html), The division operator `\\`.\n",
    "- und [std::ops::Rem](https://doc.rust-lang.org/std/ops/trait.Rem.html), The remainder operator `%`.\n",
    "\n",
    "Seit einiger Zeit kennt Rust nun auch folgende Operatoren als Methoden der Integer Typen:\n",
    "- `div_ceil` (nightly-only experimental API. ([int_roundings #88581](https://github.com/rust-lang/rust/issues/88581)))\n",
    "- `div_euclid` (1.38.0 (const: 1.52.0))\n",
    "- `div_floor` (nightly-only experimental API. ([int_roundings #88581](https://github.com/rust-lang/rust/issues/88581)))\n",
    "- `rem_euclid` (1.38.0 (const: 1.52.0)) [RFC 2169](https://github.com/rust-lang/rfcs/blob/master/text/2169-euclidean-modulo.md)\n"
   ]
  },
  {
   "cell_type": "code",
   "execution_count": 32,
   "metadata": {},
   "outputs": [],
   "source": [
    "assert_eq!(9i32.div_euclid(4), 2);"
   ]
  },
  {
   "cell_type": "code",
   "execution_count": 36,
   "metadata": {},
   "outputs": [
    {
     "data": {
      "text/plain": [
       "1"
      ]
     },
     "execution_count": 36,
     "metadata": {},
     "output_type": "execute_result"
    }
   ],
   "source": [
    "i32::rem_euclid(9i32, 4i32)"
   ]
  },
  {
   "cell_type": "code",
   "execution_count": 15,
   "metadata": {
    "tags": []
   },
   "outputs": [
    {
     "data": {
      "text/plain": [
       "true"
      ]
     },
     "execution_count": 15,
     "metadata": {},
     "output_type": "execute_result"
    }
   ],
   "source": [
    "fn isleapyear_num(y: i32) -> bool {\n",
    "    ((y % 4) == 0) && (\n",
    "    ((y % 100) != 0) || \n",
    "    ((y % 400) == 0))\n",
    "}\n",
    "\n",
    "isleapyear_num(2004)\n"
   ]
  },
  {
   "cell_type": "markdown",
   "metadata": {},
   "source": [
    "Rust [keyword `where`](https://doc.rust-lang.org/std/keyword.where.html): Add constraints that must be upheld to use an item."
   ]
  },
  {
   "cell_type": "code",
   "execution_count": 16,
   "metadata": {},
   "outputs": [
    {
     "data": {
      "text/plain": [
       "false"
      ]
     },
     "execution_count": 16,
     "metadata": {},
     "output_type": "execute_result"
    }
   ],
   "source": [
    "fn isleapyear<D>(dt: D) -> bool where D: chrono::Datelike {\n",
    "    isleapyear_num(dt.year())\n",
    "}\n",
    "\n",
    "isleapyear(chrono::NaiveDate::from_ymd(2015, 9, 8))\n"
   ]
  },
  {
   "cell_type": "markdown",
   "metadata": {},
   "source": [
    "Rust [keyword `const`](https://doc.rust-lang.org/std/keyword.const.html): Compile-time constants, compile-time evaluable functions, and raw pointers."
   ]
  },
  {
   "cell_type": "code",
   "execution_count": 17,
   "metadata": {},
   "outputs": [
    {
     "data": {
      "text/plain": [
       "29"
      ]
     },
     "execution_count": 17,
     "metadata": {},
     "output_type": "execute_result"
    }
   ],
   "source": [
    "fn daysinmonth_num(y: i32, m: u32) -> u32 {\n",
    "    assert!((1 <= m) && (m <= 12));\n",
    "    const DAYSINMONTH: [u32;12] = [31, 28, 31, 30, 31, 30, 31, 31, 30, 31, 30, 31];\n",
    "    let month_idx: usize = <u32 as std::convert::TryInto<usize>>::try_into(m).unwrap();\n",
    "    let leap_ofs: u32 = <bool as std::convert::TryInto<u32>>::try_into(\n",
    "        (m == 2) && \n",
    "        isleapyear_num(y)).unwrap();\n",
    "    DAYSINMONTH[month_idx - 1] + leap_ofs\n",
    "}\n",
    "\n",
    "daysinmonth_num(2004, 2)\n"
   ]
  },
  {
   "cell_type": "code",
   "execution_count": 18,
   "metadata": {},
   "outputs": [
    {
     "data": {
      "text/plain": [
       "29"
      ]
     },
     "execution_count": 18,
     "metadata": {},
     "output_type": "execute_result"
    }
   ],
   "source": [
    "fn daysinmonth<D>(dt: D) -> u32 where D: chrono::Datelike {\n",
    "    daysinmonth_num(dt.year(), dt.month())\n",
    "}\n",
    "\n",
    "daysinmonth(chrono::TimeZone::ymd(&chrono::Utc, 2004, 2, 25))\n"
   ]
  },
  {
   "cell_type": "code",
   "execution_count": null,
   "metadata": {},
   "outputs": [],
   "source": [
    "fn month_num(d: u32) -> u32 {\n",
    "}\n"
   ]
  }
 ],
 "metadata": {
  "kernelspec": {
   "display_name": "Rust",
   "language": "rust",
   "name": "rust"
  },
  "language_info": {
   "codemirror_mode": "rust",
   "file_extension": ".rs",
   "mimetype": "text/rust",
   "name": "Rust",
   "pygment_lexer": "rust",
   "version": ""
  }
 },
 "nbformat": 4,
 "nbformat_minor": 4
}

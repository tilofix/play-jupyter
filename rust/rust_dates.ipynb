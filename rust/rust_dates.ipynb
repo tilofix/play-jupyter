{
 "cells": [
  {
   "cell_type": "markdown",
   "metadata": {},
   "source": [
    "## Datum und Zeit in Rust\n",
    "\n",
    "Wie arbeitet man in Rust mit Datum und Zeit?\n",
    "- Es gibt ein Modul in der Standardbibliothek: [std::time](https://doc.rust-lang.org/std/time/index.html).\n",
    "- Eine Websuche führt einen zum [Crate `chrono`](https://docs.rs/chrono/0.4.19/chrono/). \n",
    "> It aims to be a feature-complete superset of the time library. \n",
    "  - Für das Einlesen und Auslesen von Datum und Zeit hat `chrono` das [Modul `chrono::format`](https://docs.rs/chrono/0.4.19/chrono/format/index.html).\n",
    "  - Diese Model verwendet einen [String-Formatierer](https://docs.rs/chrono/0.4.19/chrono/format/strftime/index.html#specifiers).\n",
    "  - Für die meisten Fälle sollen [DateTime::format](https://docs.rs/chrono/0.4.19/chrono/struct.DateTime.html#method.format) und [DateTime::parse_from_str](https://docs.rs/chrono/0.4.19/chrono/struct.DateTime.html#method.parse_from_str) ausreichen.\n",
    "- Da ich mit Quartalen arbeiten möchte, fand ich in diesem [Webpost](https://stackoverflow.com/questions/62947343/nth-day-of-every-mth-month-in-rust) einen Hinweis auf [Crate (Kiste) `kronos`](https://crates.io/crates/kronos), der wiederum von `chrono` abhängt. Im Vergleich zu `chrono` ist die \n",
    "> Kronos is a tool for calculating date/times.\n",
    "  - Interessant sind die Aufzählung der Datum/Zeit Einteilung [kronos::Grain](https://docs.rs/kronos/0.1.5/kronos/enum.Grain.html)\n",
    "    - Second, Minute, Hour, \n",
    "    - Day, Week, Month,\n",
    "    - Quarter, Half, Year,\n",
    "    - Lustrum, Decade, Century, Millenium,\n",
    "  - als auch die Aufzählung der Jahreszeiten [kronos::Season](https://docs.rs/kronos/0.1.5/kronos/enum.Season.html)\n",
    "    - Spring, Summer, Autumn, Winter,\n",
    "  - Allerdings sind die Elemente der Bibliothek wie Strukturen, Traits, und Funktionen undokumentiert. Sie dient wohl privaten Zwecken und vorallem dem generieren von Datum und Zeit Einträgen.\n",
    "- Das Suchen von \"date month quarter\" führt einen zur [Crate (Kiste) `date_calculations`](https://crates.io/crates/date-calculations), die eine Reihe von Funktionen bereitstellt, um von einem Datum aus den Anfang, das Ende, das vorherige, oder das nächste Jahr (Monat, Quartal, Woche) zu berechnen.\n"
   ]
  },
  {
   "cell_type": "markdown",
   "metadata": {},
   "source": [
    "### std::time"
   ]
  },
  {
   "cell_type": "code",
   "execution_count": 2,
   "metadata": {},
   "outputs": [
    {
     "name": "stdout",
     "output_type": "stream",
     "text": [
      "2\n"
     ]
    },
    {
     "data": {
      "text/plain": [
       "()"
      ]
     },
     "execution_count": 2,
     "metadata": {},
     "output_type": "execute_result"
    }
   ],
   "source": [
    "let now = std::time::SystemTime::now();\n",
    "\n",
    "// we sleep for 2 seconds\n",
    "std::thread::sleep(std::time::Duration::new(2, 0));\n",
    "// it prints '2'\n",
    "match now.elapsed() { \n",
    "    // SystemTime::elapsed(&self) -> Result<Duration, SystemTimeError>\n",
    "    Ok(duration) => { println!(\"{}\", duration.as_secs()); }\n",
    "    Err(error) => { panic!(\"Error: {:?}\", error); }\n",
    "}"
   ]
  },
  {
   "cell_type": "code",
   "execution_count": 3,
   "metadata": {
    "scrolled": true
   },
   "outputs": [
    {
     "name": "stdout",
     "output_type": "stream",
     "text": [
      "1970-01-01 00:00:00 UTC was 1652080540 seconds ago!\n"
     ]
    },
    {
     "data": {
      "text/plain": [
       "()"
      ]
     },
     "execution_count": 3,
     "metadata": {},
     "output_type": "execute_result"
    }
   ],
   "source": [
    "match std::time::SystemTime::now().duration_since(std::time::SystemTime::UNIX_EPOCH) {\n",
    "    Ok(n) => println!(\"1970-01-01 00:00:00 UTC was {} seconds ago!\", n.as_secs()),\n",
    "    Err(_) => panic!(\"SystemTime before UNIX EPOCH!\"),\n",
    "}"
   ]
  },
  {
   "cell_type": "markdown",
   "metadata": {},
   "source": [
    "### chrono"
   ]
  },
  {
   "cell_type": "code",
   "execution_count": 4,
   "metadata": {
    "scrolled": false
   },
   "outputs": [
    {
     "name": "stdout",
     "output_type": "stream",
     "text": [
      "UTC time now: 2022-05-09 07:15:49.786707181 UTC\n",
      "2003-07-01 10:52:37 +02:00\n",
      "1996-12-19 16:39:57 -08:00\n",
      "1994-08-05 08:00:00 +00:00\n",
      "23:56:04\n",
      "2015-09-05\n",
      "2015-09-05 23:56:04\n",
      "LOCAL time now: 2022-05-09 09:15:49.786735522 +02:00\n"
     ]
    },
    {
     "data": {
      "text/plain": [
       "()"
      ]
     },
     "execution_count": 4,
     "metadata": {},
     "output_type": "execute_result"
    }
   ],
   "source": [
    ":dep chrono = {version = \"0.4\"}\n",
    "// Source: https://rust-lang-nursery.github.io/rust-cookbook/datetime.html\n",
    "\n",
    "let utc: chrono::DateTime<chrono::Utc> = chrono::Utc::now();\n",
    "println!(\"UTC time now: {}\", utc);\n",
    "\n",
    "let rfc2822 = chrono::DateTime::parse_from_rfc2822(\"Tue, 1 Jul 2003 10:52:37 +0200\")?;\n",
    "println!(\"{}\", rfc2822);\n",
    "\n",
    "let rfc3339 = chrono::DateTime::parse_from_rfc3339(\"1996-12-19T16:39:57-08:00\")?;\n",
    "println!(\"{}\", rfc3339);\n",
    "\n",
    "let custom = chrono::DateTime::parse_from_str(\"5.8.1994 8:00 am +0000\", \"%d.%m.%Y %H:%M %P %z\")?;\n",
    "println!(\"{}\", custom);\n",
    "\n",
    "let time_only = chrono::NaiveTime::parse_from_str(\"23:56:04\", \"%H:%M:%S\")?;\n",
    "println!(\"{}\", time_only);\n",
    "\n",
    "let date_only = chrono::NaiveDate::parse_from_str(\"2015-09-05\", \"%Y-%m-%d\")?;\n",
    "println!(\"{}\", date_only);\n",
    "\n",
    "let no_timezone = chrono::NaiveDateTime::parse_from_str(\"2015-09-05 23:56:04\", \"%Y-%m-%d %H:%M:%S\")?;\n",
    "println!(\"{}\", no_timezone);\n",
    "\n",
    "let local: chrono::DateTime<chrono::Local> = chrono::Local::now();\n",
    "println!(\"LOCAL time now: {}\", local)"
   ]
  },
  {
   "cell_type": "markdown",
   "metadata": {},
   "source": [
    "### kronos"
   ]
  },
  {
   "cell_type": "code",
   "execution_count": 5,
   "metadata": {
    "scrolled": false
   },
   "outputs": [
    {
     "name": "stdout",
     "output_type": "stream",
     "text": [
      "2019-02-05 00:00:00\n",
      "Range { start: 2019-02-11T00:00:00, end: 2019-02-12T00:00:00, grain: Day }\n",
      "Range { start: 2019-01-01T00:00:00, end: 2019-04-01T00:00:00, grain: Quarter }\n",
      "Range { start: 2018-10-01T00:00:00, end: 2019-01-01T00:00:00, grain: Quarter }\n",
      "Range { start: 2019-03-21T00:00:00, end: 2019-06-21T00:00:00, grain: Day }\n",
      "Range { start: 2018-03-21T00:00:00, end: 2018-06-21T00:00:00, grain: Day }\n"
     ]
    }
   ],
   "source": [
    ":dep chrono = {version = \"0.4\"}\n",
    ":dep kronos = {version = \"0.1.5\"}\n",
    "\n",
    "// Reference time: Tuesday, 5th Feb 2019\n",
    "let date_time = chrono::NaiveDate::from_ymd(2019, 2, 5).and_hms(0, 0, 0);\n",
    "println!(\"{}\", date_time);\n",
    "\n",
    "// fn future(&self, t0: &NaiveDateTime) -> Box<dyn Iterator<Item = Range>>\n",
    "// fn past(&self, t0: &NaiveDateTime) -> Box<dyn Iterator<Item = Range>>\n",
    "\n",
    "// First Monday after a date reference time\n",
    "println!(\"{:?}\", kronos::TimeSequence::future(\n",
    "    &kronos::Weekday(1), \n",
    "    &date_time)\n",
    "    .next()\n",
    "    .unwrap());\n",
    "\n",
    "println!(\"{:?}\", kronos::TimeSequence::future(\n",
    "    &kronos::Grains(kronos::Grain::Quarter), \n",
    "    &date_time)\n",
    "    .next()\n",
    "    .unwrap());\n",
    "println!(\"{:?}\", kronos::TimeSequence::past(\n",
    "    &kronos::Grains(kronos::Grain::Quarter), \n",
    "    &date_time)\n",
    "    .next()\n",
    "    .unwrap());\n",
    "\n",
    "// kronos has no documentation, looks as if BOOL stands for north(true) and south(false) half of earth\n",
    "println!(\"{:?}\", kronos::TimeSequence::future(\n",
    "    &kronos::Seasons(kronos::Season::Spring, true), \n",
    "    &date_time)\n",
    "    .next()\n",
    "    .unwrap());\n",
    "println!(\"{:?}\", kronos::TimeSequence::past(\n",
    "    &kronos::Seasons(kronos::Season::Spring, true), \n",
    "    &date_time)\n",
    "    .next()\n",
    "    .unwrap());\n"
   ]
  },
  {
   "cell_type": "code",
   "execution_count": 6,
   "metadata": {},
   "outputs": [
    {
     "data": {
      "text/plain": [
       "Range { start: 2021-12-18T00:00:00, end: 2021-12-20T00:00:00, grain: Day }"
      ]
     },
     "execution_count": 6,
     "metadata": {},
     "output_type": "execute_result"
    }
   ],
   "source": [
    ":dep chrono = {version = \"0.4\"}\n",
    ":dep kronos = {version = \"0.1.5\"}\n",
    "\n",
    "kronos::TimeSequence::past(\n",
    "    &kronos::LastOf(2, kronos::Weekend, kronos::Grains(kronos::Grain::Year)),\n",
    "    &chrono::NaiveDateTime::from_timestamp(chrono::Local::now().timestamp(),0),\n",
    ")\n",
    ".next()\n",
    ".unwrap()\n",
    "/* \n",
    "   Following for-loop panics thanks to deadend in kronos\n",
    "\n",
    "for range_item in kronos::TimeSequence::past(\n",
    "...\n",
    ")\n",
    "{\n",
    "    println!(\"{:?}\", range_item)\n",
    "}\n",
    "\n",
    "thread '<unnamed>' panicked at 'assertion failed: i <= INFINITE_FUSE', /home/tilo/.cargo/registry/src/github.com-1ecc6299db9ec823/kronos-0.1.5/src/seq_lastof.rs:42:39\n",
    "*/"
   ]
  },
  {
   "cell_type": "code",
   "execution_count": 7,
   "metadata": {},
   "outputs": [
    {
     "data": {
      "text/plain": [
       "Duration { secs: 7776000, nanos: 0 }"
      ]
     },
     "execution_count": 7,
     "metadata": {},
     "output_type": "execute_result"
    }
   ],
   "source": [
    ":dep chrono = {version = \"0.4\"}\n",
    ":dep kronos = {version = \"0.1.5\"}\n",
    "\n",
    "kronos::TimeSequence::past(\n",
    "    &kronos::Grains(kronos::Grain::Quarter),\n",
    "    &chrono::NaiveDateTime::from_timestamp(chrono::Local::now().timestamp(),0),\n",
    ")\n",
    ".next()\n",
    ".unwrap()\n",
    ".duration()"
   ]
  },
  {
   "cell_type": "markdown",
   "metadata": {},
   "source": [
    "### date-calculations"
   ]
  },
  {
   "cell_type": "code",
   "execution_count": 8,
   "metadata": {},
   "outputs": [],
   "source": [
    ":dep chrono = {version = \"0.4\"}\n",
    ":dep date-calculations = {version = \"0.1.1\"}\n",
    "\n",
    "let twenty_twentyone : chrono::NaiveDate = chrono::NaiveDate::from_ymd(2021, 1, 31);\n",
    "\n",
    "assert_eq!(\n",
    "    chrono::Datelike::year(&date_calculations::next_year(&twenty_twentyone).unwrap()), \n",
    "    2022);\n",
    "assert_eq!(\n",
    "    chrono::Datelike::month(&date_calculations::next_year(&twenty_twentyone).unwrap()), \n",
    "    1);\n",
    "assert_eq!(\n",
    "    chrono::Datelike::day(&date_calculations::next_year(&twenty_twentyone).unwrap()), \n",
    "    1);\n",
    "\n",
    "assert_eq!(\n",
    "    chrono::Datelike::year(&date_calculations::previous_quarter(&twenty_twentyone).unwrap()), \n",
    "    2020);\n",
    "assert_eq!(\n",
    "    chrono::Datelike::month(&date_calculations::previous_quarter(&twenty_twentyone).unwrap()), \n",
    "    10);\n",
    "assert_eq!(\n",
    "    chrono::Datelike::day(&date_calculations::previous_quarter(&twenty_twentyone).unwrap()), \n",
    "    1);\n"
   ]
  },
  {
   "cell_type": "markdown",
   "metadata": {},
   "source": [
    "## Understand create chrono"
   ]
  },
  {
   "cell_type": "code",
   "execution_count": 9,
   "metadata": {},
   "outputs": [],
   "source": [
    ":dep chrono = {version = \"0.4\"}"
   ]
  },
  {
   "cell_type": "code",
   "execution_count": 10,
   "metadata": {},
   "outputs": [
    {
     "data": {
      "text/plain": [
       "2022-02-01"
      ]
     },
     "execution_count": 10,
     "metadata": {},
     "output_type": "execute_result"
    }
   ],
   "source": [
    "chrono::NaiveDate::parse_from_str(format!(\"{}-01\",\"2022-02\").as_str(), \"%Y-%m-%d\")?"
   ]
  },
  {
   "cell_type": "code",
   "execution_count": 11,
   "metadata": {},
   "outputs": [
    {
     "data": {
      "text/plain": [
       "2022-04-12"
      ]
     },
     "execution_count": 11,
     "metadata": {},
     "output_type": "execute_result"
    }
   ],
   "source": [
    "chrono::NaiveDate::parse_from_str(\"2022-04-12\", \"%Y-%m-%d\")?"
   ]
  },
  {
   "cell_type": "code",
   "execution_count": null,
   "metadata": {},
   "outputs": [],
   "source": []
  }
 ],
 "metadata": {
  "kernelspec": {
   "display_name": "Rust",
   "language": "rust",
   "name": "rust"
  },
  "language_info": {
   "codemirror_mode": "rust",
   "file_extension": ".rs",
   "mimetype": "text/rust",
   "name": "Rust",
   "pygment_lexer": "rust",
   "version": ""
  }
 },
 "nbformat": 4,
 "nbformat_minor": 2
}

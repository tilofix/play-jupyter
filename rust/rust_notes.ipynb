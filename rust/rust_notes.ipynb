{
 "cells": [
  {
   "cell_type": "markdown",
   "metadata": {},
   "source": [
    "# Notes on Rust"
   ]
  },
  {
   "cell_type": "markdown",
   "metadata": {},
   "source": [
    "## Make Jupyter knows Rust\n",
    "\n",
    "Running this notebook requires Rust's jupyter kernel installed through `cargo` build chain which requires the Rust ecosystem.\n",
    "- install system dependency `sudo pamac install cmake` \n",
    "- install the jupyter-kernel `cargo install evcxr_jupyter`\n",
    "  ```\n",
    "    Updating crates.io index\n",
    "    Installing evcxr_jupyter v0.7.0\n",
    "     Compiling libc v0.2.81\n",
    "     ...\n",
    "     Compiling evcxr_jupyter v0.7.0\n",
    "     Finished release [optimized] target(s) in 3m 46s\n",
    "    Installing /home/tilo/.cargo/bin/evcxr_jupyter\n",
    "     Installed package `evcxr_jupyter v0.7.0` (executable `evcxr_jupyter`)\n",
    "  ```\n",
    "\n",
    "- activate jupyter-kernle ` ~/.cargo/bin/evcxr_jupyter --install` \n",
    "  ```\n",
    "    Writing /home/tilo/.local/share/jupyter/kernels/rust/kernel.json\n",
    "    Writing /home/tilo/.local/share/jupyter/kernels/rust/logo-32x32.png\n",
    "    Writing /home/tilo/.local/share/jupyter/kernels/rust/logo-64x64.png\n",
    "    Writing /home/tilo/.local/share/jupyter/kernels/rust/logo-LICENSE.md\n",
    "    Installation complete\n",
    "  ```\n"
   ]
  },
  {
   "cell_type": "code",
   "execution_count": 2,
   "metadata": {},
   "outputs": [],
   "source": [
    "const MSG: &str = \"Hello EvCxR\";"
   ]
  },
  {
   "cell_type": "code",
   "execution_count": 3,
   "metadata": {},
   "outputs": [
    {
     "data": {
      "text/plain": [
       "\"Hello EvCxR\""
      ]
     },
     "execution_count": 3,
     "metadata": {},
     "output_type": "execute_result"
    }
   ],
   "source": [
    "MSG"
   ]
  },
  {
   "cell_type": "markdown",
   "metadata": {},
   "source": [
    "## Display rustc version\n",
    "\n",
    "Followed [this advise: How can a Rust program access metadata from its Cargo package?](https://stackoverflow.com/questions/27840394/how-can-a-rust-program-access-metadata-from-its-cargo-package) and found function in module `std::env`."
   ]
  },
  {
   "cell_type": "code",
   "execution_count": 4,
   "metadata": {},
   "outputs": [
    {
     "data": {
      "text/plain": [
       "\"/tmp/.tmpDILOdb\""
      ]
     },
     "execution_count": 4,
     "metadata": {},
     "output_type": "execute_result"
    }
   ],
   "source": [
    "std::env!(\"CARGO_MANIFEST_DIR\", \"none\")"
   ]
  },
  {
   "cell_type": "code",
   "execution_count": 5,
   "metadata": {},
   "outputs": [
    {
     "data": {
      "text/plain": [
       "\"ctx\""
      ]
     },
     "execution_count": 5,
     "metadata": {},
     "output_type": "execute_result"
    }
   ],
   "source": [
    "std::env!(\"CARGO_PKG_NAME\", \"none\")"
   ]
  },
  {
   "cell_type": "markdown",
   "metadata": {},
   "source": [
    "I found file `.rustc_info.json` in the target directory where `evcxr_jupyter` executes the rust statements. Thought I could evaluate the which contains a path to information like this:\n",
    "```\n",
    "  \"rustc 1.57.0 (f1edd0429 2021-11-29)\n",
    "  binary: rustc\n",
    "  commit-hash: f1edd0429582dd29cccacaf50fd134b05593bd9c\n",
    "  commit-date: 2021-11-29\n",
    "  host: x86_64-unknown-linux-gnu\n",
    "  release: 1.57.0\n",
    "  LLVM version: 13.0.0\n",
    "  \"\n",
    "```\n",
    "\n",
    "Following talks about JSON output of RUSTC but this applies to messages generated during compilation: https://doc.rust-lang.org/rustc/json.html. Following crate helps to read and parse such messages: https://docs.rs/cargo_metadata/0.14.2/cargo_metadata/index.html. But I looked for a library which parses `.rustc_info.json` for me.\n"
   ]
  },
  {
   "cell_type": "code",
   "execution_count": 6,
   "metadata": {},
   "outputs": [
    {
     "name": "stdout",
     "output_type": "stream",
     "text": [
      "\"/tmp/.tmpDILOdb/target/CACHEDIR.TAG\"\n",
      "\"/tmp/.tmpDILOdb/target/debug\"\n",
      "\"/tmp/.tmpDILOdb/target/.rustc_info.json\"\n"
     ]
    },
    {
     "data": {
      "text/plain": [
       "()"
      ]
     },
     "execution_count": 6,
     "metadata": {},
     "output_type": "execute_result"
    }
   ],
   "source": [
    ":dep cargo_metadata = {version = \"0.14.2\"}\n",
    "\n",
    "let metadata = cargo_metadata::MetadataCommand::new()\n",
    "    .manifest_path(std::env!(\"CARGO_MANIFEST_DIR\", \"none\").to_owned() + \"/Cargo.toml\")\n",
    "    .features(cargo_metadata::CargoOpt::AllFeatures)\n",
    "    .exec()\n",
    "    .unwrap();\n",
    "for entry in std::fs::read_dir(&metadata.target_directory)?\n",
    "  {println!(\"{:?}\", entry.unwrap().path())}\n"
   ]
  },
  {
   "cell_type": "code",
   "execution_count": 7,
   "metadata": {},
   "outputs": [
    {
     "data": {
      "text/plain": [
       "Number(2795790647561673919)"
      ]
     },
     "execution_count": 7,
     "metadata": {},
     "output_type": "execute_result"
    }
   ],
   "source": [
    ":dep serde_json = {version = \"1.0.59\"}\n",
    "\n",
    "// Open the file in read-only mode with buffer.\n",
    "let file = std::fs::File::open(std::env!(\"CARGO_MANIFEST_DIR\", \"none\").to_owned() \n",
    "                                          + \"/target/.rustc_info.json\")?;\n",
    "let reader = std::io::BufReader::new(file);\n",
    "/* For beginners Rust is indeed a challange (but only at compile time ;-)\n",
    "   When ommiting following type annotation: `v : serde_json::Value`\n",
    "   Then error: \"invalid type: map, expected a string at line 1 column 1\"\n",
    "   When ommiting type annotation of `v` but access `v[\"rustc_fingerprint\"]`\n",
    "   Then error: \"cannot infer type; type annotations needed\", \n",
    "   which is already displayed by evcxr */\n",
    "let v : serde_json::Value = serde_json::from_reader(reader)?;\n",
    "v[\"rustc_fingerprint\"]"
   ]
  },
  {
   "cell_type": "markdown",
   "metadata": {},
   "source": [
    "## Plotting with Plotters\n",
    "\n",
    "A copy for evaluation from [Data Analysis with Rust Notebooks](https://datacrayon.com/posts/programming/rust-notebooks/plotting-with-plotters/) by Data Crayon.\n",
    "\n",
    "See also:\n",
    "- [Crate plotters - A Rust drawing library focus on data plotting for both WASM and native applications](https://docs.rs/plotters/latest/plotters/index.html)\n",
    "- [Developers Guide](https://plotters-rs.github.io/book/)\n",
    "\n",
    "Plotters: \"Because `evcxr` uses only SVG images and all types of series, so we don't need other types of backend. So we should put `default_features = false, features = [\"evcxr\", \"all_series\"]`\" when dependency `plotters` is to be loaded into `evcxr`.\n",
    "\n",
    "Function [`evcxr_figure()`](https://github.com/38/plotters/blob/26b24b1d30521af98e957a3a907d76b038e66c54/src/evcxr.rs#L31) is the integration provided by `plotters` with `evcxr` and is compiled in when [feature `evcxr` is configured](https://github.com/38/plotters/blob/26b24b1d30521af98e957a3a907d76b038e66c54/src/lib.rs#L748). It has following signature: \n",
    "\n",
    "> `pub fn plotters::evcxr::evcxr_figure<\n",
    "     Draw: FnOnce(plotters::drawing::DrawingArea<\n",
    "                    plotters::prelude::SVGBackend, \n",
    "                    plotters::coord::Shift>\n",
    "                 ) -> Result<\n",
    "                        (),\n",
    "                        Box<dyn std::error::Error>>\n",
    "    >(size: (u32, u32), draw: Draw) -> plotters::evcxr::SVGWrapper`. \n",
    "\n",
    "`evcxr_figure()` takes as arguments the size of the a drawing area and a [closure expression](https://doc.rust-lang.org/reference/expressions/closure-expr.html) creating an annonymous type implementing trait [`FnOnce`](https://doc.rust-lang.org/std/ops/trait.FnOnce.html) with it's method `call_once()` performing the call operation. `evcxr_figure()` returns an object of type `SVGWrapper` which implements following methods:\n",
    "- `pub fn evcxr_display(&self)`,\n",
    "- `pub fn style<S: Into<String>>(mut self, style: S) -> Self`\n",
    "\n",
    "and which implements finally the `std::fmt::Debug` trait according to the convention described by [`evcxr_jupyter` for custom output](https://github.com/google/evcxr/blob/38981aeccd20f9bb1bad65cd6d47ed8898caa2a6/evcxr_jupyter/README.md#custom-output). \n",
    "\n",
    "In the function to create a figure to be displayed by `evcxr_jupyter` following steps are taken:\n",
    "1. [The abstraction of a drawing area](https://docs.rs/plotters/latest/plotters/drawing/struct.DrawingArea.html) is hand over as variable `root` and with help of it's method [filled](https://docs.rs/plotters/latest/plotters/drawing/struct.DrawingArea.html#method.fill) in color [white](https://docs.rs/plotters/latest/plotters/style/colors/constant.WHITE.html).\n",
    "2. A [helper object to create a chart context](https://docs.rs/plotters/latest/plotters/chart/struct.ChartBuilder.html) is created with its method [on](https://docs.rs/plotters/latest/plotters/chart/struct.ChartBuilder.html#method.on) returning the chart builder followed by chain of method calls:\n",
    "  - [The caption of the chart with a text style](https://docs.rs/plotters/latest/plotters/chart/struct.ChartBuilder.html#method.caption) is set returning the chart builder instance.\n",
    "  - [The margin size of the chart](https://docs.rs/plotters/latest/plotters/chart/struct.ChartBuilder.html#method.margin) is set returning the chart builder instance.\n",
    "  - [The size of X label area](https://docs.rs/plotters/latest/plotters/chart/struct.ChartBuilder.html#method.x_label_area_size) is set returning the chart builder instance.\n",
    "  - [The size of the Y label area](https://docs.rs/plotters/latest/plotters/chart/struct.ChartBuilder.html#method.y_label_area_size) is set returning the chart builder instance.\n",
    "  - And finally [build the chart with a 2D Cartesian coordinate system.](https://docs.rs/plotters/latest/plotters/chart/struct.ChartBuilder.html#method.build_cartesian_2d) The function will return a `Result` object with either a [ChartContext<'a, DB, Cartesian2d<X::CoordDescType, Y::CoordDescType>](https://docs.rs/plotters/latest/plotters/chart/struct.ChartContext.html), where a data series can be rendered on, or a `DrawingAreaErrorKind<DB::ErrorType>`.\n",
    "3. The [chart context](https://docs.rs/plotters/latest/plotters/chart/struct.ChartContext.html) method [**configure_mesh()**](https://docs.rs/plotters/latest/plotters/chart/struct.ChartContext.html#method.configure_mesh) initializes a mesh configuration object and returning a [MeshStyle](https://docs.rs/plotters/latest/plotters/chart/struct.MeshStyle.html). The mesh drawing can be finalized by calling the MeshStyle's method [draw](https://docs.rs/plotters/latest/plotters/chart/struct.MeshStyle.html#method.draw) which draws the configured mesh on the target plot returning a `Result` object ( either `()` or `DrawingAreaErrorKind<DB::ErrorType>`).\n",
    "4. The [chart context's](https://docs.rs/plotters/latest/plotters/chart/struct.ChartContext.html) method [**draw_series()**](https://docs.rs/plotters/latest/plotters/chart/struct.ChartContext.html#method.draw_series) draws a data series returning a `Result` object with either a [series' annotation](https://docs.rs/plotters/latest/plotters/chart/struct.SeriesAnno.html) or a `DrawingAreaErrorKind<DB::ErrorType>` followed by a chain of method calls. A data series in Plotters is abstracted as an iterator of elements.\n",
    "  - The [line series](https://docs.rs/plotters/latest/plotters/series/struct.LineSeries.html) object is created by method [new](https://docs.rs/plotters/latest/plotters/series/struct.LineSeries.html#method.new), which takes an iterator of points in guest coordinate system with a ShapeStyle and creates the element rendering the line plot. See following piece of code demonstrating the construct of the series is an iterator creating points of an coordinate system.\n",
    "    > `for (x,y) in (-50..=50).map(|x| x as f32 / 50.0).map(|x| (x, x*x)) \n",
    "        {println!(\"{:.2},{:.2}\", x, y)}`\n",
    "    \n",
    "- [The label](https://docs.rs/plotters/latest/plotters/chart/struct.SeriesAnno.html#method.label) sets the string used as a label for current series.\n",
    "  - [The legend](https://docs.rs/plotters/latest/plotters/chart/struct.SeriesAnno.html#method.legend) sets the element creator function. *Note*: The creation function uses a shifted pixel-based coordinate system. And place the point (0,0) to the mid-right point of the shape.\n",
    "5. The [chart context's](https://docs.rs/plotters/latest/plotters/chart/struct.ChartContext.html) method [**configure_series_labels()**](https://docs.rs/plotters/latest/plotters/chart/struct.ChartContext.html#method.configure_series_labels) configures the styles for drawing series labels in the chart and returns a [SeriesLabelStyle](https://docs.rs/plotters/latest/plotters/chart/struct.SeriesLabelStyle.html)  followed by chain of method calls:. \n",
    "  - [The background style](https://docs.rs/plotters/0.3.1/plotters/chart/struct.SeriesLabelStyle.html#method.background_style) is set with [ShapeStyle](https://docs.rs/plotters/0.3.1/plotters/style/struct.ShapeStyle.html) returning the series label of a target chart context,\n",
    "  - [The style of the label series area](https://docs.rs/plotters/0.3.1/plotters/chart/struct.SeriesLabelStyle.html#method.border_style) is set with [ShapeStyle](https://docs.rs/plotters/0.3.1/plotters/style/struct.ShapeStyle.html) returning the series label of a target chart context,\n",
    "  - and finally by calling the SeriesLabelStyle's method [draw](https://docs.rs/plotters/latest/plotters/chart/struct.SeriesLabelStyle.html#method.draw) which draws the series label area returning a `Result` object ( either `()` or `DrawingAreaErrorKind<DB::ErrorType>`).\n",
    "6. The closure \"closes\" with returning an empty tuple, the [`()` type](https://doc.rust-lang.org/std/primitive.unit.html) wrapped in a [ok variant](https://doc.rust-lang.org/std/result/enum.Result.html#variant.Ok) of a `Result` object.\n",
    "\n",
    "Note: `extern` and `use` declarations had been commented out for learning. Thus [namespace paths](https://doc.rust-lang.org/stable/reference/paths.html) are needed to be defined for each `struct` or even `trait`. For instance without either `use plotters::prelude::*;` or `use plotters::style::Color;` the compiler couldn't infer the type implementing [trait method `mix`](https://docs.rs/plotters/0.3.1/plotters/style/trait.Color.html#method.mix). So the  trait method needed to be called explicit with the instance of type [RGBAColor](https://docs.rs/plotters/0.3.1/plotters/style/struct.RGBAColor.html)."
   ]
  },
  {
   "cell_type": "code",
   "execution_count": 8,
   "metadata": {},
   "outputs": [
    {
     "name": "stderr",
     "output_type": "stream",
     "text": [
      "The type of the variable metadata was redefined, so was lost.\n",
      "The type of the variable v was redefined, so was lost.\n"
     ]
    },
    {
     "data": {
      "text/html": [
       "<div style=\"\"><svg width=\"640\" height=\"480\" viewBox=\"0 0 640 480\" xmlns=\"http://www.w3.org/2000/svg\">\n",
       "<rect x=\"0\" y=\"0\" width=\"640\" height=\"480\" opacity=\"1\" fill=\"#FFFFFF\" stroke=\"none\"/>\n",
       "<text x=\"320\" y=\"10\" dy=\"0.76em\" text-anchor=\"middle\" font-family=\"Arial\" font-size=\"40.32258064516129\" opacity=\"1\" fill=\"#000000\">\n",
       "y=x^2\n",
       "</text>\n",
       "<line opacity=\"0.1\" stroke=\"#000000\" stroke-width=\"1\" x1=\"35\" y1=\"444\" x2=\"35\" y2=\"56\"/>\n",
       "<line opacity=\"0.1\" stroke=\"#000000\" stroke-width=\"1\" x1=\"40\" y1=\"444\" x2=\"40\" y2=\"56\"/>\n",
       "<line opacity=\"0.1\" stroke=\"#000000\" stroke-width=\"1\" x1=\"46\" y1=\"444\" x2=\"46\" y2=\"56\"/>\n",
       "<line opacity=\"0.1\" stroke=\"#000000\" stroke-width=\"1\" x1=\"52\" y1=\"444\" x2=\"52\" y2=\"56\"/>\n",
       "<line opacity=\"0.1\" stroke=\"#000000\" stroke-width=\"1\" x1=\"58\" y1=\"444\" x2=\"58\" y2=\"56\"/>\n",
       "<line opacity=\"0.1\" stroke=\"#000000\" stroke-width=\"1\" x1=\"64\" y1=\"444\" x2=\"64\" y2=\"56\"/>\n",
       "<line opacity=\"0.1\" stroke=\"#000000\" stroke-width=\"1\" x1=\"70\" y1=\"444\" x2=\"70\" y2=\"56\"/>\n",
       "<line opacity=\"0.1\" stroke=\"#000000\" stroke-width=\"1\" x1=\"76\" y1=\"444\" x2=\"76\" y2=\"56\"/>\n",
       "<line opacity=\"0.1\" stroke=\"#000000\" stroke-width=\"1\" x1=\"82\" y1=\"444\" x2=\"82\" y2=\"56\"/>\n",
       "<line opacity=\"0.1\" stroke=\"#000000\" stroke-width=\"1\" x1=\"88\" y1=\"444\" x2=\"88\" y2=\"56\"/>\n",
       "<line opacity=\"0.1\" stroke=\"#000000\" stroke-width=\"1\" x1=\"94\" y1=\"444\" x2=\"94\" y2=\"56\"/>\n",
       "<line opacity=\"0.1\" stroke=\"#000000\" stroke-width=\"1\" x1=\"100\" y1=\"444\" x2=\"100\" y2=\"56\"/>\n",
       "<line opacity=\"0.1\" stroke=\"#000000\" stroke-width=\"1\" x1=\"106\" y1=\"444\" x2=\"106\" y2=\"56\"/>\n",
       "<line opacity=\"0.1\" stroke=\"#000000\" stroke-width=\"1\" x1=\"112\" y1=\"444\" x2=\"112\" y2=\"56\"/>\n",
       "<line opacity=\"0.1\" stroke=\"#000000\" stroke-width=\"1\" x1=\"118\" y1=\"444\" x2=\"118\" y2=\"56\"/>\n",
       "<line opacity=\"0.1\" stroke=\"#000000\" stroke-width=\"1\" x1=\"124\" y1=\"444\" x2=\"124\" y2=\"56\"/>\n",
       "<line opacity=\"0.1\" stroke=\"#000000\" stroke-width=\"1\" x1=\"130\" y1=\"444\" x2=\"130\" y2=\"56\"/>\n",
       "<line opacity=\"0.1\" stroke=\"#000000\" stroke-width=\"1\" x1=\"136\" y1=\"444\" x2=\"136\" y2=\"56\"/>\n",
       "<line opacity=\"0.1\" stroke=\"#000000\" stroke-width=\"1\" x1=\"142\" y1=\"444\" x2=\"142\" y2=\"56\"/>\n",
       "<line opacity=\"0.1\" stroke=\"#000000\" stroke-width=\"1\" x1=\"148\" y1=\"444\" x2=\"148\" y2=\"56\"/>\n",
       "<line opacity=\"0.1\" stroke=\"#000000\" stroke-width=\"1\" x1=\"154\" y1=\"444\" x2=\"154\" y2=\"56\"/>\n",
       "<line opacity=\"0.1\" stroke=\"#000000\" stroke-width=\"1\" x1=\"160\" y1=\"444\" x2=\"160\" y2=\"56\"/>\n",
       "<line opacity=\"0.1\" stroke=\"#000000\" stroke-width=\"1\" x1=\"166\" y1=\"444\" x2=\"166\" y2=\"56\"/>\n",
       "<line opacity=\"0.1\" stroke=\"#000000\" stroke-width=\"1\" x1=\"172\" y1=\"444\" x2=\"172\" y2=\"56\"/>\n",
       "<line opacity=\"0.1\" stroke=\"#000000\" stroke-width=\"1\" x1=\"178\" y1=\"444\" x2=\"178\" y2=\"56\"/>\n",
       "<line opacity=\"0.1\" stroke=\"#000000\" stroke-width=\"1\" x1=\"184\" y1=\"444\" x2=\"184\" y2=\"56\"/>\n",
       "<line opacity=\"0.1\" stroke=\"#000000\" stroke-width=\"1\" x1=\"190\" y1=\"444\" x2=\"190\" y2=\"56\"/>\n",
       "<line opacity=\"0.1\" stroke=\"#000000\" stroke-width=\"1\" x1=\"196\" y1=\"444\" x2=\"196\" y2=\"56\"/>\n",
       "<line opacity=\"0.1\" stroke=\"#000000\" stroke-width=\"1\" x1=\"202\" y1=\"444\" x2=\"202\" y2=\"56\"/>\n",
       "<line opacity=\"0.1\" stroke=\"#000000\" stroke-width=\"1\" x1=\"208\" y1=\"444\" x2=\"208\" y2=\"56\"/>\n",
       "<line opacity=\"0.1\" stroke=\"#000000\" stroke-width=\"1\" x1=\"214\" y1=\"444\" x2=\"214\" y2=\"56\"/>\n",
       "<line opacity=\"0.1\" stroke=\"#000000\" stroke-width=\"1\" x1=\"220\" y1=\"444\" x2=\"220\" y2=\"56\"/>\n",
       "<line opacity=\"0.1\" stroke=\"#000000\" stroke-width=\"1\" x1=\"226\" y1=\"444\" x2=\"226\" y2=\"56\"/>\n",
       "<line opacity=\"0.1\" stroke=\"#000000\" stroke-width=\"1\" x1=\"232\" y1=\"444\" x2=\"232\" y2=\"56\"/>\n",
       "<line opacity=\"0.1\" stroke=\"#000000\" stroke-width=\"1\" x1=\"238\" y1=\"444\" x2=\"238\" y2=\"56\"/>\n",
       "<line opacity=\"0.1\" stroke=\"#000000\" stroke-width=\"1\" x1=\"244\" y1=\"444\" x2=\"244\" y2=\"56\"/>\n",
       "<line opacity=\"0.1\" stroke=\"#000000\" stroke-width=\"1\" x1=\"250\" y1=\"444\" x2=\"250\" y2=\"56\"/>\n",
       "<line opacity=\"0.1\" stroke=\"#000000\" stroke-width=\"1\" x1=\"256\" y1=\"444\" x2=\"256\" y2=\"56\"/>\n",
       "<line opacity=\"0.1\" stroke=\"#000000\" stroke-width=\"1\" x1=\"262\" y1=\"444\" x2=\"262\" y2=\"56\"/>\n",
       "<line opacity=\"0.1\" stroke=\"#000000\" stroke-width=\"1\" x1=\"268\" y1=\"444\" x2=\"268\" y2=\"56\"/>\n",
       "<line opacity=\"0.1\" stroke=\"#000000\" stroke-width=\"1\" x1=\"274\" y1=\"444\" x2=\"274\" y2=\"56\"/>\n",
       "<line opacity=\"0.1\" stroke=\"#000000\" stroke-width=\"1\" x1=\"280\" y1=\"444\" x2=\"280\" y2=\"56\"/>\n",
       "<line opacity=\"0.1\" stroke=\"#000000\" stroke-width=\"1\" x1=\"286\" y1=\"444\" x2=\"286\" y2=\"56\"/>\n",
       "<line opacity=\"0.1\" stroke=\"#000000\" stroke-width=\"1\" x1=\"292\" y1=\"444\" x2=\"292\" y2=\"56\"/>\n",
       "<line opacity=\"0.1\" stroke=\"#000000\" stroke-width=\"1\" x1=\"298\" y1=\"444\" x2=\"298\" y2=\"56\"/>\n",
       "<line opacity=\"0.1\" stroke=\"#000000\" stroke-width=\"1\" x1=\"304\" y1=\"444\" x2=\"304\" y2=\"56\"/>\n",
       "<line opacity=\"0.1\" stroke=\"#000000\" stroke-width=\"1\" x1=\"310\" y1=\"444\" x2=\"310\" y2=\"56\"/>\n",
       "<line opacity=\"0.1\" stroke=\"#000000\" stroke-width=\"1\" x1=\"316\" y1=\"444\" x2=\"316\" y2=\"56\"/>\n",
       "<line opacity=\"0.1\" stroke=\"#000000\" stroke-width=\"1\" x1=\"322\" y1=\"444\" x2=\"322\" y2=\"56\"/>\n",
       "<line opacity=\"0.1\" stroke=\"#000000\" stroke-width=\"1\" x1=\"328\" y1=\"444\" x2=\"328\" y2=\"56\"/>\n",
       "<line opacity=\"0.1\" stroke=\"#000000\" stroke-width=\"1\" x1=\"334\" y1=\"444\" x2=\"334\" y2=\"56\"/>\n",
       "<line opacity=\"0.1\" stroke=\"#000000\" stroke-width=\"1\" x1=\"340\" y1=\"444\" x2=\"340\" y2=\"56\"/>\n",
       "<line opacity=\"0.1\" stroke=\"#000000\" stroke-width=\"1\" x1=\"346\" y1=\"444\" x2=\"346\" y2=\"56\"/>\n",
       "<line opacity=\"0.1\" stroke=\"#000000\" stroke-width=\"1\" x1=\"352\" y1=\"444\" x2=\"352\" y2=\"56\"/>\n",
       "<line opacity=\"0.1\" stroke=\"#000000\" stroke-width=\"1\" x1=\"358\" y1=\"444\" x2=\"358\" y2=\"56\"/>\n",
       "<line opacity=\"0.1\" stroke=\"#000000\" stroke-width=\"1\" x1=\"364\" y1=\"444\" x2=\"364\" y2=\"56\"/>\n",
       "<line opacity=\"0.1\" stroke=\"#000000\" stroke-width=\"1\" x1=\"370\" y1=\"444\" x2=\"370\" y2=\"56\"/>\n",
       "<line opacity=\"0.1\" stroke=\"#000000\" stroke-width=\"1\" x1=\"376\" y1=\"444\" x2=\"376\" y2=\"56\"/>\n",
       "<line opacity=\"0.1\" stroke=\"#000000\" stroke-width=\"1\" x1=\"382\" y1=\"444\" x2=\"382\" y2=\"56\"/>\n",
       "<line opacity=\"0.1\" stroke=\"#000000\" stroke-width=\"1\" x1=\"388\" y1=\"444\" x2=\"388\" y2=\"56\"/>\n",
       "<line opacity=\"0.1\" stroke=\"#000000\" stroke-width=\"1\" x1=\"394\" y1=\"444\" x2=\"394\" y2=\"56\"/>\n",
       "<line opacity=\"0.1\" stroke=\"#000000\" stroke-width=\"1\" x1=\"400\" y1=\"444\" x2=\"400\" y2=\"56\"/>\n",
       "<line opacity=\"0.1\" stroke=\"#000000\" stroke-width=\"1\" x1=\"406\" y1=\"444\" x2=\"406\" y2=\"56\"/>\n",
       "<line opacity=\"0.1\" stroke=\"#000000\" stroke-width=\"1\" x1=\"412\" y1=\"444\" x2=\"412\" y2=\"56\"/>\n",
       "<line opacity=\"0.1\" stroke=\"#000000\" stroke-width=\"1\" x1=\"418\" y1=\"444\" x2=\"418\" y2=\"56\"/>\n",
       "<line opacity=\"0.1\" stroke=\"#000000\" stroke-width=\"1\" x1=\"424\" y1=\"444\" x2=\"424\" y2=\"56\"/>\n",
       "<line opacity=\"0.1\" stroke=\"#000000\" stroke-width=\"1\" x1=\"430\" y1=\"444\" x2=\"430\" y2=\"56\"/>\n",
       "<line opacity=\"0.1\" stroke=\"#000000\" stroke-width=\"1\" x1=\"436\" y1=\"444\" x2=\"436\" y2=\"56\"/>\n",
       "<line opacity=\"0.1\" stroke=\"#000000\" stroke-width=\"1\" x1=\"442\" y1=\"444\" x2=\"442\" y2=\"56\"/>\n",
       "<line opacity=\"0.1\" stroke=\"#000000\" stroke-width=\"1\" x1=\"448\" y1=\"444\" x2=\"448\" y2=\"56\"/>\n",
       "<line opacity=\"0.1\" stroke=\"#000000\" stroke-width=\"1\" x1=\"454\" y1=\"444\" x2=\"454\" y2=\"56\"/>\n",
       "<line opacity=\"0.1\" stroke=\"#000000\" stroke-width=\"1\" x1=\"460\" y1=\"444\" x2=\"460\" y2=\"56\"/>\n",
       "<line opacity=\"0.1\" stroke=\"#000000\" stroke-width=\"1\" x1=\"466\" y1=\"444\" x2=\"466\" y2=\"56\"/>\n",
       "<line opacity=\"0.1\" stroke=\"#000000\" stroke-width=\"1\" x1=\"472\" y1=\"444\" x2=\"472\" y2=\"56\"/>\n",
       "<line opacity=\"0.1\" stroke=\"#000000\" stroke-width=\"1\" x1=\"478\" y1=\"444\" x2=\"478\" y2=\"56\"/>\n",
       "<line opacity=\"0.1\" stroke=\"#000000\" stroke-width=\"1\" x1=\"484\" y1=\"444\" x2=\"484\" y2=\"56\"/>\n",
       "<line opacity=\"0.1\" stroke=\"#000000\" stroke-width=\"1\" x1=\"490\" y1=\"444\" x2=\"490\" y2=\"56\"/>\n",
       "<line opacity=\"0.1\" stroke=\"#000000\" stroke-width=\"1\" x1=\"496\" y1=\"444\" x2=\"496\" y2=\"56\"/>\n",
       "<line opacity=\"0.1\" stroke=\"#000000\" stroke-width=\"1\" x1=\"502\" y1=\"444\" x2=\"502\" y2=\"56\"/>\n",
       "<line opacity=\"0.1\" stroke=\"#000000\" stroke-width=\"1\" x1=\"508\" y1=\"444\" x2=\"508\" y2=\"56\"/>\n",
       "<line opacity=\"0.1\" stroke=\"#000000\" stroke-width=\"1\" x1=\"514\" y1=\"444\" x2=\"514\" y2=\"56\"/>\n",
       "<line opacity=\"0.1\" stroke=\"#000000\" stroke-width=\"1\" x1=\"520\" y1=\"444\" x2=\"520\" y2=\"56\"/>\n",
       "<line opacity=\"0.1\" stroke=\"#000000\" stroke-width=\"1\" x1=\"526\" y1=\"444\" x2=\"526\" y2=\"56\"/>\n",
       "<line opacity=\"0.1\" stroke=\"#000000\" stroke-width=\"1\" x1=\"532\" y1=\"444\" x2=\"532\" y2=\"56\"/>\n",
       "<line opacity=\"0.1\" stroke=\"#000000\" stroke-width=\"1\" x1=\"538\" y1=\"444\" x2=\"538\" y2=\"56\"/>\n",
       "<line opacity=\"0.1\" stroke=\"#000000\" stroke-width=\"1\" x1=\"544\" y1=\"444\" x2=\"544\" y2=\"56\"/>\n",
       "<line opacity=\"0.1\" stroke=\"#000000\" stroke-width=\"1\" x1=\"550\" y1=\"444\" x2=\"550\" y2=\"56\"/>\n",
       "<line opacity=\"0.1\" stroke=\"#000000\" stroke-width=\"1\" x1=\"556\" y1=\"444\" x2=\"556\" y2=\"56\"/>\n",
       "<line opacity=\"0.1\" stroke=\"#000000\" stroke-width=\"1\" x1=\"562\" y1=\"444\" x2=\"562\" y2=\"56\"/>\n",
       "<line opacity=\"0.1\" stroke=\"#000000\" stroke-width=\"1\" x1=\"568\" y1=\"444\" x2=\"568\" y2=\"56\"/>\n",
       "<line opacity=\"0.1\" stroke=\"#000000\" stroke-width=\"1\" x1=\"574\" y1=\"444\" x2=\"574\" y2=\"56\"/>\n",
       "<line opacity=\"0.1\" stroke=\"#000000\" stroke-width=\"1\" x1=\"580\" y1=\"444\" x2=\"580\" y2=\"56\"/>\n",
       "<line opacity=\"0.1\" stroke=\"#000000\" stroke-width=\"1\" x1=\"586\" y1=\"444\" x2=\"586\" y2=\"56\"/>\n",
       "<line opacity=\"0.1\" stroke=\"#000000\" stroke-width=\"1\" x1=\"592\" y1=\"444\" x2=\"592\" y2=\"56\"/>\n",
       "<line opacity=\"0.1\" stroke=\"#000000\" stroke-width=\"1\" x1=\"598\" y1=\"444\" x2=\"598\" y2=\"56\"/>\n",
       "<line opacity=\"0.1\" stroke=\"#000000\" stroke-width=\"1\" x1=\"604\" y1=\"444\" x2=\"604\" y2=\"56\"/>\n",
       "<line opacity=\"0.1\" stroke=\"#000000\" stroke-width=\"1\" x1=\"610\" y1=\"444\" x2=\"610\" y2=\"56\"/>\n",
       "<line opacity=\"0.1\" stroke=\"#000000\" stroke-width=\"1\" x1=\"616\" y1=\"444\" x2=\"616\" y2=\"56\"/>\n",
       "<line opacity=\"0.1\" stroke=\"#000000\" stroke-width=\"1\" x1=\"622\" y1=\"444\" x2=\"622\" y2=\"56\"/>\n",
       "<line opacity=\"0.1\" stroke=\"#000000\" stroke-width=\"1\" x1=\"628\" y1=\"444\" x2=\"628\" y2=\"56\"/>\n",
       "<line opacity=\"0.1\" stroke=\"#000000\" stroke-width=\"1\" x1=\"35\" y1=\"444\" x2=\"634\" y2=\"444\"/>\n",
       "<line opacity=\"0.1\" stroke=\"#000000\" stroke-width=\"1\" x1=\"35\" y1=\"437\" x2=\"634\" y2=\"437\"/>\n",
       "<line opacity=\"0.1\" stroke=\"#000000\" stroke-width=\"1\" x1=\"35\" y1=\"430\" x2=\"634\" y2=\"430\"/>\n",
       "<line opacity=\"0.1\" stroke=\"#000000\" stroke-width=\"1\" x1=\"35\" y1=\"423\" x2=\"634\" y2=\"423\"/>\n",
       "<line opacity=\"0.1\" stroke=\"#000000\" stroke-width=\"1\" x1=\"35\" y1=\"416\" x2=\"634\" y2=\"416\"/>\n",
       "<line opacity=\"0.1\" stroke=\"#000000\" stroke-width=\"1\" x1=\"35\" y1=\"409\" x2=\"634\" y2=\"409\"/>\n",
       "<line opacity=\"0.1\" stroke=\"#000000\" stroke-width=\"1\" x1=\"35\" y1=\"402\" x2=\"634\" y2=\"402\"/>\n",
       "<line opacity=\"0.1\" stroke=\"#000000\" stroke-width=\"1\" x1=\"35\" y1=\"395\" x2=\"634\" y2=\"395\"/>\n",
       "<line opacity=\"0.1\" stroke=\"#000000\" stroke-width=\"1\" x1=\"35\" y1=\"388\" x2=\"634\" y2=\"388\"/>\n",
       "<line opacity=\"0.1\" stroke=\"#000000\" stroke-width=\"1\" x1=\"35\" y1=\"381\" x2=\"634\" y2=\"381\"/>\n",
       "<line opacity=\"0.1\" stroke=\"#000000\" stroke-width=\"1\" x1=\"35\" y1=\"374\" x2=\"634\" y2=\"374\"/>\n",
       "<line opacity=\"0.1\" stroke=\"#000000\" stroke-width=\"1\" x1=\"35\" y1=\"367\" x2=\"634\" y2=\"367\"/>\n",
       "<line opacity=\"0.1\" stroke=\"#000000\" stroke-width=\"1\" x1=\"35\" y1=\"360\" x2=\"634\" y2=\"360\"/>\n",
       "<line opacity=\"0.1\" stroke=\"#000000\" stroke-width=\"1\" x1=\"35\" y1=\"353\" x2=\"634\" y2=\"353\"/>\n",
       "<line opacity=\"0.1\" stroke=\"#000000\" stroke-width=\"1\" x1=\"35\" y1=\"346\" x2=\"634\" y2=\"346\"/>\n",
       "<line opacity=\"0.1\" stroke=\"#000000\" stroke-width=\"1\" x1=\"35\" y1=\"339\" x2=\"634\" y2=\"339\"/>\n",
       "<line opacity=\"0.1\" stroke=\"#000000\" stroke-width=\"1\" x1=\"35\" y1=\"332\" x2=\"634\" y2=\"332\"/>\n",
       "<line opacity=\"0.1\" stroke=\"#000000\" stroke-width=\"1\" x1=\"35\" y1=\"325\" x2=\"634\" y2=\"325\"/>\n",
       "<line opacity=\"0.1\" stroke=\"#000000\" stroke-width=\"1\" x1=\"35\" y1=\"318\" x2=\"634\" y2=\"318\"/>\n",
       "<line opacity=\"0.1\" stroke=\"#000000\" stroke-width=\"1\" x1=\"35\" y1=\"310\" x2=\"634\" y2=\"310\"/>\n",
       "<line opacity=\"0.1\" stroke=\"#000000\" stroke-width=\"1\" x1=\"35\" y1=\"303\" x2=\"634\" y2=\"303\"/>\n",
       "<line opacity=\"0.1\" stroke=\"#000000\" stroke-width=\"1\" x1=\"35\" y1=\"296\" x2=\"634\" y2=\"296\"/>\n",
       "<line opacity=\"0.1\" stroke=\"#000000\" stroke-width=\"1\" x1=\"35\" y1=\"289\" x2=\"634\" y2=\"289\"/>\n",
       "<line opacity=\"0.1\" stroke=\"#000000\" stroke-width=\"1\" x1=\"35\" y1=\"282\" x2=\"634\" y2=\"282\"/>\n",
       "<line opacity=\"0.1\" stroke=\"#000000\" stroke-width=\"1\" x1=\"35\" y1=\"275\" x2=\"634\" y2=\"275\"/>\n",
       "<line opacity=\"0.1\" stroke=\"#000000\" stroke-width=\"1\" x1=\"35\" y1=\"268\" x2=\"634\" y2=\"268\"/>\n",
       "<line opacity=\"0.1\" stroke=\"#000000\" stroke-width=\"1\" x1=\"35\" y1=\"261\" x2=\"634\" y2=\"261\"/>\n",
       "<line opacity=\"0.1\" stroke=\"#000000\" stroke-width=\"1\" x1=\"35\" y1=\"254\" x2=\"634\" y2=\"254\"/>\n",
       "<line opacity=\"0.1\" stroke=\"#000000\" stroke-width=\"1\" x1=\"35\" y1=\"247\" x2=\"634\" y2=\"247\"/>\n",
       "<line opacity=\"0.1\" stroke=\"#000000\" stroke-width=\"1\" x1=\"35\" y1=\"240\" x2=\"634\" y2=\"240\"/>\n",
       "<line opacity=\"0.1\" stroke=\"#000000\" stroke-width=\"1\" x1=\"35\" y1=\"233\" x2=\"634\" y2=\"233\"/>\n",
       "<line opacity=\"0.1\" stroke=\"#000000\" stroke-width=\"1\" x1=\"35\" y1=\"226\" x2=\"634\" y2=\"226\"/>\n",
       "<line opacity=\"0.1\" stroke=\"#000000\" stroke-width=\"1\" x1=\"35\" y1=\"219\" x2=\"634\" y2=\"219\"/>\n",
       "<line opacity=\"0.1\" stroke=\"#000000\" stroke-width=\"1\" x1=\"35\" y1=\"212\" x2=\"634\" y2=\"212\"/>\n",
       "<line opacity=\"0.1\" stroke=\"#000000\" stroke-width=\"1\" x1=\"35\" y1=\"205\" x2=\"634\" y2=\"205\"/>\n",
       "<line opacity=\"0.1\" stroke=\"#000000\" stroke-width=\"1\" x1=\"35\" y1=\"198\" x2=\"634\" y2=\"198\"/>\n",
       "<line opacity=\"0.1\" stroke=\"#000000\" stroke-width=\"1\" x1=\"35\" y1=\"191\" x2=\"634\" y2=\"191\"/>\n",
       "<line opacity=\"0.1\" stroke=\"#000000\" stroke-width=\"1\" x1=\"35\" y1=\"183\" x2=\"634\" y2=\"183\"/>\n",
       "<line opacity=\"0.1\" stroke=\"#000000\" stroke-width=\"1\" x1=\"35\" y1=\"176\" x2=\"634\" y2=\"176\"/>\n",
       "<line opacity=\"0.1\" stroke=\"#000000\" stroke-width=\"1\" x1=\"35\" y1=\"169\" x2=\"634\" y2=\"169\"/>\n",
       "<line opacity=\"0.1\" stroke=\"#000000\" stroke-width=\"1\" x1=\"35\" y1=\"162\" x2=\"634\" y2=\"162\"/>\n",
       "<line opacity=\"0.1\" stroke=\"#000000\" stroke-width=\"1\" x1=\"35\" y1=\"155\" x2=\"634\" y2=\"155\"/>\n",
       "<line opacity=\"0.1\" stroke=\"#000000\" stroke-width=\"1\" x1=\"35\" y1=\"148\" x2=\"634\" y2=\"148\"/>\n",
       "<line opacity=\"0.1\" stroke=\"#000000\" stroke-width=\"1\" x1=\"35\" y1=\"141\" x2=\"634\" y2=\"141\"/>\n",
       "<line opacity=\"0.1\" stroke=\"#000000\" stroke-width=\"1\" x1=\"35\" y1=\"134\" x2=\"634\" y2=\"134\"/>\n",
       "<line opacity=\"0.1\" stroke=\"#000000\" stroke-width=\"1\" x1=\"35\" y1=\"127\" x2=\"634\" y2=\"127\"/>\n",
       "<line opacity=\"0.1\" stroke=\"#000000\" stroke-width=\"1\" x1=\"35\" y1=\"120\" x2=\"634\" y2=\"120\"/>\n",
       "<line opacity=\"0.1\" stroke=\"#000000\" stroke-width=\"1\" x1=\"35\" y1=\"113\" x2=\"634\" y2=\"113\"/>\n",
       "<line opacity=\"0.1\" stroke=\"#000000\" stroke-width=\"1\" x1=\"35\" y1=\"106\" x2=\"634\" y2=\"106\"/>\n",
       "<line opacity=\"0.1\" stroke=\"#000000\" stroke-width=\"1\" x1=\"35\" y1=\"99\" x2=\"634\" y2=\"99\"/>\n",
       "<line opacity=\"0.1\" stroke=\"#000000\" stroke-width=\"1\" x1=\"35\" y1=\"92\" x2=\"634\" y2=\"92\"/>\n",
       "<line opacity=\"0.1\" stroke=\"#000000\" stroke-width=\"1\" x1=\"35\" y1=\"85\" x2=\"634\" y2=\"85\"/>\n",
       "<line opacity=\"0.1\" stroke=\"#000000\" stroke-width=\"1\" x1=\"35\" y1=\"78\" x2=\"634\" y2=\"78\"/>\n",
       "<line opacity=\"0.1\" stroke=\"#000000\" stroke-width=\"1\" x1=\"35\" y1=\"71\" x2=\"634\" y2=\"71\"/>\n",
       "<line opacity=\"0.1\" stroke=\"#000000\" stroke-width=\"1\" x1=\"35\" y1=\"64\" x2=\"634\" y2=\"64\"/>\n",
       "<line opacity=\"0.2\" stroke=\"#000000\" stroke-width=\"1\" x1=\"35\" y1=\"444\" x2=\"35\" y2=\"56\"/>\n",
       "<line opacity=\"0.2\" stroke=\"#000000\" stroke-width=\"1\" x1=\"94\" y1=\"444\" x2=\"94\" y2=\"56\"/>\n",
       "<line opacity=\"0.2\" stroke=\"#000000\" stroke-width=\"1\" x1=\"154\" y1=\"444\" x2=\"154\" y2=\"56\"/>\n",
       "<line opacity=\"0.2\" stroke=\"#000000\" stroke-width=\"1\" x1=\"214\" y1=\"444\" x2=\"214\" y2=\"56\"/>\n",
       "<line opacity=\"0.2\" stroke=\"#000000\" stroke-width=\"1\" x1=\"274\" y1=\"444\" x2=\"274\" y2=\"56\"/>\n",
       "<line opacity=\"0.2\" stroke=\"#000000\" stroke-width=\"1\" x1=\"334\" y1=\"444\" x2=\"334\" y2=\"56\"/>\n",
       "<line opacity=\"0.2\" stroke=\"#000000\" stroke-width=\"1\" x1=\"394\" y1=\"444\" x2=\"394\" y2=\"56\"/>\n",
       "<line opacity=\"0.2\" stroke=\"#000000\" stroke-width=\"1\" x1=\"454\" y1=\"444\" x2=\"454\" y2=\"56\"/>\n",
       "<line opacity=\"0.2\" stroke=\"#000000\" stroke-width=\"1\" x1=\"514\" y1=\"444\" x2=\"514\" y2=\"56\"/>\n",
       "<line opacity=\"0.2\" stroke=\"#000000\" stroke-width=\"1\" x1=\"574\" y1=\"444\" x2=\"574\" y2=\"56\"/>\n",
       "<line opacity=\"0.2\" stroke=\"#000000\" stroke-width=\"1\" x1=\"634\" y1=\"444\" x2=\"634\" y2=\"56\"/>\n",
       "<line opacity=\"0.2\" stroke=\"#000000\" stroke-width=\"1\" x1=\"35\" y1=\"409\" x2=\"634\" y2=\"409\"/>\n",
       "<line opacity=\"0.2\" stroke=\"#000000\" stroke-width=\"1\" x1=\"35\" y1=\"339\" x2=\"634\" y2=\"339\"/>\n",
       "<line opacity=\"0.2\" stroke=\"#000000\" stroke-width=\"1\" x1=\"35\" y1=\"268\" x2=\"634\" y2=\"268\"/>\n",
       "<line opacity=\"0.2\" stroke=\"#000000\" stroke-width=\"1\" x1=\"35\" y1=\"198\" x2=\"634\" y2=\"198\"/>\n",
       "<line opacity=\"0.2\" stroke=\"#000000\" stroke-width=\"1\" x1=\"35\" y1=\"127\" x2=\"634\" y2=\"127\"/>\n",
       "<line opacity=\"0.2\" stroke=\"#000000\" stroke-width=\"1\" x1=\"35\" y1=\"56\" x2=\"634\" y2=\"56\"/>\n",
       "<polyline fill=\"none\" opacity=\"1\" stroke=\"#000000\" stroke-width=\"1\" points=\"34,56 34,444 \"/>\n",
       "<text x=\"25\" y=\"409\" dy=\"0.5ex\" text-anchor=\"end\" font-family=\"sans-serif\" font-size=\"9.67741935483871\" opacity=\"1\" fill=\"#000000\">\n",
       "0.0\n",
       "</text>\n",
       "<polyline fill=\"none\" opacity=\"1\" stroke=\"#000000\" stroke-width=\"1\" points=\"29,409 34,409 \"/>\n",
       "<text x=\"25\" y=\"339\" dy=\"0.5ex\" text-anchor=\"end\" font-family=\"sans-serif\" font-size=\"9.67741935483871\" opacity=\"1\" fill=\"#000000\">\n",
       "0.2\n",
       "</text>\n",
       "<polyline fill=\"none\" opacity=\"1\" stroke=\"#000000\" stroke-width=\"1\" points=\"29,339 34,339 \"/>\n",
       "<text x=\"25\" y=\"268\" dy=\"0.5ex\" text-anchor=\"end\" font-family=\"sans-serif\" font-size=\"9.67741935483871\" opacity=\"1\" fill=\"#000000\">\n",
       "0.4\n",
       "</text>\n",
       "<polyline fill=\"none\" opacity=\"1\" stroke=\"#000000\" stroke-width=\"1\" points=\"29,268 34,268 \"/>\n",
       "<text x=\"25\" y=\"198\" dy=\"0.5ex\" text-anchor=\"end\" font-family=\"sans-serif\" font-size=\"9.67741935483871\" opacity=\"1\" fill=\"#000000\">\n",
       "0.6\n",
       "</text>\n",
       "<polyline fill=\"none\" opacity=\"1\" stroke=\"#000000\" stroke-width=\"1\" points=\"29,198 34,198 \"/>\n",
       "<text x=\"25\" y=\"127\" dy=\"0.5ex\" text-anchor=\"end\" font-family=\"sans-serif\" font-size=\"9.67741935483871\" opacity=\"1\" fill=\"#000000\">\n",
       "0.8\n",
       "</text>\n",
       "<polyline fill=\"none\" opacity=\"1\" stroke=\"#000000\" stroke-width=\"1\" points=\"29,127 34,127 \"/>\n",
       "<text x=\"25\" y=\"56\" dy=\"0.5ex\" text-anchor=\"end\" font-family=\"sans-serif\" font-size=\"9.67741935483871\" opacity=\"1\" fill=\"#000000\">\n",
       "1.0\n",
       "</text>\n",
       "<polyline fill=\"none\" opacity=\"1\" stroke=\"#000000\" stroke-width=\"1\" points=\"29,56 34,56 \"/>\n",
       "<polyline fill=\"none\" opacity=\"1\" stroke=\"#000000\" stroke-width=\"1\" points=\"35,445 634,445 \"/>\n",
       "<text x=\"35\" y=\"455\" dy=\"0.76em\" text-anchor=\"middle\" font-family=\"sans-serif\" font-size=\"9.67741935483871\" opacity=\"1\" fill=\"#000000\">\n",
       "-1.0\n",
       "</text>\n",
       "<polyline fill=\"none\" opacity=\"1\" stroke=\"#000000\" stroke-width=\"1\" points=\"35,445 35,450 \"/>\n",
       "<text x=\"94\" y=\"455\" dy=\"0.76em\" text-anchor=\"middle\" font-family=\"sans-serif\" font-size=\"9.67741935483871\" opacity=\"1\" fill=\"#000000\">\n",
       "-0.8\n",
       "</text>\n",
       "<polyline fill=\"none\" opacity=\"1\" stroke=\"#000000\" stroke-width=\"1\" points=\"94,445 94,450 \"/>\n",
       "<text x=\"154\" y=\"455\" dy=\"0.76em\" text-anchor=\"middle\" font-family=\"sans-serif\" font-size=\"9.67741935483871\" opacity=\"1\" fill=\"#000000\">\n",
       "-0.6\n",
       "</text>\n",
       "<polyline fill=\"none\" opacity=\"1\" stroke=\"#000000\" stroke-width=\"1\" points=\"154,445 154,450 \"/>\n",
       "<text x=\"214\" y=\"455\" dy=\"0.76em\" text-anchor=\"middle\" font-family=\"sans-serif\" font-size=\"9.67741935483871\" opacity=\"1\" fill=\"#000000\">\n",
       "-0.4\n",
       "</text>\n",
       "<polyline fill=\"none\" opacity=\"1\" stroke=\"#000000\" stroke-width=\"1\" points=\"214,445 214,450 \"/>\n",
       "<text x=\"274\" y=\"455\" dy=\"0.76em\" text-anchor=\"middle\" font-family=\"sans-serif\" font-size=\"9.67741935483871\" opacity=\"1\" fill=\"#000000\">\n",
       "-0.2\n",
       "</text>\n",
       "<polyline fill=\"none\" opacity=\"1\" stroke=\"#000000\" stroke-width=\"1\" points=\"274,445 274,450 \"/>\n",
       "<text x=\"334\" y=\"455\" dy=\"0.76em\" text-anchor=\"middle\" font-family=\"sans-serif\" font-size=\"9.67741935483871\" opacity=\"1\" fill=\"#000000\">\n",
       "0.0\n",
       "</text>\n",
       "<polyline fill=\"none\" opacity=\"1\" stroke=\"#000000\" stroke-width=\"1\" points=\"334,445 334,450 \"/>\n",
       "<text x=\"394\" y=\"455\" dy=\"0.76em\" text-anchor=\"middle\" font-family=\"sans-serif\" font-size=\"9.67741935483871\" opacity=\"1\" fill=\"#000000\">\n",
       "0.2\n",
       "</text>\n",
       "<polyline fill=\"none\" opacity=\"1\" stroke=\"#000000\" stroke-width=\"1\" points=\"394,445 394,450 \"/>\n",
       "<text x=\"454\" y=\"455\" dy=\"0.76em\" text-anchor=\"middle\" font-family=\"sans-serif\" font-size=\"9.67741935483871\" opacity=\"1\" fill=\"#000000\">\n",
       "0.4\n",
       "</text>\n",
       "<polyline fill=\"none\" opacity=\"1\" stroke=\"#000000\" stroke-width=\"1\" points=\"454,445 454,450 \"/>\n",
       "<text x=\"514\" y=\"455\" dy=\"0.76em\" text-anchor=\"middle\" font-family=\"sans-serif\" font-size=\"9.67741935483871\" opacity=\"1\" fill=\"#000000\">\n",
       "0.6\n",
       "</text>\n",
       "<polyline fill=\"none\" opacity=\"1\" stroke=\"#000000\" stroke-width=\"1\" points=\"514,445 514,450 \"/>\n",
       "<text x=\"574\" y=\"455\" dy=\"0.76em\" text-anchor=\"middle\" font-family=\"sans-serif\" font-size=\"9.67741935483871\" opacity=\"1\" fill=\"#000000\">\n",
       "0.8\n",
       "</text>\n",
       "<polyline fill=\"none\" opacity=\"1\" stroke=\"#000000\" stroke-width=\"1\" points=\"574,445 574,450 \"/>\n",
       "<text x=\"634\" y=\"455\" dy=\"0.76em\" text-anchor=\"middle\" font-family=\"sans-serif\" font-size=\"9.67741935483871\" opacity=\"1\" fill=\"#000000\">\n",
       "1.0\n",
       "</text>\n",
       "<polyline fill=\"none\" opacity=\"1\" stroke=\"#000000\" stroke-width=\"1\" points=\"634,445 634,450 \"/>\n",
       "<polyline fill=\"none\" opacity=\"1\" stroke=\"#FF0000\" stroke-width=\"1\" points=\"35,56 40,70 46,84 52,98 58,111 64,124 70,136 76,148 82,160 88,172 94,183 100,195 106,205 112,216 118,226 124,236 130,246 136,256 142,265 148,274 154,282 160,291 166,299 172,306 178,314 184,321 190,328 196,335 202,341 208,347 214,353 220,358 226,364 232,368 238,373 244,377 250,382 256,385 262,389 268,392 274,395 280,398 286,400 292,402 298,404 304,406 310,407 316,408 322,409 328,409 334,409 340,409 346,409 352,408 358,407 364,406 370,404 376,402 382,400 388,398 394,395 400,392 406,389 412,385 418,382 424,377 430,373 436,368 442,364 448,358 454,353 460,347 466,341 472,335 478,328 484,321 490,314 496,306 502,299 508,291 514,282 520,274 526,265 532,256 538,246 544,236 550,226 556,216 562,205 568,195 574,183 580,172 586,160 592,148 598,136 604,124 610,111 616,98 622,84 628,70 634,56 \"/>\n",
       "<rect x=\"542\" y=\"235\" width=\"88\" height=\"30\" opacity=\"0.8\" fill=\"#FFFFFF\" stroke=\"none\"/>\n",
       "<rect x=\"542\" y=\"235\" width=\"88\" height=\"30\" opacity=\"1\" fill=\"none\" stroke=\"#000000\"/>\n",
       "<text x=\"582\" y=\"245\" dy=\"0.76em\" text-anchor=\"start\" font-family=\"sans-serif\" font-size=\"9.67741935483871\" opacity=\"1\" fill=\"#000000\">\n",
       "y = x^2\n",
       "</text>\n",
       "<polyline fill=\"none\" opacity=\"1\" stroke=\"#FF0000\" stroke-width=\"1\" points=\"552,250 572,250 \"/>\n",
       "</svg>\n",
       "</div>"
      ]
     },
     "execution_count": 8,
     "metadata": {},
     "output_type": "execute_result"
    }
   ],
   "source": [
    ":dep plotters = { version = \"^0.3.0\", default_features = false, features = [\"evcxr\", \"line_series\"] }\n",
    "//extern crate plotters;\n",
    "//use plotters::prelude::*;\n",
    "\n",
    "let figure = plotters::evcxr::evcxr_figure((640, 480), |root| {\n",
    "    root.fill(&plotters::style::WHITE)?; \n",
    "    // `?` required to overcome warning: \"unused `Result` that must be used\"\n",
    "    let mut chart = plotters::chart::ChartBuilder::on(&root)\n",
    "        .caption(\"y=x^2\", \n",
    "                plotters::style::FontDesc::new(\n",
    "                    \"Arial\".into(), \n",
    "                    50.into(), \n",
    "                    plotters::style::FontStyle::Normal))\n",
    "        .margin(5)\n",
    "        .x_label_area_size(30)\n",
    "        .y_label_area_size(30)\n",
    "        .build_cartesian_2d(-1f32..1f32, -0.1f32..1f32)?;\n",
    "\n",
    "    chart.configure_mesh().draw()?;\n",
    "\n",
    "    chart.draw_series(\n",
    "        plotters::series::LineSeries::new(\n",
    "            (-50..=50).map(|x| x as f32 / 50.0).map(|x| (x, x * x)),\n",
    "            &plotters::style::colors::RED,)\n",
    "        ).unwrap()\n",
    "        .label(\"y = x^2\")\n",
    "        .legend(|(x,y)| \n",
    "            plotters::element::PathElement::new(\n",
    "                vec![(x,y), (x + 20,y)],\n",
    "                &plotters::style::colors::RED)\n",
    "               );\n",
    "\n",
    "    //use plotters::style::Color;\n",
    "    chart.configure_series_labels()\n",
    "        .background_style(plotters::style::Color::mix(&plotters::style::WHITE, 0.8))\n",
    "        .border_style(&plotters::style::BLACK)\n",
    "        .draw()?;\n",
    "    Ok(())\n",
    "});\n",
    "figure"
   ]
  },
  {
   "cell_type": "markdown",
   "metadata": {},
   "source": [
    "Wanted to save some time by preinstalling `plotters` ... hmm, I misunderstood what plotters is ;-):\n",
    "\n",
    "```\n",
    "cargo install plotters --no-default-features --features \"evcxr,line_series\"\n",
    "    Updating crates.io index\n",
    "error: there is nothing to install in 'plotters v0.3.1', because it has no binaries\n",
    "'cargo install' is only for installing programs, and can't be used with libraries.\n",
    "To use a library crate, add it as a dependency in a Cargo project instead.`\n",
    "```\n",
    "\n",
    "Here is the example of `evcxr_jupyter` for cutom output which demonstrates the convention described to draw `figure` above and to \"draw\" `m` below."
   ]
  },
  {
   "cell_type": "code",
   "execution_count": 9,
   "metadata": {},
   "outputs": [
    {
     "data": {
      "text/html": [
       "<table><tr><td>1</td><td>2</td><td>3</td></tr><tr><td>4</td><td>5</td><td>6</td></tr><tr><td>7</td><td>8</td><td>9</td></tr></table>"
      ]
     },
     "execution_count": 9,
     "metadata": {},
     "output_type": "execute_result"
    }
   ],
   "source": [
    "pub struct Matrix<T> {pub values: Vec<T>, pub row_size: usize}\n",
    "impl<T: std::fmt::Debug> Matrix<T> {\n",
    "    pub fn evcxr_display(&self) {\n",
    "        let mut html = String::new();\n",
    "        html.push_str(\"<table>\");\n",
    "        for r in 0..(self.values.len() / self.row_size) {\n",
    "            html.push_str(\"<tr>\");\n",
    "            for c in 0..self.row_size {\n",
    "                html.push_str(\"<td>\");\n",
    "                html.push_str(&format!(\"{:?}\", self.values[r * self.row_size + c]));\n",
    "                html.push_str(\"</td>\");\n",
    "            }\n",
    "            html.push_str(\"</tr>\");\n",
    "        }\n",
    "        html.push_str(\"</table>\");\n",
    "        println!(\"EVCXR_BEGIN_CONTENT text/html\\n{}\\nEVCXR_END_CONTENT\", html);\n",
    "    }\n",
    "}\n",
    "let m = Matrix {values: vec![1,2,3,4,5,6,7,8,9], row_size: 3};\n",
    "m"
   ]
  },
  {
   "cell_type": "markdown",
   "metadata": {},
   "source": [
    "## Plotting with Plotly\n",
    "\n",
    "Plotly has a [jupyter notebook example](https://github.com/igiagkiozis/plotly/blob/b8144ad116aa8aae2d1a626bed18ec008d1f283e/plotly/examples/jupyter_notebook_examples.ipynb)\n",
    "\n",
    "Method [`notebook_display()`](https://github.com/igiagkiozis/plotly/blob/b8144ad116aa8aae2d1a626bed18ec008d1f283e/plotly/src/plot.rs#L314) is the integration provided by `plotly` with `evcxr` when running a jupyter-notebook instead of jupyter-lab. It utilizes also `evcxr_jupyter`'s convention for custom output and generates HTML output.\n",
    "\n",
    "Note: `extern` and `use` declarations had been commented out for learning. Thus [namespace paths](https://doc.rust-lang.org/stable/reference/paths.html) are needed to be defined for each `struct` or even `trait`.\n",
    "\n",
    "Crate `plotly` provides a number of [re-exports](https://docs.rs/plotly/0.7.0/plotly/index.html#reexports) of its important stuctures, enumerations, and traits:\n",
    "- pub use crate::[<span class=\"struct\" style=\"color:#ad448e\">layout::Layout</span>](https://docs.rs/plotly/0.7.0/plotly/layout/struct.Layout.html \"struct.Layout\");\n",
    "- pub use crate::[<span class=\"enum\" style=\"color:#508157\">plot::ImageFormat</span>](https://docs.rs/plotly/0.7.0/plotly/plot/enum.ImageFormat.html \"enum.ImageFormat\");\n",
    "- pub use crate::plot::Plot;\n",
    "- pub use crate::bar::Bar;\n",
    "- pub use crate::box_plot::BoxPlot;\n",
    "- pub use crate::candlestick::Candlestick;\n",
    "- pub use crate::contour::Contour;\n",
    "- pub use crate::heat_map::HeatMap;\n",
    "- pub use crate::histogram::Histogram;\n",
    "- pub use crate::ohlc::Ohlc;\n",
    "- pub use crate::scatter::Scatter;\n",
    "- pub use crate::scatter_polar::ScatterPolar;\n",
    "- pub use crate::surface::Surface;\n",
    "- pub use crate::common::color::NamedColor;\n",
    "- pub use crate::common::color::Rgb;\n",
    "- pub use crate::common::color::Rgba;\n",
    "- pub use crate::[<span class=\"trait\" style=\"color:#7c5af3\">plot::Trace</span>](https://docs.rs/plotly/0.7.0/plotly/plot/trait.Trace.html \"trait.Trace\");"
   ]
  },
  {
   "cell_type": "code",
   "execution_count": 10,
   "metadata": {},
   "outputs": [
    {
     "ename": "Error",
     "evalue": "consider importing this trait",
     "output_type": "error",
     "traceback": [
      "",
      "consider importing this trait"
     ]
    }
   ],
   "source": [
    ":dep plotly = { version = \">=0.7.0\" }\n",
    "//extern crate plotly;\n",
    "\n",
    "let x : Vec<i32> = vec![1,2,3,4,5,6,7,8,9,10];\n",
    "let y : Vec<f32> = x.iter().map(|v| (*v as f32).powf(2.0))\n",
    "    .collect::<Vec<f32>>();\n",
    "\n",
    "let trace = plotly::Scatter::new(x,y)\n",
    "    .mode(plotly::common::Mode::Markers);\n",
    "\n",
    "// println!(\"{:?},{:?}\",x ,y);\n",
    "\n",
    "let layout = plotly::Layout::new()\n",
    "    .width(640)\n",
    "    .height(480);\n",
    "\n",
    "let mut plot = plotly::Plot::new();\n",
    "\n",
    "plot.add_trace(trace);\n",
    "plot.set_layout(layout);\n",
    "plot.lab_display();\n",
    "format!(\"EVCXR_BEGIN_CONTENT application/vnd.plotly.v1+json\\n{}\\nEVCXR_END_CONTENT\", plot.to_json())"
   ]
  },
  {
   "cell_type": "markdown",
   "metadata": {},
   "source": [
    "Another example working with labels, and a legend similar what we saw with plotters. The example is taken from [finishing the visualization page](https://datacrayon.com/posts/programming/rust-notebooks/finishing-touches-for-visualisation/) in which Dr. Shahin Rostami introduced his DARN crate (*D*ata *A*nalysis with *R*ust *N*otebooks), a toolbox to ease plotting with `plotly`. His [function `darn::show_plot(plot)`](https://github.com/shahinrostami/darn/blob/c1209a5dbd466803f90ca1003d88d4fa9570a27a/src/lib.rs#L13) is today replaced by `plotly`'s support for jupyter-notebooks:  `notebook_display()`."
   ]
  },
  {
   "cell_type": "code",
   "execution_count": 11,
   "metadata": {},
   "outputs": [
    {
     "ename": "Error",
     "evalue": "consider importing this trait",
     "output_type": "error",
     "traceback": [
      "",
      "consider importing this trait"
     ]
    },
    {
     "ename": "Error",
     "evalue": "consider importing this trait",
     "output_type": "error",
     "traceback": [
      "",
      "consider importing this trait"
     ]
    },
    {
     "ename": "Error",
     "evalue": "consider importing this trait",
     "output_type": "error",
     "traceback": [
      "",
      "consider importing this trait"
     ]
    }
   ],
   "source": [
    ":dep plotly = { version = \">=0.7.0\" }\n",
    "\n",
    "let trace1 = plotly::Scatter::new(vec![1, 2, 3, 4], vec![10, 15, 13, 17])\n",
    "    .name(\"trace1\")\n",
    "    .mode(plotly::common::Mode::Markers);\n",
    "let trace2 = plotly::Scatter::new(vec![2, 3, 4, 5], vec![16, 5, 11, 9])\n",
    "    .name(\"trace2\")\n",
    "    .mode(plotly::common::Mode::Lines);\n",
    "let trace3 = plotly::Scatter::new(vec![1, 2, 3, 4], vec![12, 9, 15, 12])\n",
    "    .name(\"trace3\");\n",
    "\n",
    "let layout = plotly::Layout::new()\n",
    "    .x_axis(\n",
    "        plotly::layout::Axis::new()\n",
    "            .title(plotly::common::Title::new(\"x axis\")))\n",
    "    .y_axis(\n",
    "        plotly::layout::Axis::new()\n",
    "            .title(plotly::common::Title::new(\"y axis\")))\n",
    "    .margin(\n",
    "        plotly::layout::Margin::new()\n",
    "            .top(0)\n",
    "            .bottom(40)\n",
    "            .left(40)\n",
    "            .right(10))\n",
    "    .legend(\n",
    "        plotly::layout::Legend::new()\n",
    "            .x(0.5)\n",
    "            .y(1.1)\n",
    "            .orientation(plotly::common::Orientation::Horizontal)\n",
    "            .x_anchor(plotly::common::Anchor::Center));\n",
    "\n",
    "let mut plot = plotly::Plot::new();\n",
    "\n",
    "plot.add_trace(trace1);\n",
    "plot.add_trace(trace2);\n",
    "plot.add_trace(trace3);\n",
    "plot.set_layout(layout);\n",
    "\n",
    "plot.lab_display();"
   ]
  },
  {
   "cell_type": "markdown",
   "metadata": {},
   "source": [
    "##  Multidimensional Arrays and Operations with NDArray\n",
    "\n",
    "This is based on Dr. Shahin Rostami (2020-02-29) introduction to crate [`ndarray`](https://docs.rs/ndarray/0.15.4/ndarray/) to do [Data Analysis with Rust Notebooks](https://datacrayon.com/posts/programming/rust-notebooks/multidimensional-arrays-and-operations-with-ndarray/) by Data Crayon.\n",
    "\n",
    "> The `ndarray` crate provides an n-dimensional container for general elements and for numerics.\n",
    "> \n",
    "> In n-dimensional we include, for example, 1-dimensional rows or columns, 2-dimensional matrices, and higher dimensional arrays. If the array has n dimensions, then an element in the array is accessed by using that many indices. Each dimension is also called an *axis*.\n",
    "> \n",
    "> The docs for [ArrayBase](https://docs.rs/ndarray/0.15.4/ndarray/struct.ArrayBase.html) provide an overview of the n-dimensional array type. Other good pages to look at are the documentation for the macros:\n",
    "> - [`s![]`](https://docs.rs/ndarray/0.15.4/ndarray/macro.s.html) (Slice argument constructor) \n",
    "> - and [`azip!()`](https://docs.rs/ndarray/0.15.4/ndarray/macro.azip.html) (Array zip macro: lock step function application across several arrays and producers. This is a shorthand for `Zip`).\n",
    "\n",
    "Here is collection of items from the docs to start me up:\n",
    "> - [`ArrayBase`](https://docs.rs/ndarray/0.15.4/ndarray/struct.ArrayBase.html): The n-dimensional array type itself. It is used to implement both the *owned arrays* and the *views* (an array view represents an array or a part of it, created from an [iterator](https://docs.rs/ndarray/0.15.4/ndarray/struct.ArrayBase.html#loops-producers-and-iterators \"Loops, Producers and Iterators\"), [subview](https://docs.rs/ndarray/0.15.4/ndarray/struct.ArrayBase.html#subviews \"Subviews\") or [slice](https://docs.rs/ndarray/0.15.4/ndarray/struct.ArrayBase.html#slicing \"Slicing\") of an array.); see its docs for an overview of all array features.\n",
    "> - The `ArrayBase<S, D>` is parameterized by `S` for the data container and `D` for the dimensionality. Type aliases [`Array`](https://docs.rs/ndarray/0.15.4/ndarray/type.Array.html) (the main specific array type owning its elements), `ArcArray`, `CowArray`, [`ArrayView`](https://docs.rs/ndarray/0.15.4/ndarray/type.ArrayView.html), and `ArrayViewMut` refer to `ArrayBase` with different types for the data container: arrays with different kinds of ownership or different kinds of array views.\n",
    "> - The dimensionality of the array determines the number of **axes**, for example a 2D array has two *axes*. These are listed in “big endian” order, so that the greatest dimension is listed first, the lowest dimension with the most rapidly varying index is the last.\n",
    "> - In a 2D array the index of each element is `[row, column]` as seen in this 4 × 3 example:\n",
    "> ```\n",
    "    [[ [0, 0], [0, 1], [0, 2] ],  // row 0\n",
    "     [ [1, 0], [1, 1], [1, 2] ],  // row 1\n",
    "     [ [2, 0], [2, 1], [2, 2] ],  // row 2\n",
    "     [ [3, 0], [3, 1], [3, 2] ]]  // row 3\n",
    "    //    \\       \\       \\\n",
    "    //   column 0  \\     column 2\n",
    "    //            column 1\n",
    ">  ```\n",
    "> - The number of *axes* for an array is fixed by its `D` type parameter: `Ix1` for a 1D array, `Ix2` for a 2D array etc. The dimension type `IxDyn` allows a dynamic number of axes.\n",
    "> - A fixed size array (`[usize; N]`) of the corresponding dimensionality is used to index the `Array`, making the syntax array `[[ i, j, …]]`\n",
    ">   ```\n",
    "    let mut array = ndarray::Array2::zeros((4, 3));\n",
    "    array[[1, 1]] = 7;\n",
    ">   ```\n",
    "> - The default memory order of an array is *row major* order (a.k.a “c” order), where each row is contiguous in memory. A *column major* (a.k.a. “f” or fortran) memory order array has columns (or, in general, the outermost axis) with contiguous elements.\n",
    "> - The logical order of any array’s elements is the *row major* order (the rightmost index is varying the fastest). The iterators `.iter()`, `.iter_mut()` always adhere to this order, for example.\n",
    "> - Arrays support all **arithmetic operations** the same way: they apply elementwise. Since the trait implementations are hard to overview, here is a summary.\n",
    ">   - [Binary Operators with Two Arrays](https://docs.rs/ndarray/0.15.4/ndarray/struct.ArrayBase.html#binary-operators-with-two-arrays)\n",
    ">   - [Binary Operators with Array and Scalar](https://docs.rs/ndarray/0.15.4/ndarray/struct.ArrayBase.html#binary-operators-with-array-and-scalar)\n",
    ">   - [Unary Operators](https://docs.rs/ndarray/0.15.4/ndarray/struct.ArrayBase.html#unary-operators)\n",
    ">   - [Broadcasting](https://docs.rs/ndarray/0.15.4/ndarray/struct.ArrayBase.html#broadcasting)\n",
    ">   - [Conversions Between Array Types](https://docs.rs/ndarray/0.15.4/ndarray/struct.ArrayBase.html#conversions-between-array-types)\n",
    ">   - [Conversions Between Arrays and Vecs/Slices/Scalars](https://docs.rs/ndarray/0.15.4/ndarray/struct.ArrayBase.html#conversions-between-arrays-and-vecsslicesscalars)\n",
    ">   - [Conversions from Nested Vecs/Arrays](https://docs.rs/ndarray/0.15.4/ndarray/struct.ArrayBase.html#conversions-from-nested-vecsarrays)\n",
    "\n",
    "In above small code snippet to create a two dimesional mutable `array` has been create by calling [`ndarry::Array2`](https://docs.rs/ndarray/0.15.4/ndarray/type.Array2.html), it is a type definition and actually creates an object of type `Array` with dimension `Ix2`: `pub type Array2<A> = Array<A, Ix2>;` but `Array` has no method `zeros()`. `ArrayBase` has a method [`zeros()`](https://docs.rs/ndarray/0.15.4/ndarray/struct.ArrayBase.html#method.zeros). Right, `Array` is a type definiton too: `pub type Array<A, D> = ArrayBase<OwnedRepr<A>, D>;`, \"an array that owns its data uniquely.\"\n",
    "\n",
    "Interesting to study structure [`OwnedRepr`](https://docs.rs/ndarray/0.15.4/ndarray/struct.OwnedRepr.html) for Rust-Newbee like me - a *pointer* of type [NonNull](https://doc.rust-lang.org/std/ptr/struct.NonNull.html):\n",
    "```\n",
    "pub struct OwnedRepr<A> {\n",
    "    ptr: NonNull<A>,\n",
    "    len: usize,\n",
    "    capacity: usize,\n",
    "}\n",
    "```\n",
    "`NonNull` itself is a structure too with a constant pointer of generic type `* const T` and a lot of attributes:\n",
    "```\n",
    "#[stable(feature = \"nonnull\", since = \"1.25.0\")]\n",
    "#[repr(transparent)]\n",
    "#[rustc_layout_scalar_valid_range_start(1)]\n",
    "#[rustc_nonnull_optimization_guaranteed]\n",
    "pub struct NonNull<T: ?Sized> {\n",
    "    pointer: *const T,\n",
    "}\n",
    "```\n",
    "\n",
    "Let's go."
   ]
  },
  {
   "cell_type": "markdown",
   "metadata": {},
   "source": [
    "### NDArray Creating\n",
    "\n",
    "- Constructor methods for one-dimensional arrays.\n",
    "- Constructor methods for two-dimensional arrays.\n",
    "- Constructor methods for n-dimensional arrays.\n",
    "\n",
    "First of all we depend on `ndarray`."
   ]
  },
  {
   "cell_type": "code",
   "execution_count": 12,
   "metadata": {},
   "outputs": [],
   "source": [
    ":dep ndarray = {version = \"0.13.1\"}"
   ]
  },
  {
   "cell_type": "markdown",
   "metadata": {},
   "source": [
    "Create NDArrays with help of\n",
    "- constructor methods\n",
    "  - Create an array with [copies](https://doc.rust-lang.org/nightly/core/clone/trait.Clone.html) of `elem`, shape `shape`.\n",
    "  - Create an array with zeros, shape `shape`.\n",
    "  - Create an array with ones, shape `shape`.\n",
    "  - Create an array with [default value](https://doc.rust-lang.org/nightly/core/default/trait.Default.html), shape `shape`.\n",
    "  - Create an array with values created by function `f` \n",
    "    called with no argument \n",
    "    returning the element to create, shape `shape`.\n",
    "  - Create an array with values created by the function `f`\n",
    "    called with the index of the element to create, shape `shape`.\n",
    "  - Create an array with the given shape from a vector.\n",
    "    (No cloning of elements needed.)\n",
    "  - Create an array with uninitalized elements, shape `shape`.\n",
    "- a function\n",
    "- a marco"
   ]
  },
  {
   "cell_type": "code",
   "execution_count": 13,
   "metadata": {},
   "outputs": [
    {
     "name": "stderr",
     "output_type": "stream",
     "text": [
      "The type of the variable figure was redefined, so was lost.\n",
      "The type of the variable m was redefined, so was lost.\n"
     ]
    },
    {
     "data": {
      "text/plain": [
       "[[1.0, 1.0, 1.0, 1.0],\n",
       " [1.0, 1.0, 1.0, 1.0],\n",
       " [1.0, 1.0, 1.0, 1.0],\n",
       " [1.0, 1.0, 1.0, 1.0]], shape=[4, 4], strides=[4, 1], layout=C (0x1), const ndim=2"
      ]
     },
     "execution_count": 13,
     "metadata": {},
     "output_type": "execute_result"
    }
   ],
   "source": [
    "// same as `ndarray::Array2::<f64>::ones((4,4))`\n",
    "ndarray::Array::<f64, ndarray::Ix2>::from_elem((4,4), 1f64)"
   ]
  },
  {
   "cell_type": "code",
   "execution_count": 14,
   "metadata": {},
   "outputs": [
    {
     "data": {
      "text/plain": [
       "[[[0.0, 0.0, 0.0],\n",
       "  [0.0, 0.0, 0.0],\n",
       "  [0.0, 0.0, 0.0]],\n",
       "\n",
       " [[0.0, 0.0, 0.0],\n",
       "  [0.0, 0.0, 0.0],\n",
       "  [0.0, 0.0, 0.0]],\n",
       "\n",
       " [[0.0, 0.0, 0.0],\n",
       "  [0.0, 0.0, 0.0],\n",
       "  [0.0, 0.0, 0.0]]], shape=[3, 3, 3], strides=[9, 3, 1], layout=C (0x1), const ndim=3"
      ]
     },
     "execution_count": 14,
     "metadata": {},
     "output_type": "execute_result"
    }
   ],
   "source": [
    "// same as `ndarray::Array3::<f32>::zeros((3,3,3))`\n",
    "ndarray::Array::<f32, ndarray::Ix3>::default((3,3,3))"
   ]
  },
  {
   "cell_type": "code",
   "execution_count": 15,
   "metadata": {},
   "outputs": [
    {
     "data": {
      "text/plain": [
       "[[1.0, 2.0, 3.0],\n",
       " [4.0, 5.0, 6.0]], shape=[2, 3], strides=[3, 1], layout=C (0x1), const ndim=2"
      ]
     },
     "execution_count": 15,
     "metadata": {},
     "output_type": "execute_result"
    }
   ],
   "source": [
    "ndarray::arr2(&[[1.,2.,3.],\n",
    "                [4.,5.,6.]])"
   ]
  },
  {
   "cell_type": "code",
   "execution_count": 16,
   "metadata": {
    "scrolled": true
   },
   "outputs": [
    {
     "data": {
      "text/plain": [
       "[[0.0, 0.0, 0.0],\n",
       " [0.0, 0.0, 0.0]], shape=[2, 3], strides=[3, 1], layout=C (0x1), const ndim=2"
      ]
     },
     "execution_count": 16,
     "metadata": {},
     "output_type": "execute_result"
    }
   ],
   "source": [
    "ndarray::array![[0.,0.,0.],\n",
    "                [0.,0.,0.]]"
   ]
  },
  {
   "cell_type": "markdown",
   "metadata": {},
   "source": [
    "### NDArray Working\n",
    "\n",
    "Let us work with dimensions, shapes, and index of arrays.\n",
    "\n",
    "We depend on `ndarray` for sake of completness and create to NDArrays assigning them to variables."
   ]
  },
  {
   "cell_type": "code",
   "execution_count": null,
   "metadata": {
    "scrolled": true
   },
   "outputs": [],
   "source": [
    ":dep ndarray = {version = \"0.13.1\"}\n",
    "\n",
    "let data_1d : ndarray::Array1::<f32> = ndarray::array![1.,2.,3.];\n",
    "\n",
    "let data_2d : ndarray::Array2::<f32> = ndarray::array![[1.,2.,3.],\n",
    "                                                       [4.,5.,6.]];\n",
    "\n",
    "assert_eq!(data_1d.len(), 3);\n",
    "assert_eq!(data_2d.len(), 6);\n",
    "\n",
    "assert_eq!(data_2d.len_of(ndarray::Axis(1)), 3);\n",
    "\n",
    "println!(\"# Dimension\\n\");\n",
    "println!(\"Ix1 Array {:?}\", data_1d.dim());\n",
    "println!(\"Ix2 Array {:?}\", data_2d.dim());\n",
    "println!(\"\");\n",
    "println!(\"# Shape\\n\");\n",
    "println!(\"Ix1 Array {:?}\", data_1d.shape());\n",
    "println!(\"Ix2 Array {:?}\", data_2d.shape());\n",
    "println!(\"\");\n",
    "println!(\"# Strides\\n\");\n",
    "println!(\"Ix1 Array {:?}\", data_1d.strides());\n",
    "println!(\"Ix2 Array {:?}\", data_2d.strides());\n",
    "println!(\"\");\n",
    "println!(\"# Index\\n\");\n",
    "println!(\"First cell of 1D {:?}\", data_1d[0]);\n",
    "println!(\"First cell of 2D {:?}\", data_2d[[0, 0]]);\n",
    "println!(\"Second cell of 1D {:?}\", data_1d[1]);\n",
    "println!(\"Second cell of 2D first row {:?}\", data_2d[[0, 1]]);\n",
    "println!(\"Last cell of 1D {:?}\", data_1d[data_1d.len() - 1]);\n",
    "println!(\"Last cell of 2D first row {:?}\", data_2d[[0, data_2d.len_of(ndarray::Axis(1)) - 1]]);"
   ]
  },
  {
   "cell_type": "code",
   "execution_count": null,
   "metadata": {},
   "outputs": [],
   "source": [
    ":dep ndarray = {version = \"0.13.1\"}\n",
    "\n",
    "let a_2d : ndarray::Array2::<f32> = ndarray::arr2(&[[1., 2.],\n",
    "                                                    [3., 4.]]);\n",
    "\n",
    "// Methods For Arrays\n",
    "\n",
    "/* map by reference */\n",
    "assert_eq!( a_2d.map(|x: &f32| -> f32 {x.powi(2)}), ndarray::arr2(&[[1.,  4.],\n",
    "/* map by value     */                                              [9., 16.]]) );\n",
    "assert_eq!( (&a_2d * &a_2d).mapv(f32::sqrt), a_2d );\n",
    "\n",
    "// To understand primitive type f32's method: fn sqrt(self) -> f32\n",
    "assert_eq!( 2f32.sqrt(), std::f32::consts::SQRT_2 );"
   ]
  },
  {
   "cell_type": "markdown",
   "metadata": {},
   "source": [
    "### NDArray Viewing\n",
    "\n",
    "Let us view into an array with help of [`ArrayView`](https://docs.rs/ndarray/0.15.4/ndarray/type.ArrayView.html) created from an [iterator](https://docs.rs/ndarray/0.15.4/ndarray/struct.ArrayBase.html#loops-producers-and-iterators \"Loops, Producers and Iterators\"), [subview](https://docs.rs/ndarray/0.15.4/ndarray/struct.ArrayBase.html#subviews \"Subviews\") or [slice](https://docs.rs/ndarray/0.15.4/ndarray/struct.ArrayBase.html#slicing \"Slicing\") of an array.\n",
    "\n",
    "Where as a `Array` has a [`OwnedRepr`(esentation)](https://docs.rs/ndarray/0.15.4/ndarray/struct.OwnedRepr.html) of the data a `ArrayView` has a [`ViewRepr`(esentation) ](https://docs.rs/ndarray/0.15.4/ndarray/struct.ViewRepr.html) of the data.\n",
    "\n",
    "We depend on `ndarray` for sake of completness and create to NDArrays assigning them to variables."
   ]
  },
  {
   "cell_type": "markdown",
   "metadata": {},
   "source": [
    "#### Iterating\n",
    "\n",
    "> Using `Zip` is the most general way to apply a procedure across one or several arrays or producers.\n",
    ">\n",
    "> `NdProducer` is like an iterable but for multidimensional data. All producers have dimensions and axes, like an array view, and they can be split and used with parallelization using `Zip`.\n",
    "> In general, the `zip` uses a tuple of producers ([`NdProducer`](https://docs.rs/ndarray/0.13.1/ndarray/trait.NdProducer.html) trait) that all have to be of the same shape. The `NdProducer` implementation defines what its item type is (for example if it's a shared reference, mutable reference or an array view etc).\n",
    "> \n",
    "> For example, `ArrayView<A, D>` is a producer, it has the same dimensions as the array view and for each iteration it produces a reference to the array element (`&A` in this case)."
   ]
  },
  {
   "cell_type": "code",
   "execution_count": null,
   "metadata": {},
   "outputs": [],
   "source": [
    ":dep ndarray = {version = \"0.13.1\"}\n",
    "\n",
    "// Interate over the rows of a 2D array\n",
    "let mut a_2d_rows = ndarray::Array2::<f32>::zeros((3, 2));\n",
    "for mut row in a_2d_rows.genrows_mut() {\n",
    "    row.fill(1.);\n",
    "}\n",
    "a_2d_rows"
   ]
  },
  {
   "cell_type": "code",
   "execution_count": null,
   "metadata": {},
   "outputs": [],
   "source": [
    ":dep ndarray = {version = \"0.13.1\"}\n",
    "\n",
    "type M = ndarray::Array2<f64>;\n",
    "\n",
    "// Create four 2d arrays of the same size\n",
    "let mut a = M::zeros((4, 2));\n",
    "let b = M::from_elem(a.dim(), 1.);\n",
    "let c = M::from_elem(a.dim(), 2.);\n",
    "let d = M::from_elem(a.dim(), 3.);\n",
    "\n",
    "// Example 1: Perform an elementwise arithmetic operation across\n",
    "// the four arrays a, b, c, d.\n",
    "println!(\"{:?}\", a);\n",
    "ndarray::Zip::from(&mut a)\n",
    "    .and(&b)\n",
    "    .and(&c)\n",
    "    .and(&d)\n",
    "    .apply(|w, &x, &y, &z| {\n",
    "        *w += x + y * z;\n",
    "    });\n",
    "println!(\"{:?}\", a);"
   ]
  },
  {
   "cell_type": "markdown",
   "metadata": {},
   "source": [
    "#### Slicing\n",
    "\n",
    "ndarray macro `s![]` is a slice argument constructor. [`s![]`](https://docs.rs/ndarray/0.15.4/ndarray/macro.s.html) takes a list of ranges/slices/indices/new-axes, separated by comma, with optional step sizes that are separated from the range by a semicolon. It is converted into a `SliceInfo` instance.\n",
    "\n",
    "> The syntax is `s![ [ elem [, elem [ , … ] ] ] ]`, where `elem` is any of the following:\n",
    "> - **index** : an `index` to use for taking a subview with respect to that axis. (The index is selected. The axis is removed except with .slice_collapse().)\n",
    "> - **range** : a `range` with step size 1 to use for slicing that axis.\n",
    "> - **range ; step** : a `range` with step size `step` to use for slicing that axis.\n",
    "> - **slice** : a `Slice` instanc to use for slicing that axis.\n",
    "> - **slice ; step** : a range constructed from a `Slice` instance, multiplying the step size by `step`, to use for slicing that axis.\n",
    "> - **new-axis** : a `NewAxis` instance that represents the creation of a new axis. (Except for `.slice_collapse()`, which panics on `NewAxis` elements.)\n"
   ]
  },
  {
   "cell_type": "code",
   "execution_count": null,
   "metadata": {
    "scrolled": true
   },
   "outputs": [],
   "source": [
    ":dep ndarray = {version = \"0.13.1\"}\n",
    "\n",
    "let a = ndarray::arr2(&[[2., 3., 4., 5.],\n",
    "                        [6., 7., 8., 9.]]);\n",
    "\n",
    "a.slice(ndarray::s![..,1..3])"
   ]
  },
  {
   "cell_type": "markdown",
   "metadata": {},
   "source": [
    "\n",
    "Method [ArrayBase.slice()](https://docs.rs/ndarray/0.15.4/ndarray/struct.ArrayBase.html#method.slice) returns a sliced view of the array. Internally it creates a read-only view of the array and does a [ArrayBase.slice_move()](https://docs.rs/ndarray/0.15.4/ndarray/struct.ArrayBase.html#method.slice_move) method call.\n",
    "\n",
    "In below example rustc says \"`a_3d` does not live long enough\" when it is sliced into a view."
   ]
  },
  {
   "cell_type": "code",
   "execution_count": null,
   "metadata": {},
   "outputs": [],
   "source": [
    ":dep ndarray = {version = \"0.13.1\"}\n",
    "\n",
    "// 2 submatrices of 2 rows with 3 elements per row, means a shape of `[2, 2, 3]`.\n",
    "\n",
    "let a_3d : ndarray::Array3::<i32> = \n",
    "           ndarray::arr3(&[[[ 1,  2,  3],     // -- 2 rows  \\_\n",
    "                            [ 4,  5,  6]],    // --         /\n",
    "                           [[ 7,  8,  9],     //            \\_ 2 submatrices\n",
    "                            [10, 11, 12]]]);  //            /\n",
    "           //  3 columns ..../.../.../\n",
    "assert_eq!(&a_3d.shape(), &[2, 2, 3]);\n",
    "\n",
    "/* \n",
    "   Let’s create a slice with\n",
    "   - Both of the submatrices of the greatest dimension: `..`\n",
    "   - Only the first row in each submatrix: `0..1`\n",
    "   - Every element in each row: `..`\n",
    "*/\n",
    "\n",
    "{\n",
    "    let b_arr : ndarray::ArrayView3<i32> = \n",
    "                a_3d.slice(ndarray::s![.., 0..1, ..]);\n",
    "    let c_arr : ndarray::Array3<i32> = \n",
    "                ndarray::arr3(&[[[ 1,  2,  3]],\n",
    "                                [[ 7,  8,  9]]]);\n",
    "    assert_eq!(b_arr, c_arr);\n",
    "    assert_eq!(b_arr.shape(), &[2, 1, 3]);\n",
    "}\n",
    "/* \n",
    "   Without limiting the scope `{}` of `b_arr`\n",
    "   We've got following error I don't know to solve (`rustc --explain E0597`):\n",
    "   ```\n",
    "            a_3d.slice(ndarray::s![.., 0..1, ..]);\n",
    "            ^^^^^^^^^^^^^^^^^^^^^^^^^^^^^^^^^^^^^ borrowed value does not live long enough\n",
    "            a_3d.slice(ndarray::s![.., 0..1, ..]);\n",
    "            ^^^^^^^^^^^^^^^^^^^^^^^^^^^^^^^^^^^^^ argument requires that `a_3d` is borrowed for `'static`\n",
    "   `a_3d` does not live long enough\n",
    "   ```\n",
    "   I guess it's a nature of `evcxr` in which a variable has a longer scope as the cell.\n",
    "*/"
   ]
  },
  {
   "cell_type": "markdown",
   "metadata": {},
   "source": [
    "### NDArray Calculating\n",
    "\n",
    "Numerical Methods for Arrays (and Axis)\n",
    "- sum\n",
    "- mean\n",
    "- product\n",
    "- var\n",
    "- std\n",
    "\n",
    "\n",
    "Binary Array and Array\n",
    "\n",
    "> Let `A` be an array or view of any kind. Let `B` be an array with *owned storage* (either `Array` or `ArcArray`). Let `C` be an array with *mutable data* (either `Array`, `ArcArray` or `ArrayViewMut`). The following combinations of operands are supported for an arbitrary binary operator denoted by `@` (it can be `+`, `-`, `*`, `/` and so on).\n",
    "> - `&A @ &A` which produces a new Array\n",
    "> - `B @ A` which consumes B, updates it with the result, and returns it\n",
    "> - `B @ &A` which consumes B, updates it with the result, and returns it\n",
    "> - `C @= &A` which performs an arithmetic operation in place\n",
    "\n",
    "Binary Array and Scalar\n",
    "\n",
    "> For a scalar K the following combinations of operands are supported (scalar can be on either the left or right side, but ScalarOperand docs has the detailed condtions).\n",
    "> - `&A @ K` or `K @ &A` which produces a new Array\n",
    "> - `B @ K` or `K @ B` which consumes B, updates it with the result and returns it\n",
    "> - `C @= K` which performs an arithmetic operation in place\n",
    "\n",
    "Unary\n",
    "\n",
    "> Let `A` be an array or view of any kind. Let `B` be an array with *owned storage* (either `Array` or `ArcArray`). The following operands are supported for an arbitrary unary operator denoted by `@` (it can be `-` or `!`).\n",
    "> - `@&A` which produces a new Array\n",
    "> - `@B` which consumes B, updates it with the result, and returns it\n",
    "\n",
    "\n",
    "Broadcast ([element-wise product, Schur product, Hadamard product](https://en.wikipedia.org/wiki/Hadamard_product_(matrices)#In_programming_languages))"
   ]
  },
  {
   "cell_type": "code",
   "execution_count": null,
   "metadata": {},
   "outputs": [],
   "source": [
    ":dep ndarray = {version = \"0.13.1\"}\n",
    "\n",
    "let a_2d : ndarray::Array2::<f32> = ndarray::arr2(&[[1., 2.],\n",
    "                                                    [3., 4.]]);\n",
    "\n",
    "// Numerical Methods for Arrays\n",
    "assert_eq!( a_2d.sum(),                      10. );\n",
    "assert_eq!( a_2d.sum_axis(ndarray::Axis(0)), ndarray::arr1(&[4., 6.]) );\n",
    "assert_eq!( a_2d.sum_axis(ndarray::Axis(1)), ndarray::arr1(&[3., 7.]) );\n",
    "\n",
    "// we refernce `a` to avoid being consumed after first operation\n",
    "assert_eq!( &a_2d + 1.   , ndarray::arr2(&[[2., 3.],\n",
    "                                           [4., 5.]]) );\n",
    "assert_eq!( &a_2d + &a_2d, ndarray::arr2(&[[2., 4.],\n",
    "                                           [6., 8.]]) );\n",
    "assert_eq!( &a_2d * &a_2d, ndarray::arr2(&[[1.,  4.],\n",
    "                                           [9., 16.]]) );\n",
    "assert_eq!( &a_2d / &a_2d, ndarray::arr2(&[[1., 1.],\n",
    "                                           [1., 1.]]) );\n",
    "assert_eq!( &a_2d - &a_2d, ndarray::Array2::<f32>::zeros((2, 2)) );\n",
    "\n",
    "let a_1d : ndarray::Array1::<f32> = ndarray::array![1., 2.];\n",
    "\n",
    "assert_eq!( &a_2d + &a_1d, ndarray::arr2(&[[2., 4.],\n",
    "                                           [4., 6.]]) );\n",
    "assert_eq!( &a_2d * &a_1d, ndarray::arr2(&[[1., 4.],\n",
    "                                           [3., 8.]]) );\n",
    "assert_eq!( &a_2d / &a_1d, ndarray::arr2(&[[1., 1.], \n",
    "                                           [3., 2.]]) );\n",
    "assert_eq!( &a_2d - &a_1d, ndarray::arr2(&[[0., 0.], [2., 2.]]) );\n",
    "\n",
    "assert_eq!( a_2d.mean_axis(ndarray::Axis(0)).unwrap(), \n",
    "            ndarray::arr1(&[2.0, 3.0]) );\n",
    "assert_eq!( a_2d.mean_axis(ndarray::Axis(1)).unwrap(), \n",
    "            ndarray::arr1(&[1.5, 3.5]) );"
   ]
  },
  {
   "cell_type": "markdown",
   "metadata": {},
   "source": [
    "### NDArray Display\n",
    "\n",
    "Dr. Shahin Rostami provides following [function `darn::show_array()`](https://github.com/shahinrostami/darn/blob/c1209a5dbd466803f90ca1003d88d4fa9570a27a/src/lib.rs#L120) in his crate `darn`. Similar to `plotters`'s `evcxr_figure()`, and `plotly`'s `display_notebook()` function this function makes us of `evcxr_jupyter`'s cutom output.\n",
    "\n",
    "The type of a NDArray container is required to implement the trait `std::fmt::Debug`. In our example type `f32` has [the implementation](https://doc.rust-lang.org/std/primitive.f32.html#impl-Debug)."
   ]
  },
  {
   "cell_type": "code",
   "execution_count": null,
   "metadata": {},
   "outputs": [],
   "source": [
    ":dep ndarray = {version = \"0.13.1\"}\n",
    "\n",
    "pub fn display_ndarray<T: std::fmt::Debug>(values: ndarray::Array2<T>) {\n",
    "    let mut html = String::new();\n",
    "    html.push_str(&format!(\"<table title=\\\"shape={:?}, strides={:?}\\\">\", \n",
    "                           values.shape(), \n",
    "                           values.strides(),));\n",
    "    for r in 0..(values.shape()[0]) {\n",
    "        html.push_str(\"<tr>\");\n",
    "        for c in 0..values.shape()[1] {\n",
    "            html.push_str(\"<td>\");\n",
    "            html.push_str(&format!(\"{:?}\", values[[r, c]]));\n",
    "            html.push_str(\"</td>\");\n",
    "        }\n",
    "        html.push_str(\"</tr>\");            \n",
    "    }\n",
    "    html.push_str(\"</table>\");\n",
    "    println!(\"EVCXR_BEGIN_CONTENT text/html\\n{}\\nEVCXR_END_CONTENT\", html);\n",
    "}\n",
    "\n",
    "let data_2d : ndarray::Array2::<f32> = \n",
    "    ndarray::array![[ 1., 2., 3., 4., 5., 6., 7., 8., 9.,10.],\n",
    "                    [11.,12.,13.,14.,15.,16.,17.,18.,19.,20.]];\n",
    "\n",
    "display_ndarray(data_2d);"
   ]
  },
  {
   "cell_type": "markdown",
   "metadata": {},
   "source": [
    "### NDArray Typing\n",
    "\n",
    "Originally I wanted to follow [Mr. Rostami's](https://datacrayon.com/posts/programming/rust-notebooks/typed-arrays-from-string-arrays-for-dataset-operation/) next page on converting parts of the Iris data set into types specific of columns. I don't understand the method selected to create a new data set [`ndarray::stack![]`](https://docs.rs/ndarray/0.15.4/ndarray/macro.stack.html): stack arrays along the new axis. The original string data is accessed with help of method [`column(ndarray::Ix)`](https://docs.rs/ndarray/0.15.4/ndarray/struct.ArrayBase.html#method.column): return an array view of column `index`.\n",
    "\n",
    "I will go and give Slice a try for selection. \n",
    "\n",
    "... and ran into an issue of primitive type's `f32` [implementation](https://doc.rust-lang.org/std/primitive.f32.html#impl-FromStr) of trait `FromStr` which not only has a required method `from_str()` but also an [associated type](https://doc.rust-lang.org/std/str/trait.FromStr.html#associated-types) `Err` ..."
   ]
  },
  {
   "cell_type": "code",
   "execution_count": null,
   "metadata": {
    "scrolled": true
   },
   "outputs": [],
   "source": [
    ":dep ndarray = {version = \"0.13.1\"}\n",
    "\n",
    "let a = ndarray::arr2(&[[\"2.0\", \"3.0\", \"4.0\", \"5.0\"],\n",
    "                        [\"6.0\", \"7.0\", \"8.0\", \"9.0\"]]);\n",
    "\n",
    "a.slice(ndarray::s![..,1..3]).mapv(|elem: &str| -> f32 {f32::from_str(elem).unwrap()})"
   ]
  },
  {
   "cell_type": "markdown",
   "metadata": {},
   "source": [
    "As I'm still in learning mode I'd like to avoid the `use` decaration where ever possible. This makes the code not readable - as Rust's sugar is missing - but more understandable in terms of utilized crates and their items. As side effect you often cannot not use the [dot-operator](https://doc.rust-lang.org/stable/nomicon/dot-operator.html) and thus to learn \"essential Rust\"."
   ]
  },
  {
   "cell_type": "code",
   "execution_count": null,
   "metadata": {
    "scrolled": true
   },
   "outputs": [],
   "source": [
    "std::str::FromStr::f32::from_str(\"2.0\")"
   ]
  },
  {
   "cell_type": "markdown",
   "metadata": {},
   "source": [
    "`rustc`'s first help drew my attention to associated types.\n",
    "\n",
    "Associated types are decribed in Rust's reference with an [container example](https://doc.rust-lang.org/reference/items/associated-items.html#associated-types-container-example). The example unfortunately does not apply the sample trait implementation."
   ]
  },
  {
   "cell_type": "code",
   "execution_count": null,
   "metadata": {},
   "outputs": [],
   "source": [
    "trait Container {\n",
    "    type E;\n",
    "    fn empty() -> Self;\n",
    "    fn insert(&mut self, elem: Self::E);\n",
    "}\n",
    "\n",
    "\n",
    "impl<T> Container for Vec<T> {\n",
    "    type E = T;\n",
    "    fn empty() -> Vec<T> { Vec::<T>::new() }\n",
    "    fn insert(&mut self, x: T) {self.push(x); }\n",
    "}"
   ]
  },
  {
   "cell_type": "markdown",
   "metadata": {},
   "source": [
    " Here is one of my tries similar to the one above with `std::str::FromStr`. "
   ]
  },
  {
   "cell_type": "code",
   "execution_count": null,
   "metadata": {},
   "outputs": [],
   "source": [
    "let mut a_vec : Vec<f32> = Container::Vec::f32::empty();"
   ]
  },
  {
   "cell_type": "code",
   "execution_count": null,
   "metadata": {},
   "outputs": [],
   "source": [
    "/* \n",
    "  Following statement took me hours to find \n",
    "  after I had been misleaded by rustc's second help:\n",
    "  >  help: use fully-qualified syntax\n",
    "  >\n",
    "  >  <dyn Container as Trait>::Vec\n",
    "*/\n",
    "let mut a_vec : Vec<f32> = <Vec::<f32> as Container>::empty();\n",
    "<Vec::<f32> as Container>::insert(&mut a_vec, 3f32);\n",
    "a_vec"
   ]
  },
  {
   "cell_type": "markdown",
   "metadata": {},
   "source": [
    "Coming back to our original issue when we wanted to create primitive type `f32` from `str` slice without using a `use` declaration. Somehow with this statement the associated type is specified too. I guess this is because `rustc` finds the right implementation which specifies `type Err = ParseFloatError;`."
   ]
  },
  {
   "cell_type": "code",
   "execution_count": null,
   "metadata": {},
   "outputs": [],
   "source": [
    "<f32 as std::str::FromStr>::from_str(\"2.0\")"
   ]
  },
  {
   "cell_type": "code",
   "execution_count": null,
   "metadata": {},
   "outputs": [],
   "source": [
    ":dep ndarray = {version = \"0.13.1\"}\n",
    "\n",
    "let a : ndarray::Array2<&str> = \n",
    "        ndarray::arr2(&[[\"2.0\", \"3.0\", \"4.0\", \"5.0\"],\n",
    "                        [\"6.0\", \"7.0\", \"8.0\", \"9.0\"]]);\n",
    "\n",
    "a.slice(ndarray::s![..,1..3]).mapv(\n",
    "    |elem: &str| -> f32 {\n",
    "        <f32 as std::str::FromStr>::from_str(elem).unwrap()\n",
    "    }\n",
    ")"
   ]
  },
  {
   "cell_type": "markdown",
   "metadata": {},
   "source": [
    "## Foreign Function Interface\n",
    "\n",
    "[FFI mdoule](https://doc.rust-lang.org/std/ffi/index.html) \"provides utilities to handle data across non-Rust interfaces, like other programming languages and the underlying operating system.\"\n",
    "\n",
    "Rust represents \n",
    "- owned strings with the [String](https://doc.rust-lang.org/std/string/struct.String.html) type, \n",
    "- and borrowed slices of strings with the [str](https://doc.rust-lang.org/std/primitive.str.html) primitive type. \n",
    "\n",
    "[The Rustonomicon](https://doc.rust-lang.org/nomicon/ffi.html) as well as [Rust by Example](https://doc.rust-lang.org/rust-by-example/std_misc/ffi.html) has sample code.\n",
    "\n",
    "Following Rust code runs only once. As soon as EVCXR has compiled the code after jupyter-kernel start it executes. When the jupyter-cell is then revisit it generates an error complaining that C-function `fn csqrtf(z: Complex) -> Complex;` and `fn ccosf(z: Complex) -> Complex;` is redefined."
   ]
  },
  {
   "cell_type": "code",
   "execution_count": null,
   "metadata": {},
   "outputs": [],
   "source": [
    "// this extern block links to the libm library\n",
    "#[link(name = \"m\")]\n",
    "extern {\n",
    "    // this is a foreign function\n",
    "    // that computes the square root of a single precision complex number\n",
    "    fn csqrtf(z: Complex) -> Complex;\n",
    "\n",
    "    fn ccosf(z: Complex) -> Complex;\n",
    "}\n",
    "\n",
    "// Since calling foreign functions is considered unsafe,\n",
    "// it's common to write safe wrappers around them.\n",
    "fn cos(z: Complex) -> Complex {\n",
    "    unsafe { ccosf(z) }\n",
    "}\n",
    "\n",
    "// Minimal implementation of single precision complex numbers\n",
    "#[repr(C)]\n",
    "#[derive(Clone, Copy)]\n",
    "struct Complex {\n",
    "    re: f32,\n",
    "    im: f32,\n",
    "}\n",
    "\n",
    "impl std::fmt::Debug for Complex {\n",
    "    fn fmt(&self, f: &mut std::fmt::Formatter) -> std::fmt::Result {\n",
    "        if self.im < 0. {\n",
    "            write!(f, \"{}-{}i\", self.re, -self.im)\n",
    "        } else {\n",
    "            write!(f, \"{}+{}i\", self.re, self.im)\n",
    "        }\n",
    "    }\n",
    "}\n",
    "\n",
    "{\n",
    "    // z = -1 + 0i\n",
    "    let z = Complex { re: -1., im: 0. };\n",
    "\n",
    "    // calling a foreign function is an unsafe operation\n",
    "    let z_sqrt = unsafe { csqrtf(z) };\n",
    "\n",
    "    println!(\"the square root of {:?} is {:?}\", z, z_sqrt);\n",
    "\n",
    "    // calling safe API wrapped around unsafe operation\n",
    "    println!(\"cos({:?}) = {:?}\", z, cos(z));\n",
    "}\n"
   ]
  },
  {
   "cell_type": "code",
   "execution_count": null,
   "metadata": {},
   "outputs": [],
   "source": []
  }
 ],
 "metadata": {
  "kernelspec": {
   "display_name": "Rust",
   "language": "rust",
   "name": "rust"
  },
  "language_info": {
   "codemirror_mode": "rust",
   "file_extension": ".rs",
   "mimetype": "text/rust",
   "name": "Rust",
   "pygment_lexer": "rust",
   "version": ""
  }
 },
 "nbformat": 4,
 "nbformat_minor": 4
}

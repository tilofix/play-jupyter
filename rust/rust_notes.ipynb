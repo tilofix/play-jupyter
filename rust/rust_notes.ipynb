{
 "cells": [
  {
   "cell_type": "markdown",
   "metadata": {},
   "source": [
    "# Notes on Rust"
   ]
  },
  {
   "cell_type": "markdown",
   "metadata": {},
   "source": [
    "## Make Jupyter knows Rust\n",
    "\n",
    "Running this notebook requires Rust's jupyter kernel installed through `cargo` build chain which requires the Rust ecosystem.\n",
    "- install system dependency `sudo pamac install cmake` \n",
    "- install the jupyter-kernel `cargo install evcxr_jupyter`\n",
    "  ```\n",
    "    Updating crates.io index\n",
    "    Installing evcxr_jupyter v0.7.0\n",
    "     Compiling libc v0.2.81\n",
    "     ...\n",
    "     Compiling evcxr_jupyter v0.7.0\n",
    "     Finished release [optimized] target(s) in 3m 46s\n",
    "    Installing /home/tilo/.cargo/bin/evcxr_jupyter\n",
    "     Installed package `evcxr_jupyter v0.7.0` (executable `evcxr_jupyter`)\n",
    "  ```\n",
    "\n",
    "- activate jupyter-kernle ` ~/.cargo/bin/evcxr_jupyter --install` \n",
    "  ```\n",
    "    Writing /home/tilo/.local/share/jupyter/kernels/rust/kernel.json\n",
    "    Writing /home/tilo/.local/share/jupyter/kernels/rust/logo-32x32.png\n",
    "    Writing /home/tilo/.local/share/jupyter/kernels/rust/logo-64x64.png\n",
    "    Writing /home/tilo/.local/share/jupyter/kernels/rust/logo-LICENSE.md\n",
    "    Installation complete\n",
    "  ```\n"
   ]
  },
  {
   "cell_type": "code",
   "execution_count": 2,
   "metadata": {},
   "outputs": [],
   "source": [
    "const msg: &str = \"Hello EvCxR\";"
   ]
  },
  {
   "cell_type": "code",
   "execution_count": 3,
   "metadata": {},
   "outputs": [
    {
     "data": {
      "text/plain": [
       "\"Hello EvCxR\""
      ]
     },
     "execution_count": 3,
     "metadata": {},
     "output_type": "execute_result"
    }
   ],
   "source": [
    "msg"
   ]
  },
  {
   "cell_type": "markdown",
   "metadata": {},
   "source": [
    "## Display rustc version\n",
    "\n",
    "Followed [this advise: How can a Rust program access metadata from its Cargo package?](https://stackoverflow.com/questions/27840394/how-can-a-rust-program-access-metadata-from-its-cargo-package) and found function in module `std::env`."
   ]
  },
  {
   "cell_type": "code",
   "execution_count": 4,
   "metadata": {},
   "outputs": [
    {
     "data": {
      "text/plain": [
       "\"/tmp/.tmpBfUJBW\""
      ]
     },
     "execution_count": 4,
     "metadata": {},
     "output_type": "execute_result"
    }
   ],
   "source": [
    "std::env!(\"CARGO_MANIFEST_DIR\", \"none\")"
   ]
  },
  {
   "cell_type": "code",
   "execution_count": 5,
   "metadata": {},
   "outputs": [
    {
     "data": {
      "text/plain": [
       "\"ctx\""
      ]
     },
     "execution_count": 5,
     "metadata": {},
     "output_type": "execute_result"
    }
   ],
   "source": [
    "std::env!(\"CARGO_PKG_NAME\", \"none\")"
   ]
  },
  {
   "cell_type": "code",
   "execution_count": 6,
   "metadata": {},
   "outputs": [
    {
     "data": {
      "text/plain": [
       "\"CARGO_MANIFEST_DIR\""
      ]
     },
     "execution_count": 6,
     "metadata": {},
     "output_type": "execute_result"
    }
   ],
   "source": [
    "let env_vars  = vec!(\"CARGO_MANIFEST_DIR\",\"CARGO_PKG_AUTHORS\",\"CARGO_PKG_DESCRIPTION\",\"CARGO_PKG_HOMEPAGE\",\"CARGO_PKG_NAME\",\"CARGO_PKG_REPOSITORY\",\"CARGO_PKG_VERSION\",\"CARGO_PKG_VERSION_MAJOR\",\"CARGO_PKG_VERSION_MINOR\",\"CARGO_PKG_VERSION_PATCH\",\"CARGO_PKG_VERSION_PRE\");\n",
    "env_vars[0]"
   ]
  },
  {
   "cell_type": "code",
   "execution_count": 7,
   "metadata": {},
   "outputs": [
    {
     "ename": "Error",
     "evalue": "expected string literal",
     "output_type": "error",
     "traceback": [
      "for var in env_vars {println!(\"{} : {}\", var, std::env!(var, \"none\"))}",
      "\u001b[91m                                                        ^^^\u001b[0m \u001b[94m\u001b[0m",
      "expected string literal"
     ]
    }
   ],
   "source": [
    "for var in env_vars {println!(\"{} : {}\", var, std::env!(var, \"none\"))}"
   ]
  },
  {
   "cell_type": "markdown",
   "metadata": {},
   "source": [
    "Don't know how to solve this for now. From type point of view both are string slices, the literal as well as array member."
   ]
  },
  {
   "cell_type": "code",
   "execution_count": 8,
   "metadata": {},
   "outputs": [
    {
     "data": {
      "text/plain": [
       "TypeId { t: 12392834530613204498 }"
      ]
     },
     "execution_count": 8,
     "metadata": {},
     "output_type": "execute_result"
    }
   ],
   "source": [
    "std::any::Any::type_id(env_vars[0])"
   ]
  },
  {
   "cell_type": "code",
   "execution_count": 9,
   "metadata": {
    "scrolled": true
   },
   "outputs": [
    {
     "data": {
      "text/plain": [
       "TypeId { t: 12392834530613204498 }"
      ]
     },
     "execution_count": 9,
     "metadata": {},
     "output_type": "execute_result"
    }
   ],
   "source": [
    "std::any::Any::type_id(\"CARGO_MANIFEST_DIR\")"
   ]
  },
  {
   "cell_type": "markdown",
   "metadata": {},
   "source": [
    "Let's resolve type's name."
   ]
  },
  {
   "cell_type": "code",
   "execution_count": 10,
   "metadata": {},
   "outputs": [
    {
     "ename": "Error",
     "evalue": "use of unstable library feature 'type_name_of_val'",
     "output_type": "error",
     "traceback": [
      "std::any::type_name_of_val(env_vars[0])",
      "\u001b[91m^^^^^^^^^^^^^^^^^^^^^^^^^^\u001b[0m \u001b[94m\u001b[0m",
      "use of unstable library feature 'type_name_of_val'"
     ]
    }
   ],
   "source": [
    "std::any::type_name_of_val(env_vars[0])"
   ]
  },
  {
   "cell_type": "markdown",
   "metadata": {},
   "source": [
    "Following `evcxr` command `:toolchain` requires toolchain \"nightly\" to be installed on the system.\n",
    "\n",
    "```\n",
    "    :toolchain nightly\n",
    "    Toolchain: nightly\n",
    "   \n",
    "    #![feature(type_name_of_val)]\n",
    "    let nightly_env_vars  =   vec!(\"CARGO_MANIFEST_DIR\");\n",
    "    std::any::type_name_of_val(nightly_env_vars[0])\n",
    "    \"str\"\n",
    "    \n",
    "    #![feature(type_name_of_val)]\n",
    "    std::any::type_name_of_val(\"CARGO_MANIFEST_DIR\")\n",
    "    \"str\"\n",
    "```"
   ]
  },
  {
   "cell_type": "markdown",
   "metadata": {},
   "source": [
    "## Plotting with Plotters\n",
    "\n",
    "A copy for evaluation from [Data Analysis with Rust Notebooks](https://datacrayon.com/posts/programming/rust-notebooks/plotting-with-plotters/) by Data Crayon.\n",
    "\n",
    "See also:\n",
    "- [Crate plotters - A Rust drawing library focus on data plotting for both WASM and native applications](https://docs.rs/plotters/latest/plotters/index.html)\n",
    "- [Developers Guide](https://plotters-rs.github.io/book/)\n",
    "\n",
    "Plotters: \"Because `evcxr` uses only SVG images and all types of series, so we don't need other types of backend. So we should put `default_features = false, features = [\"evcxr\", \"all_series\"]`\" when dependency `plotters` is to be loaded into `evcxr`.\n",
    "\n",
    "Function [`evcxr_figure()`](https://github.com/38/plotters/blob/26b24b1d30521af98e957a3a907d76b038e66c54/src/evcxr.rs#L31) is the integration provided by `plotters` with `evcxr` and is compiled in when [feature `evcxr` is configured](https://github.com/38/plotters/blob/26b24b1d30521af98e957a3a907d76b038e66c54/src/lib.rs#L748). It has following signature: \n",
    "\n",
    "> `pub fn plotters::evcxr::evcxr_figure<\n",
    "     Draw: FnOnce(plotters::drawing::DrawingArea<\n",
    "                    plotters::prelude::SVGBackend, \n",
    "                    plotters::coord::Shift>\n",
    "                 ) -> Result<\n",
    "                        (),\n",
    "                        Box<dyn std::error::Error>>\n",
    "    >(size: (u32, u32), draw: Draw) -> plotters::evcxr::SVGWrapper`. \n",
    "\n",
    "`evcxr_figure()` takes as arguments the size of the a drawing area and a [closure expression](https://doc.rust-lang.org/reference/expressions/closure-expr.html) creating an annonymous type implementing trait [`FnOnce`](https://doc.rust-lang.org/std/ops/trait.FnOnce.html) with it's method `call_once()` performing the call operation. `evcxr_figure()` returns an object of type `SVGWrapper` which implements following methods:\n",
    "- `pub fn evcxr_display(&self)`,\n",
    "- `pub fn style<S: Into<String>>(mut self, style: S) -> Self`\n",
    "\n",
    "and which implements finally the `std::fmt::Debug` trait according to the convention described by [`evcxr_jupyter` for custom output](https://github.com/google/evcxr/blob/38981aeccd20f9bb1bad65cd6d47ed8898caa2a6/evcxr_jupyter/README.md#custom-output). \n",
    "\n",
    "In the function to create a figure to be displayed by `evcxr_jupyter` following steps are taken:\n",
    "1. [The abstraction of a drawing area](https://docs.rs/plotters/latest/plotters/drawing/struct.DrawingArea.html) is hand over as variable `root` and with help of it's method [filled](https://docs.rs/plotters/latest/plotters/drawing/struct.DrawingArea.html#method.fill) in color [white](https://docs.rs/plotters/latest/plotters/style/colors/constant.WHITE.html).\n",
    "2. A [helper object to create a chart context](https://docs.rs/plotters/latest/plotters/chart/struct.ChartBuilder.html) is created with its method [on](https://docs.rs/plotters/latest/plotters/chart/struct.ChartBuilder.html#method.on) returning the chart builder followed by chain of method calls:\n",
    "  - [The caption of the chart with a text style](https://docs.rs/plotters/latest/plotters/chart/struct.ChartBuilder.html#method.caption) is set returning the chart builder instance.\n",
    "  - [The margin size of the chart](https://docs.rs/plotters/latest/plotters/chart/struct.ChartBuilder.html#method.margin) is set returning the chart builder instance.\n",
    "  - [The size of X label area](https://docs.rs/plotters/latest/plotters/chart/struct.ChartBuilder.html#method.x_label_area_size) is set returning the chart builder instance.\n",
    "  - [The size of the Y label area](https://docs.rs/plotters/latest/plotters/chart/struct.ChartBuilder.html#method.y_label_area_size) is set returning the chart builder instance.\n",
    "  - And finally [build the chart with a 2D Cartesian coordinate system.](https://docs.rs/plotters/latest/plotters/chart/struct.ChartBuilder.html#method.build_cartesian_2d) The function will return a `Result` object with either a [ChartContext<'a, DB, Cartesian2d<X::CoordDescType, Y::CoordDescType>](https://docs.rs/plotters/latest/plotters/chart/struct.ChartContext.html), where a data series can be rendered on, or a `DrawingAreaErrorKind<DB::ErrorType>`.\n",
    "3. The [chart context](https://docs.rs/plotters/latest/plotters/chart/struct.ChartContext.html) method [**configure_mesh()**](https://docs.rs/plotters/latest/plotters/chart/struct.ChartContext.html#method.configure_mesh) initializes a mesh configuration object and returning a [MeshStyle](https://docs.rs/plotters/latest/plotters/chart/struct.MeshStyle.html). The mesh drawing can be finalized by calling the MeshStyle's method [draw](https://docs.rs/plotters/latest/plotters/chart/struct.MeshStyle.html#method.draw) which draws the configured mesh on the target plot returning a `Result` object ( either `()` or `DrawingAreaErrorKind<DB::ErrorType>`).\n",
    "4. The [chart context's](https://docs.rs/plotters/latest/plotters/chart/struct.ChartContext.html) method [**draw_series()**](https://docs.rs/plotters/latest/plotters/chart/struct.ChartContext.html#method.draw_series) draws a data series returning a `Result` object with either a [series' annotation](https://docs.rs/plotters/latest/plotters/chart/struct.SeriesAnno.html) or a `DrawingAreaErrorKind<DB::ErrorType>` followed by a chain of method calls. A data series in Plotters is abstracted as an iterator of elements.\n",
    "  - The [line series](https://docs.rs/plotters/latest/plotters/series/struct.LineSeries.html) object is created by method [new](https://docs.rs/plotters/latest/plotters/series/struct.LineSeries.html#method.new), which takes an iterator of points in guest coordinate system with a ShapeStyle and creates the element rendering the line plot. See following piece of code demonstrating the construct of the series is an iterator creating points of an coordinate system.\n",
    "    > `for (x,y) in (-50..=50).map(|x| x as f32 / 50.0).map(|x| (x, x*x)) \n",
    "        {println!(\"{:.2},{:.2}\", x, y)}`\n",
    "    \n",
    "- [The label](https://docs.rs/plotters/latest/plotters/chart/struct.SeriesAnno.html#method.label) sets the string used as a label for current series.\n",
    "  - [The legend](https://docs.rs/plotters/latest/plotters/chart/struct.SeriesAnno.html#method.legend) sets the element creator function. *Note*: The creation function uses a shifted pixel-based coordinate system. And place the point (0,0) to the mid-right point of the shape.\n",
    "5. The [chart context's](https://docs.rs/plotters/latest/plotters/chart/struct.ChartContext.html) method [**configure_series_labels()**](https://docs.rs/plotters/latest/plotters/chart/struct.ChartContext.html#method.configure_series_labels) configures the styles for drawing series labels in the chart and returns a [SeriesLabelStyle](https://docs.rs/plotters/latest/plotters/chart/struct.SeriesLabelStyle.html)  followed by chain of method calls:. \n",
    "  - [The background style](https://docs.rs/plotters/0.3.1/plotters/chart/struct.SeriesLabelStyle.html#method.background_style) is set with [ShapeStyle](https://docs.rs/plotters/0.3.1/plotters/style/struct.ShapeStyle.html) returning the series label of a target chart context,\n",
    "  - [The style of the label series area](https://docs.rs/plotters/0.3.1/plotters/chart/struct.SeriesLabelStyle.html#method.border_style) is set with [ShapeStyle](https://docs.rs/plotters/0.3.1/plotters/style/struct.ShapeStyle.html) returning the series label of a target chart context,\n",
    "  - and finally by calling the SeriesLabelStyle's method [draw](https://docs.rs/plotters/latest/plotters/chart/struct.SeriesLabelStyle.html#method.draw) which draws the series label area returning a `Result` object ( either `()` or `DrawingAreaErrorKind<DB::ErrorType>`).\n",
    "6. The closure \"closes\" with returning an empty tuple, the [`()` type](https://doc.rust-lang.org/std/primitive.unit.html) wrapped in a [ok variant](https://doc.rust-lang.org/std/result/enum.Result.html#variant.Ok) of a `Result` object.\n",
    "\n",
    "Note: `extern` and `use` declarations had been commented out for learning. Thus [namespace paths](https://doc.rust-lang.org/stable/reference/paths.html) are needed to be defined for each `struct` or even `trait`. For instance without either `use plotters::prelude::*;` or `use plotters::style::Color;` the compiler couldn't infer the type implementing [trait method `mix`](https://docs.rs/plotters/0.3.1/plotters/style/trait.Color.html#method.mix). So the  trait method needed to be called explicit with the instance of type [RGBAColor](https://docs.rs/plotters/0.3.1/plotters/style/struct.RGBAColor.html)."
   ]
  },
  {
   "cell_type": "code",
   "execution_count": 15,
   "metadata": {},
   "outputs": [
    {
     "data": {
      "text/html": [
       "<div style=\"\"><svg width=\"640\" height=\"480\" viewBox=\"0 0 640 480\" xmlns=\"http://www.w3.org/2000/svg\">\n",
       "<rect x=\"0\" y=\"0\" width=\"639\" height=\"479\" opacity=\"1\" fill=\"#FFFFFF\" stroke=\"none\"/>\n",
       "<text x=\"320\" y=\"10\" dy=\"0.76em\" text-anchor=\"middle\" font-family=\"Arial\" font-size=\"40.32258064516129\" opacity=\"1\" fill=\"#000000\">\n",
       "y=x^2\n",
       "</text>\n",
       "<line opacity=\"0.1\" stroke=\"#000000\" stroke-width=\"1\" x1=\"41\" y1=\"444\" x2=\"41\" y2=\"55\"/>\n",
       "<line opacity=\"0.1\" stroke=\"#000000\" stroke-width=\"1\" x1=\"47\" y1=\"444\" x2=\"47\" y2=\"55\"/>\n",
       "<line opacity=\"0.1\" stroke=\"#000000\" stroke-width=\"1\" x1=\"53\" y1=\"444\" x2=\"53\" y2=\"55\"/>\n",
       "<line opacity=\"0.1\" stroke=\"#000000\" stroke-width=\"1\" x1=\"59\" y1=\"444\" x2=\"59\" y2=\"55\"/>\n",
       "<line opacity=\"0.1\" stroke=\"#000000\" stroke-width=\"1\" x1=\"65\" y1=\"444\" x2=\"65\" y2=\"55\"/>\n",
       "<line opacity=\"0.1\" stroke=\"#000000\" stroke-width=\"1\" x1=\"71\" y1=\"444\" x2=\"71\" y2=\"55\"/>\n",
       "<line opacity=\"0.1\" stroke=\"#000000\" stroke-width=\"1\" x1=\"77\" y1=\"444\" x2=\"77\" y2=\"55\"/>\n",
       "<line opacity=\"0.1\" stroke=\"#000000\" stroke-width=\"1\" x1=\"83\" y1=\"444\" x2=\"83\" y2=\"55\"/>\n",
       "<line opacity=\"0.1\" stroke=\"#000000\" stroke-width=\"1\" x1=\"89\" y1=\"444\" x2=\"89\" y2=\"55\"/>\n",
       "<line opacity=\"0.1\" stroke=\"#000000\" stroke-width=\"1\" x1=\"95\" y1=\"444\" x2=\"95\" y2=\"55\"/>\n",
       "<line opacity=\"0.1\" stroke=\"#000000\" stroke-width=\"1\" x1=\"101\" y1=\"444\" x2=\"101\" y2=\"55\"/>\n",
       "<line opacity=\"0.1\" stroke=\"#000000\" stroke-width=\"1\" x1=\"107\" y1=\"444\" x2=\"107\" y2=\"55\"/>\n",
       "<line opacity=\"0.1\" stroke=\"#000000\" stroke-width=\"1\" x1=\"113\" y1=\"444\" x2=\"113\" y2=\"55\"/>\n",
       "<line opacity=\"0.1\" stroke=\"#000000\" stroke-width=\"1\" x1=\"119\" y1=\"444\" x2=\"119\" y2=\"55\"/>\n",
       "<line opacity=\"0.1\" stroke=\"#000000\" stroke-width=\"1\" x1=\"125\" y1=\"444\" x2=\"125\" y2=\"55\"/>\n",
       "<line opacity=\"0.1\" stroke=\"#000000\" stroke-width=\"1\" x1=\"131\" y1=\"444\" x2=\"131\" y2=\"55\"/>\n",
       "<line opacity=\"0.1\" stroke=\"#000000\" stroke-width=\"1\" x1=\"137\" y1=\"444\" x2=\"137\" y2=\"55\"/>\n",
       "<line opacity=\"0.1\" stroke=\"#000000\" stroke-width=\"1\" x1=\"143\" y1=\"444\" x2=\"143\" y2=\"55\"/>\n",
       "<line opacity=\"0.1\" stroke=\"#000000\" stroke-width=\"1\" x1=\"149\" y1=\"444\" x2=\"149\" y2=\"55\"/>\n",
       "<line opacity=\"0.1\" stroke=\"#000000\" stroke-width=\"1\" x1=\"155\" y1=\"444\" x2=\"155\" y2=\"55\"/>\n",
       "<line opacity=\"0.1\" stroke=\"#000000\" stroke-width=\"1\" x1=\"161\" y1=\"444\" x2=\"161\" y2=\"55\"/>\n",
       "<line opacity=\"0.1\" stroke=\"#000000\" stroke-width=\"1\" x1=\"167\" y1=\"444\" x2=\"167\" y2=\"55\"/>\n",
       "<line opacity=\"0.1\" stroke=\"#000000\" stroke-width=\"1\" x1=\"173\" y1=\"444\" x2=\"173\" y2=\"55\"/>\n",
       "<line opacity=\"0.1\" stroke=\"#000000\" stroke-width=\"1\" x1=\"179\" y1=\"444\" x2=\"179\" y2=\"55\"/>\n",
       "<line opacity=\"0.1\" stroke=\"#000000\" stroke-width=\"1\" x1=\"185\" y1=\"444\" x2=\"185\" y2=\"55\"/>\n",
       "<line opacity=\"0.1\" stroke=\"#000000\" stroke-width=\"1\" x1=\"191\" y1=\"444\" x2=\"191\" y2=\"55\"/>\n",
       "<line opacity=\"0.1\" stroke=\"#000000\" stroke-width=\"1\" x1=\"197\" y1=\"444\" x2=\"197\" y2=\"55\"/>\n",
       "<line opacity=\"0.1\" stroke=\"#000000\" stroke-width=\"1\" x1=\"203\" y1=\"444\" x2=\"203\" y2=\"55\"/>\n",
       "<line opacity=\"0.1\" stroke=\"#000000\" stroke-width=\"1\" x1=\"209\" y1=\"444\" x2=\"209\" y2=\"55\"/>\n",
       "<line opacity=\"0.1\" stroke=\"#000000\" stroke-width=\"1\" x1=\"215\" y1=\"444\" x2=\"215\" y2=\"55\"/>\n",
       "<line opacity=\"0.1\" stroke=\"#000000\" stroke-width=\"1\" x1=\"221\" y1=\"444\" x2=\"221\" y2=\"55\"/>\n",
       "<line opacity=\"0.1\" stroke=\"#000000\" stroke-width=\"1\" x1=\"227\" y1=\"444\" x2=\"227\" y2=\"55\"/>\n",
       "<line opacity=\"0.1\" stroke=\"#000000\" stroke-width=\"1\" x1=\"233\" y1=\"444\" x2=\"233\" y2=\"55\"/>\n",
       "<line opacity=\"0.1\" stroke=\"#000000\" stroke-width=\"1\" x1=\"239\" y1=\"444\" x2=\"239\" y2=\"55\"/>\n",
       "<line opacity=\"0.1\" stroke=\"#000000\" stroke-width=\"1\" x1=\"245\" y1=\"444\" x2=\"245\" y2=\"55\"/>\n",
       "<line opacity=\"0.1\" stroke=\"#000000\" stroke-width=\"1\" x1=\"251\" y1=\"444\" x2=\"251\" y2=\"55\"/>\n",
       "<line opacity=\"0.1\" stroke=\"#000000\" stroke-width=\"1\" x1=\"257\" y1=\"444\" x2=\"257\" y2=\"55\"/>\n",
       "<line opacity=\"0.1\" stroke=\"#000000\" stroke-width=\"1\" x1=\"263\" y1=\"444\" x2=\"263\" y2=\"55\"/>\n",
       "<line opacity=\"0.1\" stroke=\"#000000\" stroke-width=\"1\" x1=\"269\" y1=\"444\" x2=\"269\" y2=\"55\"/>\n",
       "<line opacity=\"0.1\" stroke=\"#000000\" stroke-width=\"1\" x1=\"275\" y1=\"444\" x2=\"275\" y2=\"55\"/>\n",
       "<line opacity=\"0.1\" stroke=\"#000000\" stroke-width=\"1\" x1=\"281\" y1=\"444\" x2=\"281\" y2=\"55\"/>\n",
       "<line opacity=\"0.1\" stroke=\"#000000\" stroke-width=\"1\" x1=\"287\" y1=\"444\" x2=\"287\" y2=\"55\"/>\n",
       "<line opacity=\"0.1\" stroke=\"#000000\" stroke-width=\"1\" x1=\"293\" y1=\"444\" x2=\"293\" y2=\"55\"/>\n",
       "<line opacity=\"0.1\" stroke=\"#000000\" stroke-width=\"1\" x1=\"299\" y1=\"444\" x2=\"299\" y2=\"55\"/>\n",
       "<line opacity=\"0.1\" stroke=\"#000000\" stroke-width=\"1\" x1=\"305\" y1=\"444\" x2=\"305\" y2=\"55\"/>\n",
       "<line opacity=\"0.1\" stroke=\"#000000\" stroke-width=\"1\" x1=\"311\" y1=\"444\" x2=\"311\" y2=\"55\"/>\n",
       "<line opacity=\"0.1\" stroke=\"#000000\" stroke-width=\"1\" x1=\"317\" y1=\"444\" x2=\"317\" y2=\"55\"/>\n",
       "<line opacity=\"0.1\" stroke=\"#000000\" stroke-width=\"1\" x1=\"323\" y1=\"444\" x2=\"323\" y2=\"55\"/>\n",
       "<line opacity=\"0.1\" stroke=\"#000000\" stroke-width=\"1\" x1=\"329\" y1=\"444\" x2=\"329\" y2=\"55\"/>\n",
       "<line opacity=\"0.1\" stroke=\"#000000\" stroke-width=\"1\" x1=\"335\" y1=\"444\" x2=\"335\" y2=\"55\"/>\n",
       "<line opacity=\"0.1\" stroke=\"#000000\" stroke-width=\"1\" x1=\"341\" y1=\"444\" x2=\"341\" y2=\"55\"/>\n",
       "<line opacity=\"0.1\" stroke=\"#000000\" stroke-width=\"1\" x1=\"347\" y1=\"444\" x2=\"347\" y2=\"55\"/>\n",
       "<line opacity=\"0.1\" stroke=\"#000000\" stroke-width=\"1\" x1=\"353\" y1=\"444\" x2=\"353\" y2=\"55\"/>\n",
       "<line opacity=\"0.1\" stroke=\"#000000\" stroke-width=\"1\" x1=\"359\" y1=\"444\" x2=\"359\" y2=\"55\"/>\n",
       "<line opacity=\"0.1\" stroke=\"#000000\" stroke-width=\"1\" x1=\"365\" y1=\"444\" x2=\"365\" y2=\"55\"/>\n",
       "<line opacity=\"0.1\" stroke=\"#000000\" stroke-width=\"1\" x1=\"371\" y1=\"444\" x2=\"371\" y2=\"55\"/>\n",
       "<line opacity=\"0.1\" stroke=\"#000000\" stroke-width=\"1\" x1=\"377\" y1=\"444\" x2=\"377\" y2=\"55\"/>\n",
       "<line opacity=\"0.1\" stroke=\"#000000\" stroke-width=\"1\" x1=\"383\" y1=\"444\" x2=\"383\" y2=\"55\"/>\n",
       "<line opacity=\"0.1\" stroke=\"#000000\" stroke-width=\"1\" x1=\"389\" y1=\"444\" x2=\"389\" y2=\"55\"/>\n",
       "<line opacity=\"0.1\" stroke=\"#000000\" stroke-width=\"1\" x1=\"395\" y1=\"444\" x2=\"395\" y2=\"55\"/>\n",
       "<line opacity=\"0.1\" stroke=\"#000000\" stroke-width=\"1\" x1=\"401\" y1=\"444\" x2=\"401\" y2=\"55\"/>\n",
       "<line opacity=\"0.1\" stroke=\"#000000\" stroke-width=\"1\" x1=\"407\" y1=\"444\" x2=\"407\" y2=\"55\"/>\n",
       "<line opacity=\"0.1\" stroke=\"#000000\" stroke-width=\"1\" x1=\"413\" y1=\"444\" x2=\"413\" y2=\"55\"/>\n",
       "<line opacity=\"0.1\" stroke=\"#000000\" stroke-width=\"1\" x1=\"419\" y1=\"444\" x2=\"419\" y2=\"55\"/>\n",
       "<line opacity=\"0.1\" stroke=\"#000000\" stroke-width=\"1\" x1=\"425\" y1=\"444\" x2=\"425\" y2=\"55\"/>\n",
       "<line opacity=\"0.1\" stroke=\"#000000\" stroke-width=\"1\" x1=\"431\" y1=\"444\" x2=\"431\" y2=\"55\"/>\n",
       "<line opacity=\"0.1\" stroke=\"#000000\" stroke-width=\"1\" x1=\"437\" y1=\"444\" x2=\"437\" y2=\"55\"/>\n",
       "<line opacity=\"0.1\" stroke=\"#000000\" stroke-width=\"1\" x1=\"443\" y1=\"444\" x2=\"443\" y2=\"55\"/>\n",
       "<line opacity=\"0.1\" stroke=\"#000000\" stroke-width=\"1\" x1=\"449\" y1=\"444\" x2=\"449\" y2=\"55\"/>\n",
       "<line opacity=\"0.1\" stroke=\"#000000\" stroke-width=\"1\" x1=\"455\" y1=\"444\" x2=\"455\" y2=\"55\"/>\n",
       "<line opacity=\"0.1\" stroke=\"#000000\" stroke-width=\"1\" x1=\"461\" y1=\"444\" x2=\"461\" y2=\"55\"/>\n",
       "<line opacity=\"0.1\" stroke=\"#000000\" stroke-width=\"1\" x1=\"467\" y1=\"444\" x2=\"467\" y2=\"55\"/>\n",
       "<line opacity=\"0.1\" stroke=\"#000000\" stroke-width=\"1\" x1=\"473\" y1=\"444\" x2=\"473\" y2=\"55\"/>\n",
       "<line opacity=\"0.1\" stroke=\"#000000\" stroke-width=\"1\" x1=\"479\" y1=\"444\" x2=\"479\" y2=\"55\"/>\n",
       "<line opacity=\"0.1\" stroke=\"#000000\" stroke-width=\"1\" x1=\"485\" y1=\"444\" x2=\"485\" y2=\"55\"/>\n",
       "<line opacity=\"0.1\" stroke=\"#000000\" stroke-width=\"1\" x1=\"491\" y1=\"444\" x2=\"491\" y2=\"55\"/>\n",
       "<line opacity=\"0.1\" stroke=\"#000000\" stroke-width=\"1\" x1=\"497\" y1=\"444\" x2=\"497\" y2=\"55\"/>\n",
       "<line opacity=\"0.1\" stroke=\"#000000\" stroke-width=\"1\" x1=\"503\" y1=\"444\" x2=\"503\" y2=\"55\"/>\n",
       "<line opacity=\"0.1\" stroke=\"#000000\" stroke-width=\"1\" x1=\"509\" y1=\"444\" x2=\"509\" y2=\"55\"/>\n",
       "<line opacity=\"0.1\" stroke=\"#000000\" stroke-width=\"1\" x1=\"515\" y1=\"444\" x2=\"515\" y2=\"55\"/>\n",
       "<line opacity=\"0.1\" stroke=\"#000000\" stroke-width=\"1\" x1=\"521\" y1=\"444\" x2=\"521\" y2=\"55\"/>\n",
       "<line opacity=\"0.1\" stroke=\"#000000\" stroke-width=\"1\" x1=\"527\" y1=\"444\" x2=\"527\" y2=\"55\"/>\n",
       "<line opacity=\"0.1\" stroke=\"#000000\" stroke-width=\"1\" x1=\"533\" y1=\"444\" x2=\"533\" y2=\"55\"/>\n",
       "<line opacity=\"0.1\" stroke=\"#000000\" stroke-width=\"1\" x1=\"539\" y1=\"444\" x2=\"539\" y2=\"55\"/>\n",
       "<line opacity=\"0.1\" stroke=\"#000000\" stroke-width=\"1\" x1=\"545\" y1=\"444\" x2=\"545\" y2=\"55\"/>\n",
       "<line opacity=\"0.1\" stroke=\"#000000\" stroke-width=\"1\" x1=\"551\" y1=\"444\" x2=\"551\" y2=\"55\"/>\n",
       "<line opacity=\"0.1\" stroke=\"#000000\" stroke-width=\"1\" x1=\"557\" y1=\"444\" x2=\"557\" y2=\"55\"/>\n",
       "<line opacity=\"0.1\" stroke=\"#000000\" stroke-width=\"1\" x1=\"563\" y1=\"444\" x2=\"563\" y2=\"55\"/>\n",
       "<line opacity=\"0.1\" stroke=\"#000000\" stroke-width=\"1\" x1=\"569\" y1=\"444\" x2=\"569\" y2=\"55\"/>\n",
       "<line opacity=\"0.1\" stroke=\"#000000\" stroke-width=\"1\" x1=\"575\" y1=\"444\" x2=\"575\" y2=\"55\"/>\n",
       "<line opacity=\"0.1\" stroke=\"#000000\" stroke-width=\"1\" x1=\"581\" y1=\"444\" x2=\"581\" y2=\"55\"/>\n",
       "<line opacity=\"0.1\" stroke=\"#000000\" stroke-width=\"1\" x1=\"587\" y1=\"444\" x2=\"587\" y2=\"55\"/>\n",
       "<line opacity=\"0.1\" stroke=\"#000000\" stroke-width=\"1\" x1=\"593\" y1=\"444\" x2=\"593\" y2=\"55\"/>\n",
       "<line opacity=\"0.1\" stroke=\"#000000\" stroke-width=\"1\" x1=\"599\" y1=\"444\" x2=\"599\" y2=\"55\"/>\n",
       "<line opacity=\"0.1\" stroke=\"#000000\" stroke-width=\"1\" x1=\"605\" y1=\"444\" x2=\"605\" y2=\"55\"/>\n",
       "<line opacity=\"0.1\" stroke=\"#000000\" stroke-width=\"1\" x1=\"611\" y1=\"444\" x2=\"611\" y2=\"55\"/>\n",
       "<line opacity=\"0.1\" stroke=\"#000000\" stroke-width=\"1\" x1=\"617\" y1=\"444\" x2=\"617\" y2=\"55\"/>\n",
       "<line opacity=\"0.1\" stroke=\"#000000\" stroke-width=\"1\" x1=\"623\" y1=\"444\" x2=\"623\" y2=\"55\"/>\n",
       "<line opacity=\"0.1\" stroke=\"#000000\" stroke-width=\"1\" x1=\"629\" y1=\"444\" x2=\"629\" y2=\"55\"/>\n",
       "<line opacity=\"0.1\" stroke=\"#000000\" stroke-width=\"1\" x1=\"635\" y1=\"444\" x2=\"635\" y2=\"55\"/>\n",
       "<line opacity=\"0.1\" stroke=\"#000000\" stroke-width=\"1\" x1=\"35\" y1=\"444\" x2=\"635\" y2=\"444\"/>\n",
       "<line opacity=\"0.1\" stroke=\"#000000\" stroke-width=\"1\" x1=\"35\" y1=\"436\" x2=\"635\" y2=\"436\"/>\n",
       "<line opacity=\"0.1\" stroke=\"#000000\" stroke-width=\"1\" x1=\"35\" y1=\"429\" x2=\"635\" y2=\"429\"/>\n",
       "<line opacity=\"0.1\" stroke=\"#000000\" stroke-width=\"1\" x1=\"35\" y1=\"422\" x2=\"635\" y2=\"422\"/>\n",
       "<line opacity=\"0.1\" stroke=\"#000000\" stroke-width=\"1\" x1=\"35\" y1=\"415\" x2=\"635\" y2=\"415\"/>\n",
       "<line opacity=\"0.1\" stroke=\"#000000\" stroke-width=\"1\" x1=\"35\" y1=\"408\" x2=\"635\" y2=\"408\"/>\n",
       "<line opacity=\"0.1\" stroke=\"#000000\" stroke-width=\"1\" x1=\"35\" y1=\"401\" x2=\"635\" y2=\"401\"/>\n",
       "<line opacity=\"0.1\" stroke=\"#000000\" stroke-width=\"1\" x1=\"35\" y1=\"394\" x2=\"635\" y2=\"394\"/>\n",
       "<line opacity=\"0.1\" stroke=\"#000000\" stroke-width=\"1\" x1=\"35\" y1=\"387\" x2=\"635\" y2=\"387\"/>\n",
       "<line opacity=\"0.1\" stroke=\"#000000\" stroke-width=\"1\" x1=\"35\" y1=\"380\" x2=\"635\" y2=\"380\"/>\n",
       "<line opacity=\"0.1\" stroke=\"#000000\" stroke-width=\"1\" x1=\"35\" y1=\"373\" x2=\"635\" y2=\"373\"/>\n",
       "<line opacity=\"0.1\" stroke=\"#000000\" stroke-width=\"1\" x1=\"35\" y1=\"366\" x2=\"635\" y2=\"366\"/>\n",
       "<line opacity=\"0.1\" stroke=\"#000000\" stroke-width=\"1\" x1=\"35\" y1=\"359\" x2=\"635\" y2=\"359\"/>\n",
       "<line opacity=\"0.1\" stroke=\"#000000\" stroke-width=\"1\" x1=\"35\" y1=\"352\" x2=\"635\" y2=\"352\"/>\n",
       "<line opacity=\"0.1\" stroke=\"#000000\" stroke-width=\"1\" x1=\"35\" y1=\"344\" x2=\"635\" y2=\"344\"/>\n",
       "<line opacity=\"0.1\" stroke=\"#000000\" stroke-width=\"1\" x1=\"35\" y1=\"337\" x2=\"635\" y2=\"337\"/>\n",
       "<line opacity=\"0.1\" stroke=\"#000000\" stroke-width=\"1\" x1=\"35\" y1=\"330\" x2=\"635\" y2=\"330\"/>\n",
       "<line opacity=\"0.1\" stroke=\"#000000\" stroke-width=\"1\" x1=\"35\" y1=\"323\" x2=\"635\" y2=\"323\"/>\n",
       "<line opacity=\"0.1\" stroke=\"#000000\" stroke-width=\"1\" x1=\"35\" y1=\"316\" x2=\"635\" y2=\"316\"/>\n",
       "<line opacity=\"0.1\" stroke=\"#000000\" stroke-width=\"1\" x1=\"35\" y1=\"309\" x2=\"635\" y2=\"309\"/>\n",
       "<line opacity=\"0.1\" stroke=\"#000000\" stroke-width=\"1\" x1=\"35\" y1=\"302\" x2=\"635\" y2=\"302\"/>\n",
       "<line opacity=\"0.1\" stroke=\"#000000\" stroke-width=\"1\" x1=\"35\" y1=\"295\" x2=\"635\" y2=\"295\"/>\n",
       "<line opacity=\"0.1\" stroke=\"#000000\" stroke-width=\"1\" x1=\"35\" y1=\"288\" x2=\"635\" y2=\"288\"/>\n",
       "<line opacity=\"0.1\" stroke=\"#000000\" stroke-width=\"1\" x1=\"35\" y1=\"281\" x2=\"635\" y2=\"281\"/>\n",
       "<line opacity=\"0.1\" stroke=\"#000000\" stroke-width=\"1\" x1=\"35\" y1=\"274\" x2=\"635\" y2=\"274\"/>\n",
       "<line opacity=\"0.1\" stroke=\"#000000\" stroke-width=\"1\" x1=\"35\" y1=\"267\" x2=\"635\" y2=\"267\"/>\n",
       "<line opacity=\"0.1\" stroke=\"#000000\" stroke-width=\"1\" x1=\"35\" y1=\"260\" x2=\"635\" y2=\"260\"/>\n",
       "<line opacity=\"0.1\" stroke=\"#000000\" stroke-width=\"1\" x1=\"35\" y1=\"253\" x2=\"635\" y2=\"253\"/>\n",
       "<line opacity=\"0.1\" stroke=\"#000000\" stroke-width=\"1\" x1=\"35\" y1=\"245\" x2=\"635\" y2=\"245\"/>\n",
       "<line opacity=\"0.1\" stroke=\"#000000\" stroke-width=\"1\" x1=\"35\" y1=\"238\" x2=\"635\" y2=\"238\"/>\n",
       "<line opacity=\"0.1\" stroke=\"#000000\" stroke-width=\"1\" x1=\"35\" y1=\"231\" x2=\"635\" y2=\"231\"/>\n",
       "<line opacity=\"0.1\" stroke=\"#000000\" stroke-width=\"1\" x1=\"35\" y1=\"224\" x2=\"635\" y2=\"224\"/>\n",
       "<line opacity=\"0.1\" stroke=\"#000000\" stroke-width=\"1\" x1=\"35\" y1=\"217\" x2=\"635\" y2=\"217\"/>\n",
       "<line opacity=\"0.1\" stroke=\"#000000\" stroke-width=\"1\" x1=\"35\" y1=\"210\" x2=\"635\" y2=\"210\"/>\n",
       "<line opacity=\"0.1\" stroke=\"#000000\" stroke-width=\"1\" x1=\"35\" y1=\"203\" x2=\"635\" y2=\"203\"/>\n",
       "<line opacity=\"0.1\" stroke=\"#000000\" stroke-width=\"1\" x1=\"35\" y1=\"196\" x2=\"635\" y2=\"196\"/>\n",
       "<line opacity=\"0.1\" stroke=\"#000000\" stroke-width=\"1\" x1=\"35\" y1=\"189\" x2=\"635\" y2=\"189\"/>\n",
       "<line opacity=\"0.1\" stroke=\"#000000\" stroke-width=\"1\" x1=\"35\" y1=\"182\" x2=\"635\" y2=\"182\"/>\n",
       "<line opacity=\"0.1\" stroke=\"#000000\" stroke-width=\"1\" x1=\"35\" y1=\"175\" x2=\"635\" y2=\"175\"/>\n",
       "<line opacity=\"0.1\" stroke=\"#000000\" stroke-width=\"1\" x1=\"35\" y1=\"168\" x2=\"635\" y2=\"168\"/>\n",
       "<line opacity=\"0.1\" stroke=\"#000000\" stroke-width=\"1\" x1=\"35\" y1=\"161\" x2=\"635\" y2=\"161\"/>\n",
       "<line opacity=\"0.1\" stroke=\"#000000\" stroke-width=\"1\" x1=\"35\" y1=\"154\" x2=\"635\" y2=\"154\"/>\n",
       "<line opacity=\"0.1\" stroke=\"#000000\" stroke-width=\"1\" x1=\"35\" y1=\"146\" x2=\"635\" y2=\"146\"/>\n",
       "<line opacity=\"0.1\" stroke=\"#000000\" stroke-width=\"1\" x1=\"35\" y1=\"139\" x2=\"635\" y2=\"139\"/>\n",
       "<line opacity=\"0.1\" stroke=\"#000000\" stroke-width=\"1\" x1=\"35\" y1=\"132\" x2=\"635\" y2=\"132\"/>\n",
       "<line opacity=\"0.1\" stroke=\"#000000\" stroke-width=\"1\" x1=\"35\" y1=\"125\" x2=\"635\" y2=\"125\"/>\n",
       "<line opacity=\"0.1\" stroke=\"#000000\" stroke-width=\"1\" x1=\"35\" y1=\"118\" x2=\"635\" y2=\"118\"/>\n",
       "<line opacity=\"0.1\" stroke=\"#000000\" stroke-width=\"1\" x1=\"35\" y1=\"111\" x2=\"635\" y2=\"111\"/>\n",
       "<line opacity=\"0.1\" stroke=\"#000000\" stroke-width=\"1\" x1=\"35\" y1=\"104\" x2=\"635\" y2=\"104\"/>\n",
       "<line opacity=\"0.1\" stroke=\"#000000\" stroke-width=\"1\" x1=\"35\" y1=\"97\" x2=\"635\" y2=\"97\"/>\n",
       "<line opacity=\"0.1\" stroke=\"#000000\" stroke-width=\"1\" x1=\"35\" y1=\"90\" x2=\"635\" y2=\"90\"/>\n",
       "<line opacity=\"0.1\" stroke=\"#000000\" stroke-width=\"1\" x1=\"35\" y1=\"83\" x2=\"635\" y2=\"83\"/>\n",
       "<line opacity=\"0.1\" stroke=\"#000000\" stroke-width=\"1\" x1=\"35\" y1=\"76\" x2=\"635\" y2=\"76\"/>\n",
       "<line opacity=\"0.1\" stroke=\"#000000\" stroke-width=\"1\" x1=\"35\" y1=\"69\" x2=\"635\" y2=\"69\"/>\n",
       "<line opacity=\"0.1\" stroke=\"#000000\" stroke-width=\"1\" x1=\"35\" y1=\"62\" x2=\"635\" y2=\"62\"/>\n",
       "<line opacity=\"0.1\" stroke=\"#000000\" stroke-width=\"1\" x1=\"35\" y1=\"55\" x2=\"635\" y2=\"55\"/>\n",
       "<line opacity=\"0.2\" stroke=\"#000000\" stroke-width=\"1\" x1=\"95\" y1=\"444\" x2=\"95\" y2=\"55\"/>\n",
       "<line opacity=\"0.2\" stroke=\"#000000\" stroke-width=\"1\" x1=\"155\" y1=\"444\" x2=\"155\" y2=\"55\"/>\n",
       "<line opacity=\"0.2\" stroke=\"#000000\" stroke-width=\"1\" x1=\"215\" y1=\"444\" x2=\"215\" y2=\"55\"/>\n",
       "<line opacity=\"0.2\" stroke=\"#000000\" stroke-width=\"1\" x1=\"275\" y1=\"444\" x2=\"275\" y2=\"55\"/>\n",
       "<line opacity=\"0.2\" stroke=\"#000000\" stroke-width=\"1\" x1=\"335\" y1=\"444\" x2=\"335\" y2=\"55\"/>\n",
       "<line opacity=\"0.2\" stroke=\"#000000\" stroke-width=\"1\" x1=\"395\" y1=\"444\" x2=\"395\" y2=\"55\"/>\n",
       "<line opacity=\"0.2\" stroke=\"#000000\" stroke-width=\"1\" x1=\"455\" y1=\"444\" x2=\"455\" y2=\"55\"/>\n",
       "<line opacity=\"0.2\" stroke=\"#000000\" stroke-width=\"1\" x1=\"515\" y1=\"444\" x2=\"515\" y2=\"55\"/>\n",
       "<line opacity=\"0.2\" stroke=\"#000000\" stroke-width=\"1\" x1=\"575\" y1=\"444\" x2=\"575\" y2=\"55\"/>\n",
       "<line opacity=\"0.2\" stroke=\"#000000\" stroke-width=\"1\" x1=\"635\" y1=\"444\" x2=\"635\" y2=\"55\"/>\n",
       "<line opacity=\"0.2\" stroke=\"#000000\" stroke-width=\"1\" x1=\"35\" y1=\"408\" x2=\"635\" y2=\"408\"/>\n",
       "<line opacity=\"0.2\" stroke=\"#000000\" stroke-width=\"1\" x1=\"35\" y1=\"337\" x2=\"635\" y2=\"337\"/>\n",
       "<line opacity=\"0.2\" stroke=\"#000000\" stroke-width=\"1\" x1=\"35\" y1=\"267\" x2=\"635\" y2=\"267\"/>\n",
       "<line opacity=\"0.2\" stroke=\"#000000\" stroke-width=\"1\" x1=\"35\" y1=\"196\" x2=\"635\" y2=\"196\"/>\n",
       "<line opacity=\"0.2\" stroke=\"#000000\" stroke-width=\"1\" x1=\"35\" y1=\"125\" x2=\"635\" y2=\"125\"/>\n",
       "<line opacity=\"0.2\" stroke=\"#000000\" stroke-width=\"1\" x1=\"35\" y1=\"55\" x2=\"635\" y2=\"55\"/>\n",
       "<polyline fill=\"none\" opacity=\"1\" stroke=\"#000000\" stroke-width=\"1\" points=\"34,56 34,445 \"/>\n",
       "<text x=\"25\" y=\"408\" dy=\"0.5ex\" text-anchor=\"end\" font-family=\"sans-serif\" font-size=\"9.67741935483871\" opacity=\"1\" fill=\"#000000\">\n",
       "0.0\n",
       "</text>\n",
       "<polyline fill=\"none\" opacity=\"1\" stroke=\"#000000\" stroke-width=\"1\" points=\"29,408 34,408 \"/>\n",
       "<text x=\"25\" y=\"337\" dy=\"0.5ex\" text-anchor=\"end\" font-family=\"sans-serif\" font-size=\"9.67741935483871\" opacity=\"1\" fill=\"#000000\">\n",
       "0.2\n",
       "</text>\n",
       "<polyline fill=\"none\" opacity=\"1\" stroke=\"#000000\" stroke-width=\"1\" points=\"29,337 34,337 \"/>\n",
       "<text x=\"25\" y=\"267\" dy=\"0.5ex\" text-anchor=\"end\" font-family=\"sans-serif\" font-size=\"9.67741935483871\" opacity=\"1\" fill=\"#000000\">\n",
       "0.4\n",
       "</text>\n",
       "<polyline fill=\"none\" opacity=\"1\" stroke=\"#000000\" stroke-width=\"1\" points=\"29,267 34,267 \"/>\n",
       "<text x=\"25\" y=\"196\" dy=\"0.5ex\" text-anchor=\"end\" font-family=\"sans-serif\" font-size=\"9.67741935483871\" opacity=\"1\" fill=\"#000000\">\n",
       "0.6\n",
       "</text>\n",
       "<polyline fill=\"none\" opacity=\"1\" stroke=\"#000000\" stroke-width=\"1\" points=\"29,196 34,196 \"/>\n",
       "<text x=\"25\" y=\"125\" dy=\"0.5ex\" text-anchor=\"end\" font-family=\"sans-serif\" font-size=\"9.67741935483871\" opacity=\"1\" fill=\"#000000\">\n",
       "0.8\n",
       "</text>\n",
       "<polyline fill=\"none\" opacity=\"1\" stroke=\"#000000\" stroke-width=\"1\" points=\"29,125 34,125 \"/>\n",
       "<polyline fill=\"none\" opacity=\"1\" stroke=\"#000000\" stroke-width=\"1\" points=\"35,445 635,445 \"/>\n",
       "<text x=\"95\" y=\"455\" dy=\"0.76em\" text-anchor=\"middle\" font-family=\"sans-serif\" font-size=\"9.67741935483871\" opacity=\"1\" fill=\"#000000\">\n",
       "-0.8\n",
       "</text>\n",
       "<polyline fill=\"none\" opacity=\"1\" stroke=\"#000000\" stroke-width=\"1\" points=\"95,445 95,450 \"/>\n",
       "<text x=\"155\" y=\"455\" dy=\"0.76em\" text-anchor=\"middle\" font-family=\"sans-serif\" font-size=\"9.67741935483871\" opacity=\"1\" fill=\"#000000\">\n",
       "-0.6\n",
       "</text>\n",
       "<polyline fill=\"none\" opacity=\"1\" stroke=\"#000000\" stroke-width=\"1\" points=\"155,445 155,450 \"/>\n",
       "<text x=\"215\" y=\"455\" dy=\"0.76em\" text-anchor=\"middle\" font-family=\"sans-serif\" font-size=\"9.67741935483871\" opacity=\"1\" fill=\"#000000\">\n",
       "-0.4\n",
       "</text>\n",
       "<polyline fill=\"none\" opacity=\"1\" stroke=\"#000000\" stroke-width=\"1\" points=\"215,445 215,450 \"/>\n",
       "<text x=\"275\" y=\"455\" dy=\"0.76em\" text-anchor=\"middle\" font-family=\"sans-serif\" font-size=\"9.67741935483871\" opacity=\"1\" fill=\"#000000\">\n",
       "-0.2\n",
       "</text>\n",
       "<polyline fill=\"none\" opacity=\"1\" stroke=\"#000000\" stroke-width=\"1\" points=\"275,445 275,450 \"/>\n",
       "<text x=\"335\" y=\"455\" dy=\"0.76em\" text-anchor=\"middle\" font-family=\"sans-serif\" font-size=\"9.67741935483871\" opacity=\"1\" fill=\"#000000\">\n",
       "0.0\n",
       "</text>\n",
       "<polyline fill=\"none\" opacity=\"1\" stroke=\"#000000\" stroke-width=\"1\" points=\"335,445 335,450 \"/>\n",
       "<text x=\"395\" y=\"455\" dy=\"0.76em\" text-anchor=\"middle\" font-family=\"sans-serif\" font-size=\"9.67741935483871\" opacity=\"1\" fill=\"#000000\">\n",
       "0.2\n",
       "</text>\n",
       "<polyline fill=\"none\" opacity=\"1\" stroke=\"#000000\" stroke-width=\"1\" points=\"395,445 395,450 \"/>\n",
       "<text x=\"455\" y=\"455\" dy=\"0.76em\" text-anchor=\"middle\" font-family=\"sans-serif\" font-size=\"9.67741935483871\" opacity=\"1\" fill=\"#000000\">\n",
       "0.4\n",
       "</text>\n",
       "<polyline fill=\"none\" opacity=\"1\" stroke=\"#000000\" stroke-width=\"1\" points=\"455,445 455,450 \"/>\n",
       "<text x=\"515\" y=\"455\" dy=\"0.76em\" text-anchor=\"middle\" font-family=\"sans-serif\" font-size=\"9.67741935483871\" opacity=\"1\" fill=\"#000000\">\n",
       "0.6\n",
       "</text>\n",
       "<polyline fill=\"none\" opacity=\"1\" stroke=\"#000000\" stroke-width=\"1\" points=\"515,445 515,450 \"/>\n",
       "<text x=\"575\" y=\"455\" dy=\"0.76em\" text-anchor=\"middle\" font-family=\"sans-serif\" font-size=\"9.67741935483871\" opacity=\"1\" fill=\"#000000\">\n",
       "0.8\n",
       "</text>\n",
       "<polyline fill=\"none\" opacity=\"1\" stroke=\"#000000\" stroke-width=\"1\" points=\"575,445 575,450 \"/>\n",
       "<text x=\"635\" y=\"455\" dy=\"0.76em\" text-anchor=\"middle\" font-family=\"sans-serif\" font-size=\"9.67741935483871\" opacity=\"1\" fill=\"#000000\">\n",
       "1.0\n",
       "</text>\n",
       "<polyline fill=\"none\" opacity=\"1\" stroke=\"#000000\" stroke-width=\"1\" points=\"635,445 635,450 \"/>\n",
       "<polyline fill=\"none\" opacity=\"1\" stroke=\"#FF0000\" stroke-width=\"1\" points=\"35,56 41,69 47,82 53,96 59,109 65,122 71,134 77,147 83,159 89,170 95,182 101,193 107,204 113,214 119,225 125,235 131,245 137,254 143,263 149,272 155,281 161,289 167,297 173,305 179,313 185,320 191,327 197,333 203,340 209,346 215,352 221,357 227,362 233,367 239,372 245,376 251,380 257,384 263,388 269,391 275,394 281,397 287,399 293,401 299,403 305,405 311,406 317,407 323,408 329,408 335,408 341,408 347,408 353,407 359,406 365,405 371,403 377,401 383,399 389,397 395,394 401,391 407,388 413,384 419,380 425,376 431,372 437,367 443,362 449,357 455,352 461,346 467,340 473,333 479,327 485,320 491,313 497,305 503,297 509,289 515,281 521,272 527,263 533,254 539,245 545,235 551,225 557,214 563,204 569,193 575,182 581,170 587,159 593,147 599,134 605,122 611,109 617,96 623,82 629,69 635,56 \"/>\n",
       "<rect x=\"542\" y=\"235\" width=\"88\" height=\"30\" opacity=\"0.8\" fill=\"#FFFFFF\" stroke=\"none\"/>\n",
       "<rect x=\"542\" y=\"235\" width=\"88\" height=\"30\" opacity=\"1\" fill=\"none\" stroke=\"#000000\"/>\n",
       "<text x=\"582\" y=\"245\" dy=\"0.76em\" text-anchor=\"start\" font-family=\"sans-serif\" font-size=\"9.67741935483871\" opacity=\"1\" fill=\"#000000\">\n",
       "y = x^2\n",
       "</text>\n",
       "<polyline fill=\"none\" opacity=\"1\" stroke=\"#FF0000\" stroke-width=\"1\" points=\"552,250 572,250 \"/>\n",
       "</svg>\n",
       "</div>"
      ]
     },
     "execution_count": 15,
     "metadata": {},
     "output_type": "execute_result"
    }
   ],
   "source": [
    ":dep plotters = { git = \"https://github.com/38/plotters\", default_features = false, features = [\"evcxr\", \"line_series\"] }\n",
    "//extern crate plotters;\n",
    "//use plotters::prelude::*;\n",
    "\n",
    "let figure = plotters::evcxr::evcxr_figure((640, 480), |root| {\n",
    "    root.fill(&plotters::style::WHITE)?; \n",
    "    // `?` required to overcome warning: \"unused `Result` that must be used\"\n",
    "    let mut chart = plotters::chart::ChartBuilder::on(&root)\n",
    "        .caption(\"y=x^2\", \n",
    "                plotters::style::FontDesc::new(\n",
    "                    \"Arial\".into(), \n",
    "                    50.into(), \n",
    "                    plotters::style::FontStyle::Normal))\n",
    "        .margin(5)\n",
    "        .x_label_area_size(30)\n",
    "        .y_label_area_size(30)\n",
    "        .build_cartesian_2d(-1f32..1f32, -0.1f32..1f32)?;\n",
    "\n",
    "    chart.configure_mesh().draw()?;\n",
    "\n",
    "    chart.draw_series(\n",
    "        plotters::series::LineSeries::new(\n",
    "            (-50..=50).map(|x| x as f32 / 50.0).map(|x| (x, x * x)),\n",
    "            &plotters::style::colors::RED,)\n",
    "        ).unwrap()\n",
    "        .label(\"y = x^2\")\n",
    "        .legend(|(x,y)| \n",
    "            plotters::element::PathElement::new(\n",
    "                vec![(x,y), (x + 20,y)],\n",
    "                &plotters::style::colors::RED)\n",
    "               );\n",
    "\n",
    "    //use plotters::style::Color;\n",
    "    chart.configure_series_labels()\n",
    "        .background_style(plotters::style::Color::mix(&plotters::style::WHITE, 0.8))\n",
    "        .border_style(&plotters::style::BLACK)\n",
    "        .draw()?;\n",
    "    Ok(())\n",
    "});\n",
    "figure"
   ]
  },
  {
   "cell_type": "markdown",
   "metadata": {},
   "source": [
    "Wanted to save some time by preinstalling `plotters` ... hmm, I misunderstood what plotters is ;-):\n",
    "\n",
    "```\n",
    "cargo install plotters --no-default-features --features \"evcxr,line_series\"\n",
    "    Updating crates.io index\n",
    "error: there is nothing to install in 'plotters v0.3.1', because it has no binaries\n",
    "'cargo install' is only for installing programs, and can't be used with libraries.\n",
    "To use a library crate, add it as a dependency in a Cargo project instead.`\n",
    "```\n",
    "\n",
    "Here is the example of `evcxr_jupyter` for cutom output which demonstrates the convention described to draw `figure` above and to \"draw\" `m` below."
   ]
  },
  {
   "cell_type": "code",
   "execution_count": 16,
   "metadata": {},
   "outputs": [
    {
     "data": {
      "text/html": [
       "<table><tr><td>1</td><td>2</td><td>3</td></tr><tr><td>4</td><td>5</td><td>6</td></tr><tr><td>7</td><td>8</td><td>9</td></tr></table>"
      ]
     },
     "execution_count": 16,
     "metadata": {},
     "output_type": "execute_result"
    }
   ],
   "source": [
    "pub struct Matrix<T> {pub values: Vec<T>, pub row_size: usize}\n",
    "impl<T: std::fmt::Debug> Matrix<T> {\n",
    "    pub fn evcxr_display(&self) {\n",
    "        let mut html = String::new();\n",
    "        html.push_str(\"<table>\");\n",
    "        for r in 0..(self.values.len() / self.row_size) {\n",
    "            html.push_str(\"<tr>\");\n",
    "            for c in 0..self.row_size {\n",
    "                html.push_str(\"<td>\");\n",
    "                html.push_str(&format!(\"{:?}\", self.values[r * self.row_size + c]));\n",
    "                html.push_str(\"</td>\");\n",
    "            }\n",
    "            html.push_str(\"</tr>\");\n",
    "        }\n",
    "        html.push_str(\"</table>\");\n",
    "        println!(\"EVCXR_BEGIN_CONTENT text/html\\n{}\\nEVCXR_END_CONTENT\", html);\n",
    "    }\n",
    "}\n",
    "let m = Matrix {values: vec![1,2,3,4,5,6,7,8,9], row_size: 3};\n",
    "m"
   ]
  },
  {
   "cell_type": "markdown",
   "metadata": {},
   "source": [
    "## Plotting with Plotly\n",
    "\n",
    "Plotly has a [jupyter notebook example](https://github.com/igiagkiozis/plotly/blob/b8144ad116aa8aae2d1a626bed18ec008d1f283e/plotly/examples/jupyter_notebook_examples.ipynb)\n",
    "\n",
    "Method [`notebook_display()`](https://github.com/igiagkiozis/plotly/blob/b8144ad116aa8aae2d1a626bed18ec008d1f283e/plotly/src/plot.rs#L314) is the integration provided by `plotly` with `evcxr` when running a jupyter-notebook instead of jupyter-lab. It utilizes also `evcxr_jupyter`'s convention for custom output and generates HTML output.\n",
    "\n",
    "Note: `extern` and `use` declarations had been commented out for learning. Thus [namespace paths](https://doc.rust-lang.org/stable/reference/paths.html) are needed to be defined for each `struct` or even `trait`."
   ]
  },
  {
   "cell_type": "code",
   "execution_count": 17,
   "metadata": {},
   "outputs": [
    {
     "data": {
      "text/html": [
       "<div>\n",
       "    <div id=\"DF346WIacayoHPkpfrEZ\" class=\"plotly-graph-div\" style=\"height:100%; width:100%;\"></div>\n",
       "    <script type=\"text/javascript\">\n",
       "        require(['https://cdn.plot.ly/plotly-2.8.3.min.js'], function(Plotly) {\n",
       "            window.PLOTLYENV=window.PLOTLYENV || {};\n",
       "\n",
       "            if (document.getElementById(\"DF346WIacayoHPkpfrEZ\")) {\n",
       "                var trace_0 = {\"type\":\"scatter\",\"mode\":\"markers\",\"x\":[1,2,3,4,5,6,7,8,9,10],\"y\":[1.0,4.0,9.0,16.0,25.0,36.0,49.0,64.0,81.0,100.0]};\n",
       "var data = [trace_0];\n",
       "var layout = {\"width\":640,\"height\":480};\n",
       "                Plotly.newPlot(\n",
       "                    'DF346WIacayoHPkpfrEZ',\n",
       "                    data,\n",
       "                    layout,\n",
       "                    {\"responsive\": true}\n",
       "                ).then(function(){\n",
       "                    var gd = document.getElementById('DF346WIacayoHPkpfrEZ');\n",
       "                    var x = new MutationObserver(function (mutations, observer) { {\n",
       "                            var display = window.getComputedStyle(gd).display;\n",
       "                            if (!display || display === 'none') { {\n",
       "                                console.log([gd, 'removed!']);\n",
       "                                Plotly.purge(gd);\n",
       "                                observer.disconnect();\n",
       "                            } }\n",
       "                    } });\n",
       "\n",
       "                    // Listen for the removal of the full notebook cells\n",
       "                    var notebookContainer = gd.closest('#notebook-container');\n",
       "                    if (notebookContainer) { {\n",
       "                        x.observe(notebookContainer, {childList: true});\n",
       "                    } }\n",
       "\n",
       "                    // Listen for the clearing of the current output cell\n",
       "                    var outputEl = gd.closest('.output');\n",
       "                    if (outputEl) { {\n",
       "                        x.observe(outputEl, {childList: true});\n",
       "                    } } })\n",
       "            };\n",
       "        });\n",
       "            </script>\n",
       "</div>"
      ]
     },
     "execution_count": 17,
     "metadata": {},
     "output_type": "execute_result"
    }
   ],
   "source": [
    ":dep plotly = { version = \">=0.7.0\" }\n",
    "//extern crate plotly;\n",
    "\n",
    "let x : Vec<i32> = vec![1,2,3,4,5,6,7,8,9,10];\n",
    "let y = x.iter().map(|v| (*v as f32).powf(2.0))\n",
    "    .collect::<Vec<f32>>();\n",
    "\n",
    "let trace = plotly::scatter::Scatter::new(x,y)\n",
    "    .mode(plotly::common::Mode::Markers);\n",
    "let layout = plotly::layout::Layout::new()\n",
    "    .width(640)\n",
    "    .height(480);\n",
    "let mut plot = plotly::plot::Plot::new();\n",
    "\n",
    "plot.add_trace(trace);\n",
    "plot.set_layout(layout);\n",
    "plot.notebook_display();"
   ]
  },
  {
   "cell_type": "code",
   "execution_count": null,
   "metadata": {},
   "outputs": [],
   "source": []
  }
 ],
 "metadata": {
  "kernelspec": {
   "display_name": "Rust",
   "language": "rust",
   "name": "rust"
  },
  "language_info": {
   "codemirror_mode": "rust",
   "file_extension": ".rs",
   "mimetype": "text/rust",
   "name": "Rust",
   "pygment_lexer": "rust",
   "version": ""
  }
 },
 "nbformat": 4,
 "nbformat_minor": 4
}

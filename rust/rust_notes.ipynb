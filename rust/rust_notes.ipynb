{
 "cells": [
  {
   "cell_type": "markdown",
   "metadata": {},
   "source": [
    "# Notes on Rust"
   ]
  },
  {
   "cell_type": "markdown",
   "metadata": {},
   "source": [
    "## Make Jupyter knows Rust\n",
    "\n",
    "Running this notebook requires Rust's jupyter kernel installed through `cargo` build chain which requires the Rust ecosystem.\n",
    "- install system dependency `sudo pamac install cmake` \n",
    "- install the jupyter-kernel `cargo install evcxr_jupyter`\n",
    "  ```\n",
    "    Updating crates.io index\n",
    "    Installing evcxr_jupyter v0.7.0\n",
    "     Compiling libc v0.2.81\n",
    "     ...\n",
    "     Compiling evcxr_jupyter v0.7.0\n",
    "     Finished release [optimized] target(s) in 3m 46s\n",
    "    Installing /home/tilo/.cargo/bin/evcxr_jupyter\n",
    "     Installed package `evcxr_jupyter v0.7.0` (executable `evcxr_jupyter`)\n",
    "  ```\n",
    "\n",
    "- activate jupyter-kernle ` ~/.cargo/bin/evcxr_jupyter --install` \n",
    "  ```\n",
    "    Writing /home/tilo/.local/share/jupyter/kernels/rust/kernel.json\n",
    "    Writing /home/tilo/.local/share/jupyter/kernels/rust/logo-32x32.png\n",
    "    Writing /home/tilo/.local/share/jupyter/kernels/rust/logo-64x64.png\n",
    "    Writing /home/tilo/.local/share/jupyter/kernels/rust/logo-LICENSE.md\n",
    "    Installation complete\n",
    "  ```\n"
   ]
  },
  {
   "cell_type": "code",
   "execution_count": 2,
   "metadata": {},
   "outputs": [],
   "source": [
    "const MSG: &str = \"Hello EvCxR\";"
   ]
  },
  {
   "cell_type": "code",
   "execution_count": 3,
   "metadata": {},
   "outputs": [
    {
     "data": {
      "text/plain": [
       "\"Hello EvCxR\""
      ]
     },
     "execution_count": 3,
     "metadata": {},
     "output_type": "execute_result"
    }
   ],
   "source": [
    "MSG"
   ]
  },
  {
   "cell_type": "markdown",
   "metadata": {},
   "source": [
    "## Display rustc version\n",
    "\n",
    "Followed [this advise: How can a Rust program access metadata from its Cargo package?](https://stackoverflow.com/questions/27840394/how-can-a-rust-program-access-metadata-from-its-cargo-package) and found function in module `std::env`."
   ]
  },
  {
   "cell_type": "code",
   "execution_count": 4,
   "metadata": {},
   "outputs": [
    {
     "data": {
      "text/plain": [
       "\"/tmp/.tmplmGjAl\""
      ]
     },
     "execution_count": 4,
     "metadata": {},
     "output_type": "execute_result"
    }
   ],
   "source": [
    "std::env!(\"CARGO_MANIFEST_DIR\", \"none\")"
   ]
  },
  {
   "cell_type": "code",
   "execution_count": 5,
   "metadata": {},
   "outputs": [
    {
     "data": {
      "text/plain": [
       "\"ctx\""
      ]
     },
     "execution_count": 5,
     "metadata": {},
     "output_type": "execute_result"
    }
   ],
   "source": [
    "std::env!(\"CARGO_PKG_NAME\", \"none\")"
   ]
  },
  {
   "cell_type": "code",
   "execution_count": 6,
   "metadata": {},
   "outputs": [
    {
     "data": {
      "text/plain": [
       "\"CARGO_MANIFEST_DIR\""
      ]
     },
     "execution_count": 6,
     "metadata": {},
     "output_type": "execute_result"
    }
   ],
   "source": [
    "let env_vars  = vec!(\"CARGO_MANIFEST_DIR\",\"CARGO_PKG_AUTHORS\",\"CARGO_PKG_DESCRIPTION\",\"CARGO_PKG_HOMEPAGE\",\"CARGO_PKG_NAME\",\"CARGO_PKG_REPOSITORY\",\"CARGO_PKG_VERSION\",\"CARGO_PKG_VERSION_MAJOR\",\"CARGO_PKG_VERSION_MINOR\",\"CARGO_PKG_VERSION_PATCH\",\"CARGO_PKG_VERSION_PRE\");\n",
    "env_vars[0]"
   ]
  },
  {
   "cell_type": "code",
   "execution_count": 7,
   "metadata": {},
   "outputs": [
    {
     "ename": "Error",
     "evalue": "expected string literal",
     "output_type": "error",
     "traceback": [
      "for var in env_vars {println!(\"{} : {}\", var, std::env!(var, \"none\"))}",
      "\u001b[91m                                                        ^^^\u001b[0m \u001b[94m\u001b[0m",
      "expected string literal"
     ]
    }
   ],
   "source": [
    "for var in env_vars {println!(\"{} : {}\", var, std::env!(var, \"none\"))}"
   ]
  },
  {
   "cell_type": "markdown",
   "metadata": {},
   "source": [
    "Don't know how to solve this for now. From type point of view both are string slices, the literal as well as array member."
   ]
  },
  {
   "cell_type": "code",
   "execution_count": 8,
   "metadata": {},
   "outputs": [
    {
     "data": {
      "text/plain": [
       "TypeId { t: 12392834530613204498 }"
      ]
     },
     "execution_count": 8,
     "metadata": {},
     "output_type": "execute_result"
    }
   ],
   "source": [
    "std::any::Any::type_id(env_vars[0])"
   ]
  },
  {
   "cell_type": "code",
   "execution_count": 9,
   "metadata": {
    "scrolled": true
   },
   "outputs": [
    {
     "data": {
      "text/plain": [
       "TypeId { t: 12392834530613204498 }"
      ]
     },
     "execution_count": 9,
     "metadata": {},
     "output_type": "execute_result"
    }
   ],
   "source": [
    "std::any::Any::type_id(\"CARGO_MANIFEST_DIR\")"
   ]
  },
  {
   "cell_type": "markdown",
   "metadata": {},
   "source": [
    "Let's resolve type's name."
   ]
  },
  {
   "cell_type": "code",
   "execution_count": 10,
   "metadata": {},
   "outputs": [
    {
     "ename": "Error",
     "evalue": "use of unstable library feature 'type_name_of_val'",
     "output_type": "error",
     "traceback": [
      "std::any::type_name_of_val(env_vars[0])",
      "\u001b[91m^^^^^^^^^^^^^^^^^^^^^^^^^^\u001b[0m \u001b[94m\u001b[0m",
      "use of unstable library feature 'type_name_of_val'"
     ]
    }
   ],
   "source": [
    "std::any::type_name_of_val(env_vars[0])"
   ]
  },
  {
   "cell_type": "markdown",
   "metadata": {},
   "source": [
    "Following `evcxr` command `:toolchain` requires toolchain \"nightly\" to be installed on the system.\n",
    "\n",
    "```\n",
    "    :toolchain nightly\n",
    "    Toolchain: nightly\n",
    "   \n",
    "    #![feature(type_name_of_val)]\n",
    "    let nightly_env_vars  =   vec!(\"CARGO_MANIFEST_DIR\");\n",
    "    std::any::type_name_of_val(nightly_env_vars[0])\n",
    "    \"str\"\n",
    "    \n",
    "    #![feature(type_name_of_val)]\n",
    "    std::any::type_name_of_val(\"CARGO_MANIFEST_DIR\")\n",
    "    \"str\"\n",
    "```"
   ]
  },
  {
   "cell_type": "markdown",
   "metadata": {},
   "source": [
    "I found file `.rustc_info.json` in the target directory where `evcxr_jupyter` executes the rust statements. Thought I could evaluate the which contains a path to information like this:\n",
    "```\n",
    "  \"rustc 1.57.0 (f1edd0429 2021-11-29)\n",
    "  binary: rustc\n",
    "  commit-hash: f1edd0429582dd29cccacaf50fd134b05593bd9c\n",
    "  commit-date: 2021-11-29\n",
    "  host: x86_64-unknown-linux-gnu\n",
    "  release: 1.57.0\n",
    "  LLVM version: 13.0.0\n",
    "  \"\n",
    "```\n",
    "\n",
    "Following talks about JSON output of RUSTC but this applies to messages generated during compilation: https://doc.rust-lang.org/rustc/json.html. Following crate helps to read and parse such messages: https://docs.rs/cargo_metadata/0.14.2/cargo_metadata/index.html. But I looked for a library which parses `.rustc_info.json` for me.\n"
   ]
  },
  {
   "cell_type": "code",
   "execution_count": 11,
   "metadata": {},
   "outputs": [
    {
     "name": "stdout",
     "output_type": "stream",
     "text": [
      "\"/tmp/.tmplmGjAl/target/.rustc_info.json\"\n",
      "\"/tmp/.tmplmGjAl/target/debug\"\n",
      "\"/tmp/.tmplmGjAl/target/CACHEDIR.TAG\"\n"
     ]
    },
    {
     "data": {
      "text/plain": [
       "()"
      ]
     },
     "execution_count": 11,
     "metadata": {},
     "output_type": "execute_result"
    }
   ],
   "source": [
    ":dep cargo_metadata = {version = \"0.14.2\"}\n",
    "\n",
    "let metadata = cargo_metadata::MetadataCommand::new()\n",
    "    .manifest_path(std::env!(\"CARGO_MANIFEST_DIR\", \"none\").to_owned() + \"/Cargo.toml\")\n",
    "    .features(cargo_metadata::CargoOpt::AllFeatures)\n",
    "    .exec()\n",
    "    .unwrap();\n",
    "for entry in std::fs::read_dir(&metadata.target_directory)?\n",
    "  {println!(\"{:?}\", entry.unwrap().path())}\n"
   ]
  },
  {
   "cell_type": "code",
   "execution_count": 12,
   "metadata": {},
   "outputs": [
    {
     "data": {
      "text/plain": [
       "Number(11635249661348444367)"
      ]
     },
     "execution_count": 12,
     "metadata": {},
     "output_type": "execute_result"
    }
   ],
   "source": [
    ":dep serde_json = {version = \"1.0.59\"}\n",
    "\n",
    "// Open the file in read-only mode with buffer.\n",
    "let file = std::fs::File::open(std::env!(\"CARGO_MANIFEST_DIR\", \"none\").to_owned() \n",
    "                                          + \"/target/.rustc_info.json\")?;\n",
    "let reader = std::io::BufReader::new(file);\n",
    "/* For beginners Rust is indeed a challange (but only at compile time ;-)\n",
    "   When ommiting following type annotation: `v : serde_json::Value`\n",
    "   Then error: \"invalid type: map, expected a string at line 1 column 1\"\n",
    "   When ommiting type annotation of `v` but access `v[\"rustc_fingerprint\"]`\n",
    "   Then error: \"cannot infer type; type annotations needed\", \n",
    "   which is already displayed by evcxr */\n",
    "let v : serde_json::Value = serde_json::from_reader(reader)?;\n",
    "v[\"rustc_fingerprint\"]"
   ]
  },
  {
   "cell_type": "markdown",
   "metadata": {},
   "source": [
    "## Plotting with Plotters\n",
    "\n",
    "A copy for evaluation from [Data Analysis with Rust Notebooks](https://datacrayon.com/posts/programming/rust-notebooks/plotting-with-plotters/) by Data Crayon.\n",
    "\n",
    "See also:\n",
    "- [Crate plotters - A Rust drawing library focus on data plotting for both WASM and native applications](https://docs.rs/plotters/latest/plotters/index.html)\n",
    "- [Developers Guide](https://plotters-rs.github.io/book/)\n",
    "\n",
    "Plotters: \"Because `evcxr` uses only SVG images and all types of series, so we don't need other types of backend. So we should put `default_features = false, features = [\"evcxr\", \"all_series\"]`\" when dependency `plotters` is to be loaded into `evcxr`.\n",
    "\n",
    "Function [`evcxr_figure()`](https://github.com/38/plotters/blob/26b24b1d30521af98e957a3a907d76b038e66c54/src/evcxr.rs#L31) is the integration provided by `plotters` with `evcxr` and is compiled in when [feature `evcxr` is configured](https://github.com/38/plotters/blob/26b24b1d30521af98e957a3a907d76b038e66c54/src/lib.rs#L748). It has following signature: \n",
    "\n",
    "> `pub fn plotters::evcxr::evcxr_figure<\n",
    "     Draw: FnOnce(plotters::drawing::DrawingArea<\n",
    "                    plotters::prelude::SVGBackend, \n",
    "                    plotters::coord::Shift>\n",
    "                 ) -> Result<\n",
    "                        (),\n",
    "                        Box<dyn std::error::Error>>\n",
    "    >(size: (u32, u32), draw: Draw) -> plotters::evcxr::SVGWrapper`. \n",
    "\n",
    "`evcxr_figure()` takes as arguments the size of the a drawing area and a [closure expression](https://doc.rust-lang.org/reference/expressions/closure-expr.html) creating an annonymous type implementing trait [`FnOnce`](https://doc.rust-lang.org/std/ops/trait.FnOnce.html) with it's method `call_once()` performing the call operation. `evcxr_figure()` returns an object of type `SVGWrapper` which implements following methods:\n",
    "- `pub fn evcxr_display(&self)`,\n",
    "- `pub fn style<S: Into<String>>(mut self, style: S) -> Self`\n",
    "\n",
    "and which implements finally the `std::fmt::Debug` trait according to the convention described by [`evcxr_jupyter` for custom output](https://github.com/google/evcxr/blob/38981aeccd20f9bb1bad65cd6d47ed8898caa2a6/evcxr_jupyter/README.md#custom-output). \n",
    "\n",
    "In the function to create a figure to be displayed by `evcxr_jupyter` following steps are taken:\n",
    "1. [The abstraction of a drawing area](https://docs.rs/plotters/latest/plotters/drawing/struct.DrawingArea.html) is hand over as variable `root` and with help of it's method [filled](https://docs.rs/plotters/latest/plotters/drawing/struct.DrawingArea.html#method.fill) in color [white](https://docs.rs/plotters/latest/plotters/style/colors/constant.WHITE.html).\n",
    "2. A [helper object to create a chart context](https://docs.rs/plotters/latest/plotters/chart/struct.ChartBuilder.html) is created with its method [on](https://docs.rs/plotters/latest/plotters/chart/struct.ChartBuilder.html#method.on) returning the chart builder followed by chain of method calls:\n",
    "  - [The caption of the chart with a text style](https://docs.rs/plotters/latest/plotters/chart/struct.ChartBuilder.html#method.caption) is set returning the chart builder instance.\n",
    "  - [The margin size of the chart](https://docs.rs/plotters/latest/plotters/chart/struct.ChartBuilder.html#method.margin) is set returning the chart builder instance.\n",
    "  - [The size of X label area](https://docs.rs/plotters/latest/plotters/chart/struct.ChartBuilder.html#method.x_label_area_size) is set returning the chart builder instance.\n",
    "  - [The size of the Y label area](https://docs.rs/plotters/latest/plotters/chart/struct.ChartBuilder.html#method.y_label_area_size) is set returning the chart builder instance.\n",
    "  - And finally [build the chart with a 2D Cartesian coordinate system.](https://docs.rs/plotters/latest/plotters/chart/struct.ChartBuilder.html#method.build_cartesian_2d) The function will return a `Result` object with either a [ChartContext<'a, DB, Cartesian2d<X::CoordDescType, Y::CoordDescType>](https://docs.rs/plotters/latest/plotters/chart/struct.ChartContext.html), where a data series can be rendered on, or a `DrawingAreaErrorKind<DB::ErrorType>`.\n",
    "3. The [chart context](https://docs.rs/plotters/latest/plotters/chart/struct.ChartContext.html) method [**configure_mesh()**](https://docs.rs/plotters/latest/plotters/chart/struct.ChartContext.html#method.configure_mesh) initializes a mesh configuration object and returning a [MeshStyle](https://docs.rs/plotters/latest/plotters/chart/struct.MeshStyle.html). The mesh drawing can be finalized by calling the MeshStyle's method [draw](https://docs.rs/plotters/latest/plotters/chart/struct.MeshStyle.html#method.draw) which draws the configured mesh on the target plot returning a `Result` object ( either `()` or `DrawingAreaErrorKind<DB::ErrorType>`).\n",
    "4. The [chart context's](https://docs.rs/plotters/latest/plotters/chart/struct.ChartContext.html) method [**draw_series()**](https://docs.rs/plotters/latest/plotters/chart/struct.ChartContext.html#method.draw_series) draws a data series returning a `Result` object with either a [series' annotation](https://docs.rs/plotters/latest/plotters/chart/struct.SeriesAnno.html) or a `DrawingAreaErrorKind<DB::ErrorType>` followed by a chain of method calls. A data series in Plotters is abstracted as an iterator of elements.\n",
    "  - The [line series](https://docs.rs/plotters/latest/plotters/series/struct.LineSeries.html) object is created by method [new](https://docs.rs/plotters/latest/plotters/series/struct.LineSeries.html#method.new), which takes an iterator of points in guest coordinate system with a ShapeStyle and creates the element rendering the line plot. See following piece of code demonstrating the construct of the series is an iterator creating points of an coordinate system.\n",
    "    > `for (x,y) in (-50..=50).map(|x| x as f32 / 50.0).map(|x| (x, x*x)) \n",
    "        {println!(\"{:.2},{:.2}\", x, y)}`\n",
    "    \n",
    "- [The label](https://docs.rs/plotters/latest/plotters/chart/struct.SeriesAnno.html#method.label) sets the string used as a label for current series.\n",
    "  - [The legend](https://docs.rs/plotters/latest/plotters/chart/struct.SeriesAnno.html#method.legend) sets the element creator function. *Note*: The creation function uses a shifted pixel-based coordinate system. And place the point (0,0) to the mid-right point of the shape.\n",
    "5. The [chart context's](https://docs.rs/plotters/latest/plotters/chart/struct.ChartContext.html) method [**configure_series_labels()**](https://docs.rs/plotters/latest/plotters/chart/struct.ChartContext.html#method.configure_series_labels) configures the styles for drawing series labels in the chart and returns a [SeriesLabelStyle](https://docs.rs/plotters/latest/plotters/chart/struct.SeriesLabelStyle.html)  followed by chain of method calls:. \n",
    "  - [The background style](https://docs.rs/plotters/0.3.1/plotters/chart/struct.SeriesLabelStyle.html#method.background_style) is set with [ShapeStyle](https://docs.rs/plotters/0.3.1/plotters/style/struct.ShapeStyle.html) returning the series label of a target chart context,\n",
    "  - [The style of the label series area](https://docs.rs/plotters/0.3.1/plotters/chart/struct.SeriesLabelStyle.html#method.border_style) is set with [ShapeStyle](https://docs.rs/plotters/0.3.1/plotters/style/struct.ShapeStyle.html) returning the series label of a target chart context,\n",
    "  - and finally by calling the SeriesLabelStyle's method [draw](https://docs.rs/plotters/latest/plotters/chart/struct.SeriesLabelStyle.html#method.draw) which draws the series label area returning a `Result` object ( either `()` or `DrawingAreaErrorKind<DB::ErrorType>`).\n",
    "6. The closure \"closes\" with returning an empty tuple, the [`()` type](https://doc.rust-lang.org/std/primitive.unit.html) wrapped in a [ok variant](https://doc.rust-lang.org/std/result/enum.Result.html#variant.Ok) of a `Result` object.\n",
    "\n",
    "Note: `extern` and `use` declarations had been commented out for learning. Thus [namespace paths](https://doc.rust-lang.org/stable/reference/paths.html) are needed to be defined for each `struct` or even `trait`. For instance without either `use plotters::prelude::*;` or `use plotters::style::Color;` the compiler couldn't infer the type implementing [trait method `mix`](https://docs.rs/plotters/0.3.1/plotters/style/trait.Color.html#method.mix). So the  trait method needed to be called explicit with the instance of type [RGBAColor](https://docs.rs/plotters/0.3.1/plotters/style/struct.RGBAColor.html)."
   ]
  },
  {
   "cell_type": "code",
   "execution_count": 13,
   "metadata": {},
   "outputs": [
    {
     "name": "stderr",
     "output_type": "stream",
     "text": [
      "The type of the variable metadata was redefined, so was lost.\n",
      "The type of the variable v was redefined, so was lost.\n"
     ]
    },
    {
     "data": {
      "text/html": [
       "<div style=\"\"><svg width=\"640\" height=\"480\" viewBox=\"0 0 640 480\" xmlns=\"http://www.w3.org/2000/svg\">\n",
       "<rect x=\"0\" y=\"0\" width=\"639\" height=\"479\" opacity=\"1\" fill=\"#FFFFFF\" stroke=\"none\"/>\n",
       "<text x=\"320\" y=\"10\" dy=\"0.76em\" text-anchor=\"middle\" font-family=\"Arial\" font-size=\"40.32258064516129\" opacity=\"1\" fill=\"#000000\">\n",
       "y=x^2\n",
       "</text>\n",
       "<line opacity=\"0.1\" stroke=\"#000000\" stroke-width=\"1\" x1=\"41\" y1=\"444\" x2=\"41\" y2=\"55\"/>\n",
       "<line opacity=\"0.1\" stroke=\"#000000\" stroke-width=\"1\" x1=\"47\" y1=\"444\" x2=\"47\" y2=\"55\"/>\n",
       "<line opacity=\"0.1\" stroke=\"#000000\" stroke-width=\"1\" x1=\"53\" y1=\"444\" x2=\"53\" y2=\"55\"/>\n",
       "<line opacity=\"0.1\" stroke=\"#000000\" stroke-width=\"1\" x1=\"59\" y1=\"444\" x2=\"59\" y2=\"55\"/>\n",
       "<line opacity=\"0.1\" stroke=\"#000000\" stroke-width=\"1\" x1=\"65\" y1=\"444\" x2=\"65\" y2=\"55\"/>\n",
       "<line opacity=\"0.1\" stroke=\"#000000\" stroke-width=\"1\" x1=\"71\" y1=\"444\" x2=\"71\" y2=\"55\"/>\n",
       "<line opacity=\"0.1\" stroke=\"#000000\" stroke-width=\"1\" x1=\"77\" y1=\"444\" x2=\"77\" y2=\"55\"/>\n",
       "<line opacity=\"0.1\" stroke=\"#000000\" stroke-width=\"1\" x1=\"83\" y1=\"444\" x2=\"83\" y2=\"55\"/>\n",
       "<line opacity=\"0.1\" stroke=\"#000000\" stroke-width=\"1\" x1=\"89\" y1=\"444\" x2=\"89\" y2=\"55\"/>\n",
       "<line opacity=\"0.1\" stroke=\"#000000\" stroke-width=\"1\" x1=\"95\" y1=\"444\" x2=\"95\" y2=\"55\"/>\n",
       "<line opacity=\"0.1\" stroke=\"#000000\" stroke-width=\"1\" x1=\"101\" y1=\"444\" x2=\"101\" y2=\"55\"/>\n",
       "<line opacity=\"0.1\" stroke=\"#000000\" stroke-width=\"1\" x1=\"107\" y1=\"444\" x2=\"107\" y2=\"55\"/>\n",
       "<line opacity=\"0.1\" stroke=\"#000000\" stroke-width=\"1\" x1=\"113\" y1=\"444\" x2=\"113\" y2=\"55\"/>\n",
       "<line opacity=\"0.1\" stroke=\"#000000\" stroke-width=\"1\" x1=\"119\" y1=\"444\" x2=\"119\" y2=\"55\"/>\n",
       "<line opacity=\"0.1\" stroke=\"#000000\" stroke-width=\"1\" x1=\"125\" y1=\"444\" x2=\"125\" y2=\"55\"/>\n",
       "<line opacity=\"0.1\" stroke=\"#000000\" stroke-width=\"1\" x1=\"131\" y1=\"444\" x2=\"131\" y2=\"55\"/>\n",
       "<line opacity=\"0.1\" stroke=\"#000000\" stroke-width=\"1\" x1=\"137\" y1=\"444\" x2=\"137\" y2=\"55\"/>\n",
       "<line opacity=\"0.1\" stroke=\"#000000\" stroke-width=\"1\" x1=\"143\" y1=\"444\" x2=\"143\" y2=\"55\"/>\n",
       "<line opacity=\"0.1\" stroke=\"#000000\" stroke-width=\"1\" x1=\"149\" y1=\"444\" x2=\"149\" y2=\"55\"/>\n",
       "<line opacity=\"0.1\" stroke=\"#000000\" stroke-width=\"1\" x1=\"155\" y1=\"444\" x2=\"155\" y2=\"55\"/>\n",
       "<line opacity=\"0.1\" stroke=\"#000000\" stroke-width=\"1\" x1=\"161\" y1=\"444\" x2=\"161\" y2=\"55\"/>\n",
       "<line opacity=\"0.1\" stroke=\"#000000\" stroke-width=\"1\" x1=\"167\" y1=\"444\" x2=\"167\" y2=\"55\"/>\n",
       "<line opacity=\"0.1\" stroke=\"#000000\" stroke-width=\"1\" x1=\"173\" y1=\"444\" x2=\"173\" y2=\"55\"/>\n",
       "<line opacity=\"0.1\" stroke=\"#000000\" stroke-width=\"1\" x1=\"179\" y1=\"444\" x2=\"179\" y2=\"55\"/>\n",
       "<line opacity=\"0.1\" stroke=\"#000000\" stroke-width=\"1\" x1=\"185\" y1=\"444\" x2=\"185\" y2=\"55\"/>\n",
       "<line opacity=\"0.1\" stroke=\"#000000\" stroke-width=\"1\" x1=\"191\" y1=\"444\" x2=\"191\" y2=\"55\"/>\n",
       "<line opacity=\"0.1\" stroke=\"#000000\" stroke-width=\"1\" x1=\"197\" y1=\"444\" x2=\"197\" y2=\"55\"/>\n",
       "<line opacity=\"0.1\" stroke=\"#000000\" stroke-width=\"1\" x1=\"203\" y1=\"444\" x2=\"203\" y2=\"55\"/>\n",
       "<line opacity=\"0.1\" stroke=\"#000000\" stroke-width=\"1\" x1=\"209\" y1=\"444\" x2=\"209\" y2=\"55\"/>\n",
       "<line opacity=\"0.1\" stroke=\"#000000\" stroke-width=\"1\" x1=\"215\" y1=\"444\" x2=\"215\" y2=\"55\"/>\n",
       "<line opacity=\"0.1\" stroke=\"#000000\" stroke-width=\"1\" x1=\"221\" y1=\"444\" x2=\"221\" y2=\"55\"/>\n",
       "<line opacity=\"0.1\" stroke=\"#000000\" stroke-width=\"1\" x1=\"227\" y1=\"444\" x2=\"227\" y2=\"55\"/>\n",
       "<line opacity=\"0.1\" stroke=\"#000000\" stroke-width=\"1\" x1=\"233\" y1=\"444\" x2=\"233\" y2=\"55\"/>\n",
       "<line opacity=\"0.1\" stroke=\"#000000\" stroke-width=\"1\" x1=\"239\" y1=\"444\" x2=\"239\" y2=\"55\"/>\n",
       "<line opacity=\"0.1\" stroke=\"#000000\" stroke-width=\"1\" x1=\"245\" y1=\"444\" x2=\"245\" y2=\"55\"/>\n",
       "<line opacity=\"0.1\" stroke=\"#000000\" stroke-width=\"1\" x1=\"251\" y1=\"444\" x2=\"251\" y2=\"55\"/>\n",
       "<line opacity=\"0.1\" stroke=\"#000000\" stroke-width=\"1\" x1=\"257\" y1=\"444\" x2=\"257\" y2=\"55\"/>\n",
       "<line opacity=\"0.1\" stroke=\"#000000\" stroke-width=\"1\" x1=\"263\" y1=\"444\" x2=\"263\" y2=\"55\"/>\n",
       "<line opacity=\"0.1\" stroke=\"#000000\" stroke-width=\"1\" x1=\"269\" y1=\"444\" x2=\"269\" y2=\"55\"/>\n",
       "<line opacity=\"0.1\" stroke=\"#000000\" stroke-width=\"1\" x1=\"275\" y1=\"444\" x2=\"275\" y2=\"55\"/>\n",
       "<line opacity=\"0.1\" stroke=\"#000000\" stroke-width=\"1\" x1=\"281\" y1=\"444\" x2=\"281\" y2=\"55\"/>\n",
       "<line opacity=\"0.1\" stroke=\"#000000\" stroke-width=\"1\" x1=\"287\" y1=\"444\" x2=\"287\" y2=\"55\"/>\n",
       "<line opacity=\"0.1\" stroke=\"#000000\" stroke-width=\"1\" x1=\"293\" y1=\"444\" x2=\"293\" y2=\"55\"/>\n",
       "<line opacity=\"0.1\" stroke=\"#000000\" stroke-width=\"1\" x1=\"299\" y1=\"444\" x2=\"299\" y2=\"55\"/>\n",
       "<line opacity=\"0.1\" stroke=\"#000000\" stroke-width=\"1\" x1=\"305\" y1=\"444\" x2=\"305\" y2=\"55\"/>\n",
       "<line opacity=\"0.1\" stroke=\"#000000\" stroke-width=\"1\" x1=\"311\" y1=\"444\" x2=\"311\" y2=\"55\"/>\n",
       "<line opacity=\"0.1\" stroke=\"#000000\" stroke-width=\"1\" x1=\"317\" y1=\"444\" x2=\"317\" y2=\"55\"/>\n",
       "<line opacity=\"0.1\" stroke=\"#000000\" stroke-width=\"1\" x1=\"323\" y1=\"444\" x2=\"323\" y2=\"55\"/>\n",
       "<line opacity=\"0.1\" stroke=\"#000000\" stroke-width=\"1\" x1=\"329\" y1=\"444\" x2=\"329\" y2=\"55\"/>\n",
       "<line opacity=\"0.1\" stroke=\"#000000\" stroke-width=\"1\" x1=\"335\" y1=\"444\" x2=\"335\" y2=\"55\"/>\n",
       "<line opacity=\"0.1\" stroke=\"#000000\" stroke-width=\"1\" x1=\"341\" y1=\"444\" x2=\"341\" y2=\"55\"/>\n",
       "<line opacity=\"0.1\" stroke=\"#000000\" stroke-width=\"1\" x1=\"347\" y1=\"444\" x2=\"347\" y2=\"55\"/>\n",
       "<line opacity=\"0.1\" stroke=\"#000000\" stroke-width=\"1\" x1=\"353\" y1=\"444\" x2=\"353\" y2=\"55\"/>\n",
       "<line opacity=\"0.1\" stroke=\"#000000\" stroke-width=\"1\" x1=\"359\" y1=\"444\" x2=\"359\" y2=\"55\"/>\n",
       "<line opacity=\"0.1\" stroke=\"#000000\" stroke-width=\"1\" x1=\"365\" y1=\"444\" x2=\"365\" y2=\"55\"/>\n",
       "<line opacity=\"0.1\" stroke=\"#000000\" stroke-width=\"1\" x1=\"371\" y1=\"444\" x2=\"371\" y2=\"55\"/>\n",
       "<line opacity=\"0.1\" stroke=\"#000000\" stroke-width=\"1\" x1=\"377\" y1=\"444\" x2=\"377\" y2=\"55\"/>\n",
       "<line opacity=\"0.1\" stroke=\"#000000\" stroke-width=\"1\" x1=\"383\" y1=\"444\" x2=\"383\" y2=\"55\"/>\n",
       "<line opacity=\"0.1\" stroke=\"#000000\" stroke-width=\"1\" x1=\"389\" y1=\"444\" x2=\"389\" y2=\"55\"/>\n",
       "<line opacity=\"0.1\" stroke=\"#000000\" stroke-width=\"1\" x1=\"395\" y1=\"444\" x2=\"395\" y2=\"55\"/>\n",
       "<line opacity=\"0.1\" stroke=\"#000000\" stroke-width=\"1\" x1=\"401\" y1=\"444\" x2=\"401\" y2=\"55\"/>\n",
       "<line opacity=\"0.1\" stroke=\"#000000\" stroke-width=\"1\" x1=\"407\" y1=\"444\" x2=\"407\" y2=\"55\"/>\n",
       "<line opacity=\"0.1\" stroke=\"#000000\" stroke-width=\"1\" x1=\"413\" y1=\"444\" x2=\"413\" y2=\"55\"/>\n",
       "<line opacity=\"0.1\" stroke=\"#000000\" stroke-width=\"1\" x1=\"419\" y1=\"444\" x2=\"419\" y2=\"55\"/>\n",
       "<line opacity=\"0.1\" stroke=\"#000000\" stroke-width=\"1\" x1=\"425\" y1=\"444\" x2=\"425\" y2=\"55\"/>\n",
       "<line opacity=\"0.1\" stroke=\"#000000\" stroke-width=\"1\" x1=\"431\" y1=\"444\" x2=\"431\" y2=\"55\"/>\n",
       "<line opacity=\"0.1\" stroke=\"#000000\" stroke-width=\"1\" x1=\"437\" y1=\"444\" x2=\"437\" y2=\"55\"/>\n",
       "<line opacity=\"0.1\" stroke=\"#000000\" stroke-width=\"1\" x1=\"443\" y1=\"444\" x2=\"443\" y2=\"55\"/>\n",
       "<line opacity=\"0.1\" stroke=\"#000000\" stroke-width=\"1\" x1=\"449\" y1=\"444\" x2=\"449\" y2=\"55\"/>\n",
       "<line opacity=\"0.1\" stroke=\"#000000\" stroke-width=\"1\" x1=\"455\" y1=\"444\" x2=\"455\" y2=\"55\"/>\n",
       "<line opacity=\"0.1\" stroke=\"#000000\" stroke-width=\"1\" x1=\"461\" y1=\"444\" x2=\"461\" y2=\"55\"/>\n",
       "<line opacity=\"0.1\" stroke=\"#000000\" stroke-width=\"1\" x1=\"467\" y1=\"444\" x2=\"467\" y2=\"55\"/>\n",
       "<line opacity=\"0.1\" stroke=\"#000000\" stroke-width=\"1\" x1=\"473\" y1=\"444\" x2=\"473\" y2=\"55\"/>\n",
       "<line opacity=\"0.1\" stroke=\"#000000\" stroke-width=\"1\" x1=\"479\" y1=\"444\" x2=\"479\" y2=\"55\"/>\n",
       "<line opacity=\"0.1\" stroke=\"#000000\" stroke-width=\"1\" x1=\"485\" y1=\"444\" x2=\"485\" y2=\"55\"/>\n",
       "<line opacity=\"0.1\" stroke=\"#000000\" stroke-width=\"1\" x1=\"491\" y1=\"444\" x2=\"491\" y2=\"55\"/>\n",
       "<line opacity=\"0.1\" stroke=\"#000000\" stroke-width=\"1\" x1=\"497\" y1=\"444\" x2=\"497\" y2=\"55\"/>\n",
       "<line opacity=\"0.1\" stroke=\"#000000\" stroke-width=\"1\" x1=\"503\" y1=\"444\" x2=\"503\" y2=\"55\"/>\n",
       "<line opacity=\"0.1\" stroke=\"#000000\" stroke-width=\"1\" x1=\"509\" y1=\"444\" x2=\"509\" y2=\"55\"/>\n",
       "<line opacity=\"0.1\" stroke=\"#000000\" stroke-width=\"1\" x1=\"515\" y1=\"444\" x2=\"515\" y2=\"55\"/>\n",
       "<line opacity=\"0.1\" stroke=\"#000000\" stroke-width=\"1\" x1=\"521\" y1=\"444\" x2=\"521\" y2=\"55\"/>\n",
       "<line opacity=\"0.1\" stroke=\"#000000\" stroke-width=\"1\" x1=\"527\" y1=\"444\" x2=\"527\" y2=\"55\"/>\n",
       "<line opacity=\"0.1\" stroke=\"#000000\" stroke-width=\"1\" x1=\"533\" y1=\"444\" x2=\"533\" y2=\"55\"/>\n",
       "<line opacity=\"0.1\" stroke=\"#000000\" stroke-width=\"1\" x1=\"539\" y1=\"444\" x2=\"539\" y2=\"55\"/>\n",
       "<line opacity=\"0.1\" stroke=\"#000000\" stroke-width=\"1\" x1=\"545\" y1=\"444\" x2=\"545\" y2=\"55\"/>\n",
       "<line opacity=\"0.1\" stroke=\"#000000\" stroke-width=\"1\" x1=\"551\" y1=\"444\" x2=\"551\" y2=\"55\"/>\n",
       "<line opacity=\"0.1\" stroke=\"#000000\" stroke-width=\"1\" x1=\"557\" y1=\"444\" x2=\"557\" y2=\"55\"/>\n",
       "<line opacity=\"0.1\" stroke=\"#000000\" stroke-width=\"1\" x1=\"563\" y1=\"444\" x2=\"563\" y2=\"55\"/>\n",
       "<line opacity=\"0.1\" stroke=\"#000000\" stroke-width=\"1\" x1=\"569\" y1=\"444\" x2=\"569\" y2=\"55\"/>\n",
       "<line opacity=\"0.1\" stroke=\"#000000\" stroke-width=\"1\" x1=\"575\" y1=\"444\" x2=\"575\" y2=\"55\"/>\n",
       "<line opacity=\"0.1\" stroke=\"#000000\" stroke-width=\"1\" x1=\"581\" y1=\"444\" x2=\"581\" y2=\"55\"/>\n",
       "<line opacity=\"0.1\" stroke=\"#000000\" stroke-width=\"1\" x1=\"587\" y1=\"444\" x2=\"587\" y2=\"55\"/>\n",
       "<line opacity=\"0.1\" stroke=\"#000000\" stroke-width=\"1\" x1=\"593\" y1=\"444\" x2=\"593\" y2=\"55\"/>\n",
       "<line opacity=\"0.1\" stroke=\"#000000\" stroke-width=\"1\" x1=\"599\" y1=\"444\" x2=\"599\" y2=\"55\"/>\n",
       "<line opacity=\"0.1\" stroke=\"#000000\" stroke-width=\"1\" x1=\"605\" y1=\"444\" x2=\"605\" y2=\"55\"/>\n",
       "<line opacity=\"0.1\" stroke=\"#000000\" stroke-width=\"1\" x1=\"611\" y1=\"444\" x2=\"611\" y2=\"55\"/>\n",
       "<line opacity=\"0.1\" stroke=\"#000000\" stroke-width=\"1\" x1=\"617\" y1=\"444\" x2=\"617\" y2=\"55\"/>\n",
       "<line opacity=\"0.1\" stroke=\"#000000\" stroke-width=\"1\" x1=\"623\" y1=\"444\" x2=\"623\" y2=\"55\"/>\n",
       "<line opacity=\"0.1\" stroke=\"#000000\" stroke-width=\"1\" x1=\"629\" y1=\"444\" x2=\"629\" y2=\"55\"/>\n",
       "<line opacity=\"0.1\" stroke=\"#000000\" stroke-width=\"1\" x1=\"635\" y1=\"444\" x2=\"635\" y2=\"55\"/>\n",
       "<line opacity=\"0.1\" stroke=\"#000000\" stroke-width=\"1\" x1=\"35\" y1=\"444\" x2=\"635\" y2=\"444\"/>\n",
       "<line opacity=\"0.1\" stroke=\"#000000\" stroke-width=\"1\" x1=\"35\" y1=\"436\" x2=\"635\" y2=\"436\"/>\n",
       "<line opacity=\"0.1\" stroke=\"#000000\" stroke-width=\"1\" x1=\"35\" y1=\"429\" x2=\"635\" y2=\"429\"/>\n",
       "<line opacity=\"0.1\" stroke=\"#000000\" stroke-width=\"1\" x1=\"35\" y1=\"422\" x2=\"635\" y2=\"422\"/>\n",
       "<line opacity=\"0.1\" stroke=\"#000000\" stroke-width=\"1\" x1=\"35\" y1=\"415\" x2=\"635\" y2=\"415\"/>\n",
       "<line opacity=\"0.1\" stroke=\"#000000\" stroke-width=\"1\" x1=\"35\" y1=\"408\" x2=\"635\" y2=\"408\"/>\n",
       "<line opacity=\"0.1\" stroke=\"#000000\" stroke-width=\"1\" x1=\"35\" y1=\"401\" x2=\"635\" y2=\"401\"/>\n",
       "<line opacity=\"0.1\" stroke=\"#000000\" stroke-width=\"1\" x1=\"35\" y1=\"394\" x2=\"635\" y2=\"394\"/>\n",
       "<line opacity=\"0.1\" stroke=\"#000000\" stroke-width=\"1\" x1=\"35\" y1=\"387\" x2=\"635\" y2=\"387\"/>\n",
       "<line opacity=\"0.1\" stroke=\"#000000\" stroke-width=\"1\" x1=\"35\" y1=\"380\" x2=\"635\" y2=\"380\"/>\n",
       "<line opacity=\"0.1\" stroke=\"#000000\" stroke-width=\"1\" x1=\"35\" y1=\"373\" x2=\"635\" y2=\"373\"/>\n",
       "<line opacity=\"0.1\" stroke=\"#000000\" stroke-width=\"1\" x1=\"35\" y1=\"366\" x2=\"635\" y2=\"366\"/>\n",
       "<line opacity=\"0.1\" stroke=\"#000000\" stroke-width=\"1\" x1=\"35\" y1=\"359\" x2=\"635\" y2=\"359\"/>\n",
       "<line opacity=\"0.1\" stroke=\"#000000\" stroke-width=\"1\" x1=\"35\" y1=\"352\" x2=\"635\" y2=\"352\"/>\n",
       "<line opacity=\"0.1\" stroke=\"#000000\" stroke-width=\"1\" x1=\"35\" y1=\"344\" x2=\"635\" y2=\"344\"/>\n",
       "<line opacity=\"0.1\" stroke=\"#000000\" stroke-width=\"1\" x1=\"35\" y1=\"337\" x2=\"635\" y2=\"337\"/>\n",
       "<line opacity=\"0.1\" stroke=\"#000000\" stroke-width=\"1\" x1=\"35\" y1=\"330\" x2=\"635\" y2=\"330\"/>\n",
       "<line opacity=\"0.1\" stroke=\"#000000\" stroke-width=\"1\" x1=\"35\" y1=\"323\" x2=\"635\" y2=\"323\"/>\n",
       "<line opacity=\"0.1\" stroke=\"#000000\" stroke-width=\"1\" x1=\"35\" y1=\"316\" x2=\"635\" y2=\"316\"/>\n",
       "<line opacity=\"0.1\" stroke=\"#000000\" stroke-width=\"1\" x1=\"35\" y1=\"309\" x2=\"635\" y2=\"309\"/>\n",
       "<line opacity=\"0.1\" stroke=\"#000000\" stroke-width=\"1\" x1=\"35\" y1=\"302\" x2=\"635\" y2=\"302\"/>\n",
       "<line opacity=\"0.1\" stroke=\"#000000\" stroke-width=\"1\" x1=\"35\" y1=\"295\" x2=\"635\" y2=\"295\"/>\n",
       "<line opacity=\"0.1\" stroke=\"#000000\" stroke-width=\"1\" x1=\"35\" y1=\"288\" x2=\"635\" y2=\"288\"/>\n",
       "<line opacity=\"0.1\" stroke=\"#000000\" stroke-width=\"1\" x1=\"35\" y1=\"281\" x2=\"635\" y2=\"281\"/>\n",
       "<line opacity=\"0.1\" stroke=\"#000000\" stroke-width=\"1\" x1=\"35\" y1=\"274\" x2=\"635\" y2=\"274\"/>\n",
       "<line opacity=\"0.1\" stroke=\"#000000\" stroke-width=\"1\" x1=\"35\" y1=\"267\" x2=\"635\" y2=\"267\"/>\n",
       "<line opacity=\"0.1\" stroke=\"#000000\" stroke-width=\"1\" x1=\"35\" y1=\"260\" x2=\"635\" y2=\"260\"/>\n",
       "<line opacity=\"0.1\" stroke=\"#000000\" stroke-width=\"1\" x1=\"35\" y1=\"253\" x2=\"635\" y2=\"253\"/>\n",
       "<line opacity=\"0.1\" stroke=\"#000000\" stroke-width=\"1\" x1=\"35\" y1=\"245\" x2=\"635\" y2=\"245\"/>\n",
       "<line opacity=\"0.1\" stroke=\"#000000\" stroke-width=\"1\" x1=\"35\" y1=\"238\" x2=\"635\" y2=\"238\"/>\n",
       "<line opacity=\"0.1\" stroke=\"#000000\" stroke-width=\"1\" x1=\"35\" y1=\"231\" x2=\"635\" y2=\"231\"/>\n",
       "<line opacity=\"0.1\" stroke=\"#000000\" stroke-width=\"1\" x1=\"35\" y1=\"224\" x2=\"635\" y2=\"224\"/>\n",
       "<line opacity=\"0.1\" stroke=\"#000000\" stroke-width=\"1\" x1=\"35\" y1=\"217\" x2=\"635\" y2=\"217\"/>\n",
       "<line opacity=\"0.1\" stroke=\"#000000\" stroke-width=\"1\" x1=\"35\" y1=\"210\" x2=\"635\" y2=\"210\"/>\n",
       "<line opacity=\"0.1\" stroke=\"#000000\" stroke-width=\"1\" x1=\"35\" y1=\"203\" x2=\"635\" y2=\"203\"/>\n",
       "<line opacity=\"0.1\" stroke=\"#000000\" stroke-width=\"1\" x1=\"35\" y1=\"196\" x2=\"635\" y2=\"196\"/>\n",
       "<line opacity=\"0.1\" stroke=\"#000000\" stroke-width=\"1\" x1=\"35\" y1=\"189\" x2=\"635\" y2=\"189\"/>\n",
       "<line opacity=\"0.1\" stroke=\"#000000\" stroke-width=\"1\" x1=\"35\" y1=\"182\" x2=\"635\" y2=\"182\"/>\n",
       "<line opacity=\"0.1\" stroke=\"#000000\" stroke-width=\"1\" x1=\"35\" y1=\"175\" x2=\"635\" y2=\"175\"/>\n",
       "<line opacity=\"0.1\" stroke=\"#000000\" stroke-width=\"1\" x1=\"35\" y1=\"168\" x2=\"635\" y2=\"168\"/>\n",
       "<line opacity=\"0.1\" stroke=\"#000000\" stroke-width=\"1\" x1=\"35\" y1=\"161\" x2=\"635\" y2=\"161\"/>\n",
       "<line opacity=\"0.1\" stroke=\"#000000\" stroke-width=\"1\" x1=\"35\" y1=\"154\" x2=\"635\" y2=\"154\"/>\n",
       "<line opacity=\"0.1\" stroke=\"#000000\" stroke-width=\"1\" x1=\"35\" y1=\"146\" x2=\"635\" y2=\"146\"/>\n",
       "<line opacity=\"0.1\" stroke=\"#000000\" stroke-width=\"1\" x1=\"35\" y1=\"139\" x2=\"635\" y2=\"139\"/>\n",
       "<line opacity=\"0.1\" stroke=\"#000000\" stroke-width=\"1\" x1=\"35\" y1=\"132\" x2=\"635\" y2=\"132\"/>\n",
       "<line opacity=\"0.1\" stroke=\"#000000\" stroke-width=\"1\" x1=\"35\" y1=\"125\" x2=\"635\" y2=\"125\"/>\n",
       "<line opacity=\"0.1\" stroke=\"#000000\" stroke-width=\"1\" x1=\"35\" y1=\"118\" x2=\"635\" y2=\"118\"/>\n",
       "<line opacity=\"0.1\" stroke=\"#000000\" stroke-width=\"1\" x1=\"35\" y1=\"111\" x2=\"635\" y2=\"111\"/>\n",
       "<line opacity=\"0.1\" stroke=\"#000000\" stroke-width=\"1\" x1=\"35\" y1=\"104\" x2=\"635\" y2=\"104\"/>\n",
       "<line opacity=\"0.1\" stroke=\"#000000\" stroke-width=\"1\" x1=\"35\" y1=\"97\" x2=\"635\" y2=\"97\"/>\n",
       "<line opacity=\"0.1\" stroke=\"#000000\" stroke-width=\"1\" x1=\"35\" y1=\"90\" x2=\"635\" y2=\"90\"/>\n",
       "<line opacity=\"0.1\" stroke=\"#000000\" stroke-width=\"1\" x1=\"35\" y1=\"83\" x2=\"635\" y2=\"83\"/>\n",
       "<line opacity=\"0.1\" stroke=\"#000000\" stroke-width=\"1\" x1=\"35\" y1=\"76\" x2=\"635\" y2=\"76\"/>\n",
       "<line opacity=\"0.1\" stroke=\"#000000\" stroke-width=\"1\" x1=\"35\" y1=\"69\" x2=\"635\" y2=\"69\"/>\n",
       "<line opacity=\"0.1\" stroke=\"#000000\" stroke-width=\"1\" x1=\"35\" y1=\"62\" x2=\"635\" y2=\"62\"/>\n",
       "<line opacity=\"0.1\" stroke=\"#000000\" stroke-width=\"1\" x1=\"35\" y1=\"55\" x2=\"635\" y2=\"55\"/>\n",
       "<line opacity=\"0.2\" stroke=\"#000000\" stroke-width=\"1\" x1=\"95\" y1=\"444\" x2=\"95\" y2=\"55\"/>\n",
       "<line opacity=\"0.2\" stroke=\"#000000\" stroke-width=\"1\" x1=\"155\" y1=\"444\" x2=\"155\" y2=\"55\"/>\n",
       "<line opacity=\"0.2\" stroke=\"#000000\" stroke-width=\"1\" x1=\"215\" y1=\"444\" x2=\"215\" y2=\"55\"/>\n",
       "<line opacity=\"0.2\" stroke=\"#000000\" stroke-width=\"1\" x1=\"275\" y1=\"444\" x2=\"275\" y2=\"55\"/>\n",
       "<line opacity=\"0.2\" stroke=\"#000000\" stroke-width=\"1\" x1=\"335\" y1=\"444\" x2=\"335\" y2=\"55\"/>\n",
       "<line opacity=\"0.2\" stroke=\"#000000\" stroke-width=\"1\" x1=\"395\" y1=\"444\" x2=\"395\" y2=\"55\"/>\n",
       "<line opacity=\"0.2\" stroke=\"#000000\" stroke-width=\"1\" x1=\"455\" y1=\"444\" x2=\"455\" y2=\"55\"/>\n",
       "<line opacity=\"0.2\" stroke=\"#000000\" stroke-width=\"1\" x1=\"515\" y1=\"444\" x2=\"515\" y2=\"55\"/>\n",
       "<line opacity=\"0.2\" stroke=\"#000000\" stroke-width=\"1\" x1=\"575\" y1=\"444\" x2=\"575\" y2=\"55\"/>\n",
       "<line opacity=\"0.2\" stroke=\"#000000\" stroke-width=\"1\" x1=\"635\" y1=\"444\" x2=\"635\" y2=\"55\"/>\n",
       "<line opacity=\"0.2\" stroke=\"#000000\" stroke-width=\"1\" x1=\"35\" y1=\"408\" x2=\"635\" y2=\"408\"/>\n",
       "<line opacity=\"0.2\" stroke=\"#000000\" stroke-width=\"1\" x1=\"35\" y1=\"337\" x2=\"635\" y2=\"337\"/>\n",
       "<line opacity=\"0.2\" stroke=\"#000000\" stroke-width=\"1\" x1=\"35\" y1=\"267\" x2=\"635\" y2=\"267\"/>\n",
       "<line opacity=\"0.2\" stroke=\"#000000\" stroke-width=\"1\" x1=\"35\" y1=\"196\" x2=\"635\" y2=\"196\"/>\n",
       "<line opacity=\"0.2\" stroke=\"#000000\" stroke-width=\"1\" x1=\"35\" y1=\"125\" x2=\"635\" y2=\"125\"/>\n",
       "<line opacity=\"0.2\" stroke=\"#000000\" stroke-width=\"1\" x1=\"35\" y1=\"55\" x2=\"635\" y2=\"55\"/>\n",
       "<polyline fill=\"none\" opacity=\"1\" stroke=\"#000000\" stroke-width=\"1\" points=\"34,56 34,445 \"/>\n",
       "<text x=\"25\" y=\"408\" dy=\"0.5ex\" text-anchor=\"end\" font-family=\"sans-serif\" font-size=\"9.67741935483871\" opacity=\"1\" fill=\"#000000\">\n",
       "0.0\n",
       "</text>\n",
       "<polyline fill=\"none\" opacity=\"1\" stroke=\"#000000\" stroke-width=\"1\" points=\"29,408 34,408 \"/>\n",
       "<text x=\"25\" y=\"337\" dy=\"0.5ex\" text-anchor=\"end\" font-family=\"sans-serif\" font-size=\"9.67741935483871\" opacity=\"1\" fill=\"#000000\">\n",
       "0.2\n",
       "</text>\n",
       "<polyline fill=\"none\" opacity=\"1\" stroke=\"#000000\" stroke-width=\"1\" points=\"29,337 34,337 \"/>\n",
       "<text x=\"25\" y=\"267\" dy=\"0.5ex\" text-anchor=\"end\" font-family=\"sans-serif\" font-size=\"9.67741935483871\" opacity=\"1\" fill=\"#000000\">\n",
       "0.4\n",
       "</text>\n",
       "<polyline fill=\"none\" opacity=\"1\" stroke=\"#000000\" stroke-width=\"1\" points=\"29,267 34,267 \"/>\n",
       "<text x=\"25\" y=\"196\" dy=\"0.5ex\" text-anchor=\"end\" font-family=\"sans-serif\" font-size=\"9.67741935483871\" opacity=\"1\" fill=\"#000000\">\n",
       "0.6\n",
       "</text>\n",
       "<polyline fill=\"none\" opacity=\"1\" stroke=\"#000000\" stroke-width=\"1\" points=\"29,196 34,196 \"/>\n",
       "<text x=\"25\" y=\"125\" dy=\"0.5ex\" text-anchor=\"end\" font-family=\"sans-serif\" font-size=\"9.67741935483871\" opacity=\"1\" fill=\"#000000\">\n",
       "0.8\n",
       "</text>\n",
       "<polyline fill=\"none\" opacity=\"1\" stroke=\"#000000\" stroke-width=\"1\" points=\"29,125 34,125 \"/>\n",
       "<polyline fill=\"none\" opacity=\"1\" stroke=\"#000000\" stroke-width=\"1\" points=\"35,445 635,445 \"/>\n",
       "<text x=\"95\" y=\"455\" dy=\"0.76em\" text-anchor=\"middle\" font-family=\"sans-serif\" font-size=\"9.67741935483871\" opacity=\"1\" fill=\"#000000\">\n",
       "-0.8\n",
       "</text>\n",
       "<polyline fill=\"none\" opacity=\"1\" stroke=\"#000000\" stroke-width=\"1\" points=\"95,445 95,450 \"/>\n",
       "<text x=\"155\" y=\"455\" dy=\"0.76em\" text-anchor=\"middle\" font-family=\"sans-serif\" font-size=\"9.67741935483871\" opacity=\"1\" fill=\"#000000\">\n",
       "-0.6\n",
       "</text>\n",
       "<polyline fill=\"none\" opacity=\"1\" stroke=\"#000000\" stroke-width=\"1\" points=\"155,445 155,450 \"/>\n",
       "<text x=\"215\" y=\"455\" dy=\"0.76em\" text-anchor=\"middle\" font-family=\"sans-serif\" font-size=\"9.67741935483871\" opacity=\"1\" fill=\"#000000\">\n",
       "-0.4\n",
       "</text>\n",
       "<polyline fill=\"none\" opacity=\"1\" stroke=\"#000000\" stroke-width=\"1\" points=\"215,445 215,450 \"/>\n",
       "<text x=\"275\" y=\"455\" dy=\"0.76em\" text-anchor=\"middle\" font-family=\"sans-serif\" font-size=\"9.67741935483871\" opacity=\"1\" fill=\"#000000\">\n",
       "-0.2\n",
       "</text>\n",
       "<polyline fill=\"none\" opacity=\"1\" stroke=\"#000000\" stroke-width=\"1\" points=\"275,445 275,450 \"/>\n",
       "<text x=\"335\" y=\"455\" dy=\"0.76em\" text-anchor=\"middle\" font-family=\"sans-serif\" font-size=\"9.67741935483871\" opacity=\"1\" fill=\"#000000\">\n",
       "0.0\n",
       "</text>\n",
       "<polyline fill=\"none\" opacity=\"1\" stroke=\"#000000\" stroke-width=\"1\" points=\"335,445 335,450 \"/>\n",
       "<text x=\"395\" y=\"455\" dy=\"0.76em\" text-anchor=\"middle\" font-family=\"sans-serif\" font-size=\"9.67741935483871\" opacity=\"1\" fill=\"#000000\">\n",
       "0.2\n",
       "</text>\n",
       "<polyline fill=\"none\" opacity=\"1\" stroke=\"#000000\" stroke-width=\"1\" points=\"395,445 395,450 \"/>\n",
       "<text x=\"455\" y=\"455\" dy=\"0.76em\" text-anchor=\"middle\" font-family=\"sans-serif\" font-size=\"9.67741935483871\" opacity=\"1\" fill=\"#000000\">\n",
       "0.4\n",
       "</text>\n",
       "<polyline fill=\"none\" opacity=\"1\" stroke=\"#000000\" stroke-width=\"1\" points=\"455,445 455,450 \"/>\n",
       "<text x=\"515\" y=\"455\" dy=\"0.76em\" text-anchor=\"middle\" font-family=\"sans-serif\" font-size=\"9.67741935483871\" opacity=\"1\" fill=\"#000000\">\n",
       "0.6\n",
       "</text>\n",
       "<polyline fill=\"none\" opacity=\"1\" stroke=\"#000000\" stroke-width=\"1\" points=\"515,445 515,450 \"/>\n",
       "<text x=\"575\" y=\"455\" dy=\"0.76em\" text-anchor=\"middle\" font-family=\"sans-serif\" font-size=\"9.67741935483871\" opacity=\"1\" fill=\"#000000\">\n",
       "0.8\n",
       "</text>\n",
       "<polyline fill=\"none\" opacity=\"1\" stroke=\"#000000\" stroke-width=\"1\" points=\"575,445 575,450 \"/>\n",
       "<text x=\"635\" y=\"455\" dy=\"0.76em\" text-anchor=\"middle\" font-family=\"sans-serif\" font-size=\"9.67741935483871\" opacity=\"1\" fill=\"#000000\">\n",
       "1.0\n",
       "</text>\n",
       "<polyline fill=\"none\" opacity=\"1\" stroke=\"#000000\" stroke-width=\"1\" points=\"635,445 635,450 \"/>\n",
       "<polyline fill=\"none\" opacity=\"1\" stroke=\"#FF0000\" stroke-width=\"1\" points=\"35,56 41,69 47,82 53,96 59,109 65,122 71,134 77,147 83,159 89,170 95,182 101,193 107,204 113,214 119,225 125,235 131,245 137,254 143,263 149,272 155,281 161,289 167,297 173,305 179,313 185,320 191,327 197,333 203,340 209,346 215,352 221,357 227,362 233,367 239,372 245,376 251,380 257,384 263,388 269,391 275,394 281,397 287,399 293,401 299,403 305,405 311,406 317,407 323,408 329,408 335,408 341,408 347,408 353,407 359,406 365,405 371,403 377,401 383,399 389,397 395,394 401,391 407,388 413,384 419,380 425,376 431,372 437,367 443,362 449,357 455,352 461,346 467,340 473,333 479,327 485,320 491,313 497,305 503,297 509,289 515,281 521,272 527,263 533,254 539,245 545,235 551,225 557,214 563,204 569,193 575,182 581,170 587,159 593,147 599,134 605,122 611,109 617,96 623,82 629,69 635,56 \"/>\n",
       "<rect x=\"542\" y=\"235\" width=\"88\" height=\"30\" opacity=\"0.8\" fill=\"#FFFFFF\" stroke=\"none\"/>\n",
       "<rect x=\"542\" y=\"235\" width=\"88\" height=\"30\" opacity=\"1\" fill=\"none\" stroke=\"#000000\"/>\n",
       "<text x=\"582\" y=\"245\" dy=\"0.76em\" text-anchor=\"start\" font-family=\"sans-serif\" font-size=\"9.67741935483871\" opacity=\"1\" fill=\"#000000\">\n",
       "y = x^2\n",
       "</text>\n",
       "<polyline fill=\"none\" opacity=\"1\" stroke=\"#FF0000\" stroke-width=\"1\" points=\"552,250 572,250 \"/>\n",
       "</svg>\n",
       "</div>"
      ]
     },
     "execution_count": 13,
     "metadata": {},
     "output_type": "execute_result"
    }
   ],
   "source": [
    ":dep plotters = { git = \"https://github.com/38/plotters\", default_features = false, features = [\"evcxr\", \"line_series\"] }\n",
    "//extern crate plotters;\n",
    "//use plotters::prelude::*;\n",
    "\n",
    "let figure = plotters::evcxr::evcxr_figure((640, 480), |root| {\n",
    "    root.fill(&plotters::style::WHITE)?; \n",
    "    // `?` required to overcome warning: \"unused `Result` that must be used\"\n",
    "    let mut chart = plotters::chart::ChartBuilder::on(&root)\n",
    "        .caption(\"y=x^2\", \n",
    "                plotters::style::FontDesc::new(\n",
    "                    \"Arial\".into(), \n",
    "                    50.into(), \n",
    "                    plotters::style::FontStyle::Normal))\n",
    "        .margin(5)\n",
    "        .x_label_area_size(30)\n",
    "        .y_label_area_size(30)\n",
    "        .build_cartesian_2d(-1f32..1f32, -0.1f32..1f32)?;\n",
    "\n",
    "    chart.configure_mesh().draw()?;\n",
    "\n",
    "    chart.draw_series(\n",
    "        plotters::series::LineSeries::new(\n",
    "            (-50..=50).map(|x| x as f32 / 50.0).map(|x| (x, x * x)),\n",
    "            &plotters::style::colors::RED,)\n",
    "        ).unwrap()\n",
    "        .label(\"y = x^2\")\n",
    "        .legend(|(x,y)| \n",
    "            plotters::element::PathElement::new(\n",
    "                vec![(x,y), (x + 20,y)],\n",
    "                &plotters::style::colors::RED)\n",
    "               );\n",
    "\n",
    "    //use plotters::style::Color;\n",
    "    chart.configure_series_labels()\n",
    "        .background_style(plotters::style::Color::mix(&plotters::style::WHITE, 0.8))\n",
    "        .border_style(&plotters::style::BLACK)\n",
    "        .draw()?;\n",
    "    Ok(())\n",
    "});\n",
    "figure"
   ]
  },
  {
   "cell_type": "markdown",
   "metadata": {},
   "source": [
    "Wanted to save some time by preinstalling `plotters` ... hmm, I misunderstood what plotters is ;-):\n",
    "\n",
    "```\n",
    "cargo install plotters --no-default-features --features \"evcxr,line_series\"\n",
    "    Updating crates.io index\n",
    "error: there is nothing to install in 'plotters v0.3.1', because it has no binaries\n",
    "'cargo install' is only for installing programs, and can't be used with libraries.\n",
    "To use a library crate, add it as a dependency in a Cargo project instead.`\n",
    "```\n",
    "\n",
    "Here is the example of `evcxr_jupyter` for cutom output which demonstrates the convention described to draw `figure` above and to \"draw\" `m` below."
   ]
  },
  {
   "cell_type": "code",
   "execution_count": 14,
   "metadata": {},
   "outputs": [
    {
     "data": {
      "text/html": [
       "<table><tr><td>1</td><td>2</td><td>3</td></tr><tr><td>4</td><td>5</td><td>6</td></tr><tr><td>7</td><td>8</td><td>9</td></tr></table>"
      ]
     },
     "execution_count": 14,
     "metadata": {},
     "output_type": "execute_result"
    }
   ],
   "source": [
    "pub struct Matrix<T> {pub values: Vec<T>, pub row_size: usize}\n",
    "impl<T: std::fmt::Debug> Matrix<T> {\n",
    "    pub fn evcxr_display(&self) {\n",
    "        let mut html = String::new();\n",
    "        html.push_str(\"<table>\");\n",
    "        for r in 0..(self.values.len() / self.row_size) {\n",
    "            html.push_str(\"<tr>\");\n",
    "            for c in 0..self.row_size {\n",
    "                html.push_str(\"<td>\");\n",
    "                html.push_str(&format!(\"{:?}\", self.values[r * self.row_size + c]));\n",
    "                html.push_str(\"</td>\");\n",
    "            }\n",
    "            html.push_str(\"</tr>\");\n",
    "        }\n",
    "        html.push_str(\"</table>\");\n",
    "        println!(\"EVCXR_BEGIN_CONTENT text/html\\n{}\\nEVCXR_END_CONTENT\", html);\n",
    "    }\n",
    "}\n",
    "let m = Matrix {values: vec![1,2,3,4,5,6,7,8,9], row_size: 3};\n",
    "m"
   ]
  },
  {
   "cell_type": "markdown",
   "metadata": {},
   "source": [
    "## Plotting with Plotly\n",
    "\n",
    "Plotly has a [jupyter notebook example](https://github.com/igiagkiozis/plotly/blob/b8144ad116aa8aae2d1a626bed18ec008d1f283e/plotly/examples/jupyter_notebook_examples.ipynb)\n",
    "\n",
    "Method [`notebook_display()`](https://github.com/igiagkiozis/plotly/blob/b8144ad116aa8aae2d1a626bed18ec008d1f283e/plotly/src/plot.rs#L314) is the integration provided by `plotly` with `evcxr` when running a jupyter-notebook instead of jupyter-lab. It utilizes also `evcxr_jupyter`'s convention for custom output and generates HTML output.\n",
    "\n",
    "Note: `extern` and `use` declarations had been commented out for learning. Thus [namespace paths](https://doc.rust-lang.org/stable/reference/paths.html) are needed to be defined for each `struct` or even `trait`.\n",
    "\n",
    "Crate `plotly` provides a number of [re-exports](https://docs.rs/plotly/0.7.0/plotly/index.html#reexports) of its important stuctures, enumerations, and traits:\n",
    "- pub use crate::[<span class=\"struct\" style=\"color:#ad448e\">layout::Layout</span>](https://docs.rs/plotly/0.7.0/plotly/layout/struct.Layout.html \"struct.Layout\");\n",
    "- pub use crate::[<span class=\"enum\" style=\"color:#508157\">plot::ImageFormat</span>](https://docs.rs/plotly/0.7.0/plotly/plot/enum.ImageFormat.html \"enum.ImageFormat\");\n",
    "- pub use crate::plot::Plot;\n",
    "- pub use crate::bar::Bar;\n",
    "- pub use crate::box_plot::BoxPlot;\n",
    "- pub use crate::candlestick::Candlestick;\n",
    "- pub use crate::contour::Contour;\n",
    "- pub use crate::heat_map::HeatMap;\n",
    "- pub use crate::histogram::Histogram;\n",
    "- pub use crate::ohlc::Ohlc;\n",
    "- pub use crate::scatter::Scatter;\n",
    "- pub use crate::scatter_polar::ScatterPolar;\n",
    "- pub use crate::surface::Surface;\n",
    "- pub use crate::common::color::NamedColor;\n",
    "- pub use crate::common::color::Rgb;\n",
    "- pub use crate::common::color::Rgba;\n",
    "- pub use crate::[<span class=\"trait\" style=\"color:#7c5af3\">plot::Trace</span>](https://docs.rs/plotly/0.7.0/plotly/plot/trait.Trace.html \"trait.Trace\");"
   ]
  },
  {
   "cell_type": "code",
   "execution_count": 15,
   "metadata": {},
   "outputs": [
    {
     "name": "stderr",
     "output_type": "stream",
     "text": [
      "The type of the variable figure was redefined, so was lost.\n",
      "The type of the variable m was redefined, so was lost.\n"
     ]
    },
    {
     "data": {
      "text/html": [
       "<div>\n",
       "    <div id=\"FPBwehEIpKeKePIjlBTG\" class=\"plotly-graph-div\" style=\"height:100%; width:100%;\"></div>\n",
       "    <script type=\"text/javascript\">\n",
       "        require(['https://cdn.plot.ly/plotly-2.8.3.min.js'], function(Plotly) {\n",
       "            window.PLOTLYENV=window.PLOTLYENV || {};\n",
       "\n",
       "            if (document.getElementById(\"FPBwehEIpKeKePIjlBTG\")) {\n",
       "                var trace_0 = {\"type\":\"scatter\",\"mode\":\"markers\",\"x\":[1,2,3,4,5,6,7,8,9,10],\"y\":[1.0,4.0,9.0,16.0,25.0,36.0,49.0,64.0,81.0,100.0]};\n",
       "var data = [trace_0];\n",
       "var layout = {\"width\":640,\"height\":480};\n",
       "                Plotly.newPlot(\n",
       "                    'FPBwehEIpKeKePIjlBTG',\n",
       "                    data,\n",
       "                    layout,\n",
       "                    {\"responsive\": true}\n",
       "                ).then(function(){\n",
       "                    var gd = document.getElementById('FPBwehEIpKeKePIjlBTG');\n",
       "                    var x = new MutationObserver(function (mutations, observer) { {\n",
       "                            var display = window.getComputedStyle(gd).display;\n",
       "                            if (!display || display === 'none') { {\n",
       "                                console.log([gd, 'removed!']);\n",
       "                                Plotly.purge(gd);\n",
       "                                observer.disconnect();\n",
       "                            } }\n",
       "                    } });\n",
       "\n",
       "                    // Listen for the removal of the full notebook cells\n",
       "                    var notebookContainer = gd.closest('#notebook-container');\n",
       "                    if (notebookContainer) { {\n",
       "                        x.observe(notebookContainer, {childList: true});\n",
       "                    } }\n",
       "\n",
       "                    // Listen for the clearing of the current output cell\n",
       "                    var outputEl = gd.closest('.output');\n",
       "                    if (outputEl) { {\n",
       "                        x.observe(outputEl, {childList: true});\n",
       "                    } } })\n",
       "            };\n",
       "        });\n",
       "            </script>\n",
       "</div>"
      ]
     },
     "execution_count": 15,
     "metadata": {},
     "output_type": "execute_result"
    }
   ],
   "source": [
    ":dep plotly = { version = \">=0.7.0\" }\n",
    "//extern crate plotly;\n",
    "\n",
    "let x : Vec<i32> = vec![1,2,3,4,5,6,7,8,9,10];\n",
    "let y = x.iter().map(|v| (*v as f32).powf(2.0))\n",
    "    .collect::<Vec<f32>>();\n",
    "let trace = plotly::Scatter::new(x,y)\n",
    "    .mode(plotly::common::Mode::Markers);\n",
    "\n",
    "let layout = plotly::Layout::new()\n",
    "    .width(640)\n",
    "    .height(480);\n",
    "\n",
    "let mut plot = plotly::Plot::new();\n",
    "\n",
    "plot.add_trace(trace);\n",
    "plot.set_layout(layout);\n",
    "\n",
    "plot.notebook_display();"
   ]
  },
  {
   "cell_type": "markdown",
   "metadata": {},
   "source": [
    "Another example working with labels, and a legend similar what we saw with plotters. The example is taken from [finishing the visualization page](https://datacrayon.com/posts/programming/rust-notebooks/finishing-touches-for-visualisation/) in which Dr. Shahin Rostami introduced his DARN crate (*D*ata *A*nalysis with *R*ust *N*otebooks), a toolbox to ease plotting with `plotly`. His [function `darn::show_plot(plot)`](https://github.com/shahinrostami/darn/blob/c1209a5dbd466803f90ca1003d88d4fa9570a27a/src/lib.rs#L13) is today replaced by `plotly`'s support for jupyter-notebooks:  `notebook_display()`."
   ]
  },
  {
   "cell_type": "code",
   "execution_count": 16,
   "metadata": {},
   "outputs": [
    {
     "data": {
      "text/html": [
       "<div>\n",
       "    <div id=\"3zYc7jjpfSwy8Hd3pbVI\" class=\"plotly-graph-div\" style=\"height:100%; width:100%;\"></div>\n",
       "    <script type=\"text/javascript\">\n",
       "        require(['https://cdn.plot.ly/plotly-2.8.3.min.js'], function(Plotly) {\n",
       "            window.PLOTLYENV=window.PLOTLYENV || {};\n",
       "\n",
       "            if (document.getElementById(\"3zYc7jjpfSwy8Hd3pbVI\")) {\n",
       "                var trace_0 = {\"type\":\"scatter\",\"name\":\"trace1\",\"mode\":\"markers\",\"x\":[1,2,3,4],\"y\":[10,15,13,17]};\n",
       "var trace_1 = {\"type\":\"scatter\",\"name\":\"trace2\",\"mode\":\"lines\",\"x\":[2,3,4,5],\"y\":[16,5,11,9]};\n",
       "var trace_2 = {\"type\":\"scatter\",\"name\":\"trace3\",\"x\":[1,2,3,4],\"y\":[12,9,15,12]};\n",
       "var data = [trace_0,trace_1,trace_2];\n",
       "var layout = {\"legend\":{\"orientation\":\"h\",\"x\":0.5,\"xanchor\":\"center\",\"y\":1.1},\"margin\":{\"l\":40,\"r\":10,\"t\":0,\"b\":40},\"xaxis\":{\"title\":{\"text\":\"x axis\"}},\"yaxis\":{\"title\":{\"text\":\"y axis\"}}};\n",
       "                Plotly.newPlot(\n",
       "                    '3zYc7jjpfSwy8Hd3pbVI',\n",
       "                    data,\n",
       "                    layout,\n",
       "                    {\"responsive\": true}\n",
       "                ).then(function(){\n",
       "                    var gd = document.getElementById('3zYc7jjpfSwy8Hd3pbVI');\n",
       "                    var x = new MutationObserver(function (mutations, observer) { {\n",
       "                            var display = window.getComputedStyle(gd).display;\n",
       "                            if (!display || display === 'none') { {\n",
       "                                console.log([gd, 'removed!']);\n",
       "                                Plotly.purge(gd);\n",
       "                                observer.disconnect();\n",
       "                            } }\n",
       "                    } });\n",
       "\n",
       "                    // Listen for the removal of the full notebook cells\n",
       "                    var notebookContainer = gd.closest('#notebook-container');\n",
       "                    if (notebookContainer) { {\n",
       "                        x.observe(notebookContainer, {childList: true});\n",
       "                    } }\n",
       "\n",
       "                    // Listen for the clearing of the current output cell\n",
       "                    var outputEl = gd.closest('.output');\n",
       "                    if (outputEl) { {\n",
       "                        x.observe(outputEl, {childList: true});\n",
       "                    } } })\n",
       "            };\n",
       "        });\n",
       "            </script>\n",
       "</div>"
      ]
     },
     "execution_count": 16,
     "metadata": {},
     "output_type": "execute_result"
    }
   ],
   "source": [
    ":dep plotly = { version = \">=0.7.0\" }\n",
    "\n",
    "let trace1 = plotly::Scatter::new(vec![1, 2, 3, 4], vec![10, 15, 13, 17])\n",
    "    .name(\"trace1\")\n",
    "    .mode(plotly::common::Mode::Markers);\n",
    "let trace2 = plotly::Scatter::new(vec![2, 3, 4, 5], vec![16, 5, 11, 9])\n",
    "    .name(\"trace2\")\n",
    "    .mode(plotly::common::Mode::Lines);\n",
    "let trace3 = plotly::Scatter::new(vec![1, 2, 3, 4], vec![12, 9, 15, 12])\n",
    "    .name(\"trace3\");\n",
    "\n",
    "let layout = plotly::Layout::new()\n",
    "    .x_axis(\n",
    "        plotly::layout::Axis::new()\n",
    "            .title(plotly::common::Title::new(\"x axis\")))\n",
    "    .y_axis(\n",
    "        plotly::layout::Axis::new()\n",
    "            .title(plotly::common::Title::new(\"y axis\")))\n",
    "    .margin(\n",
    "        plotly::layout::Margin::new()\n",
    "            .top(0)\n",
    "            .bottom(40)\n",
    "            .left(40)\n",
    "            .right(10))\n",
    "    .legend(\n",
    "        plotly::layout::Legend::new()\n",
    "            .x(0.5)\n",
    "            .y(1.1)\n",
    "            .orientation(plotly::common::Orientation::Horizontal)\n",
    "            .x_anchor(plotly::common::Anchor::Center));\n",
    "\n",
    "let mut plot = plotly::Plot::new();\n",
    "\n",
    "plot.add_trace(trace1);\n",
    "plot.add_trace(trace2);\n",
    "plot.add_trace(trace3);\n",
    "plot.set_layout(layout);\n",
    "\n",
    "plot.notebook_display();"
   ]
  },
  {
   "cell_type": "markdown",
   "metadata": {},
   "source": [
    "##  Multidimensional Arrays and Operations with NDArray\n",
    "\n",
    "This is based on Dr. Shahin Rostami (2020-02-29) introduction to crate [`ndarray`](https://docs.rs/ndarray/0.15.4/ndarray/) to do [Data Analysis with Rust Notebooks](https://datacrayon.com/posts/programming/rust-notebooks/multidimensional-arrays-and-operations-with-ndarray/) by Data Crayon.\n",
    "\n",
    "> The `ndarray` crate provides an n-dimensional container for general elements and for numerics.\n",
    "> \n",
    "> In n-dimensional we include, for example, 1-dimensional rows or columns, 2-dimensional matrices, and higher dimensional arrays. If the array has n dimensions, then an element in the array is accessed by using that many indices. Each dimension is also called an *axis*.\n",
    "> \n",
    "> The docs for [ArrayBase](https://docs.rs/ndarray/0.15.4/ndarray/struct.ArrayBase.html) provide an overview of the n-dimensional array type. Other good pages to look at are the documentation for the macros:\n",
    "> - [`s![]`](https://docs.rs/ndarray/0.15.4/ndarray/macro.s.html) (Slice argument constructor) \n",
    "> - and [`azip!()`](https://docs.rs/ndarray/0.15.4/ndarray/macro.azip.html) (Array zip macro: lock step function application across several arrays and producers. This is a shorthand for `Zip`).\n",
    "\n",
    "Here is collection of items from the docs to start me up:\n",
    "> - [`ArrayBase`](https://docs.rs/ndarray/0.15.4/ndarray/struct.ArrayBase.html): The n-dimensional array type itself. It is used to implement both the *owned arrays* and the *views* (an array view represents an array or a part of it, created from an [iterator](https://docs.rs/ndarray/0.15.4/ndarray/struct.ArrayBase.html#loops-producers-and-iterators \"Loops, Producers and Iterators\"), [subview](https://docs.rs/ndarray/0.15.4/ndarray/struct.ArrayBase.html#subviews \"Subviews\") or [slice](https://docs.rs/ndarray/0.15.4/ndarray/struct.ArrayBase.html#slicing \"Slicing\") of an array.); see its docs for an overview of all array features.\n",
    "> - The `ArrayBase<S, D>` is parameterized by `S` for the data container and `D` for the dimensionality. Type aliases [`Array`](https://docs.rs/ndarray/0.15.4/ndarray/type.Array.html) (the main specific array type owning its elements), `ArcArray`, `CowArray`, [`ArrayView`](https://docs.rs/ndarray/0.15.4/ndarray/type.ArrayView.html), and `ArrayViewMut` refer to `ArrayBase` with different types for the data container: arrays with different kinds of ownership or different kinds of array views.\n",
    "> - The dimensionality of the array determines the number of **axes**, for example a 2D array has two *axes*. These are listed in “big endian” order, so that the greatest dimension is listed first, the lowest dimension with the most rapidly varying index is the last.\n",
    "> - In a 2D array the index of each element is `[row, column]` as seen in this 4 × 3 example:\n",
    "> ```\n",
    "    [[ [0, 0], [0, 1], [0, 2] ],  // row 0\n",
    "     [ [1, 0], [1, 1], [1, 2] ],  // row 1\n",
    "     [ [2, 0], [2, 1], [2, 2] ],  // row 2\n",
    "     [ [3, 0], [3, 1], [3, 2] ]]  // row 3\n",
    "    //    \\       \\       \\\n",
    "    //   column 0  \\     column 2\n",
    "    //            column 1\n",
    ">  ```\n",
    "> - The number of *axes* for an array is fixed by its `D` type parameter: `Ix1` for a 1D array, `Ix2` for a 2D array etc. The dimension type `IxDyn` allows a dynamic number of axes.\n",
    "> - A fixed size array (`[usize; N]`) of the corresponding dimensionality is used to index the `Array`, making the syntax array `[[ i, j, …]]`\n",
    ">   ```\n",
    "    let mut array = ndarray::Array2::zeros((4, 3));\n",
    "    array[[1, 1]] = 7;\n",
    ">   ```\n",
    "> - The default memory order of an array is *row major* order (a.k.a “c” order), where each row is contiguous in memory. A *column major* (a.k.a. “f” or fortran) memory order array has columns (or, in general, the outermost axis) with contiguous elements.\n",
    "> - The logical order of any array’s elements is the *row major* order (the rightmost index is varying the fastest). The iterators `.iter()`, `.iter_mut()` always adhere to this order, for example.\n",
    "> - Arrays support all **arithmetic operations** the same way: they apply elementwise. Since the trait implementations are hard to overview, here is a summary.\n",
    ">   - [Binary Operators with Two Arrays](https://docs.rs/ndarray/0.15.4/ndarray/struct.ArrayBase.html#binary-operators-with-two-arrays)\n",
    ">   - [Binary Operators with Array and Scalar](https://docs.rs/ndarray/0.15.4/ndarray/struct.ArrayBase.html#binary-operators-with-array-and-scalar)\n",
    ">   - [Unary Operators](https://docs.rs/ndarray/0.15.4/ndarray/struct.ArrayBase.html#unary-operators)\n",
    ">   - [Broadcasting](https://docs.rs/ndarray/0.15.4/ndarray/struct.ArrayBase.html#broadcasting)\n",
    ">   - [Conversions Between Array Types](https://docs.rs/ndarray/0.15.4/ndarray/struct.ArrayBase.html#conversions-between-array-types)\n",
    ">   - [Conversions Between Arrays and Vecs/Slices/Scalars](https://docs.rs/ndarray/0.15.4/ndarray/struct.ArrayBase.html#conversions-between-arrays-and-vecsslicesscalars)\n",
    ">   - [Conversions from Nested Vecs/Arrays](https://docs.rs/ndarray/0.15.4/ndarray/struct.ArrayBase.html#conversions-from-nested-vecsarrays)\n",
    "\n",
    "In above small code snippet to create a two dimesional mutable `array` has been create by calling [`ndarry::Array2`](https://docs.rs/ndarray/0.15.4/ndarray/type.Array2.html), it is a type definition and actually creates an object of type `Array` with dimension `Ix2`: `pub type Array2<A> = Array<A, Ix2>;` but `Array` has no method `zeros()`. `ArrayBase` has a method [`zeros()`](https://docs.rs/ndarray/0.15.4/ndarray/struct.ArrayBase.html#method.zeros). Right, `Array` is a type definiton too: `pub type Array<A, D> = ArrayBase<OwnedRepr<A>, D>;`, \"an array that owns its data uniquely.\"\n",
    "\n",
    "Interesting to study structure [`OwnedRepr`](https://docs.rs/ndarray/0.15.4/ndarray/struct.OwnedRepr.html) for Rust-Newbee like me - a *pointer* of type [NonNull](https://doc.rust-lang.org/std/ptr/struct.NonNull.html):\n",
    "```\n",
    "pub struct OwnedRepr<A> {\n",
    "    ptr: NonNull<A>,\n",
    "    len: usize,\n",
    "    capacity: usize,\n",
    "}\n",
    "```\n",
    "`NonNull` itself is a structure too with a constant pointer of generic type `* const T` and a lot of attributes:\n",
    "```\n",
    "#[stable(feature = \"nonnull\", since = \"1.25.0\")]\n",
    "#[repr(transparent)]\n",
    "#[rustc_layout_scalar_valid_range_start(1)]\n",
    "#[rustc_nonnull_optimization_guaranteed]\n",
    "pub struct NonNull<T: ?Sized> {\n",
    "    pointer: *const T,\n",
    "}\n",
    "```\n",
    "\n",
    "Let's go."
   ]
  },
  {
   "cell_type": "markdown",
   "metadata": {},
   "source": [
    "### NDArray Creating\n",
    "\n",
    "- Constructor methods for one-dimensional arrays.\n",
    "- Constructor methods for two-dimensional arrays.\n",
    "- Constructor methods for n-dimensional arrays.\n",
    "\n",
    "First of all we depend on `ndarray`."
   ]
  },
  {
   "cell_type": "code",
   "execution_count": 17,
   "metadata": {},
   "outputs": [],
   "source": [
    ":dep ndarray = {version = \"0.13.1\"}"
   ]
  },
  {
   "cell_type": "markdown",
   "metadata": {},
   "source": [
    "Create NDArrays with help of\n",
    "- constructor methods\n",
    "  - Create an array with [copies](https://doc.rust-lang.org/nightly/core/clone/trait.Clone.html) of `elem`, shape `shape`.\n",
    "  - Create an array with zeros, shape `shape`.\n",
    "  - Create an array with ones, shape `shape`.\n",
    "  - Create an array with [default value](https://doc.rust-lang.org/nightly/core/default/trait.Default.html), shape `shape`.\n",
    "  - Create an array with values created by function `f` \n",
    "    called with no argument \n",
    "    returning the element to create, shape `shape`.\n",
    "  - Create an array with values created by the function `f`\n",
    "    called with the index of the element to create, shape `shape`.\n",
    "  - Create an array with the given shape from a vector.\n",
    "    (No cloning of elements needed.)\n",
    "  - Create an array with uninitalized elements, shape `shape`.\n",
    "- a function\n",
    "- a marco"
   ]
  },
  {
   "cell_type": "code",
   "execution_count": 18,
   "metadata": {
    "scrolled": false
   },
   "outputs": [
    {
     "data": {
      "text/plain": [
       "[[1.0, 1.0, 1.0, 1.0],\n",
       " [1.0, 1.0, 1.0, 1.0],\n",
       " [1.0, 1.0, 1.0, 1.0],\n",
       " [1.0, 1.0, 1.0, 1.0]], shape=[4, 4], strides=[4, 1], layout=C (0x1), const ndim=2"
      ]
     },
     "execution_count": 18,
     "metadata": {},
     "output_type": "execute_result"
    }
   ],
   "source": [
    "// same as `ndarray::Array2::<f64>::ones((4,4))`\n",
    "ndarray::Array::<f64, ndarray::Ix2>::from_elem((4,4), 1f64)"
   ]
  },
  {
   "cell_type": "code",
   "execution_count": 19,
   "metadata": {},
   "outputs": [
    {
     "data": {
      "text/plain": [
       "[[[0.0, 0.0, 0.0],\n",
       "  [0.0, 0.0, 0.0],\n",
       "  [0.0, 0.0, 0.0]],\n",
       "\n",
       " [[0.0, 0.0, 0.0],\n",
       "  [0.0, 0.0, 0.0],\n",
       "  [0.0, 0.0, 0.0]],\n",
       "\n",
       " [[0.0, 0.0, 0.0],\n",
       "  [0.0, 0.0, 0.0],\n",
       "  [0.0, 0.0, 0.0]]], shape=[3, 3, 3], strides=[9, 3, 1], layout=C (0x1), const ndim=3"
      ]
     },
     "execution_count": 19,
     "metadata": {},
     "output_type": "execute_result"
    }
   ],
   "source": [
    "// same as `ndarray::Array3::<f32>::zeros((3,3,3))`\n",
    "ndarray::Array::<f32, ndarray::Ix3>::default((3,3,3))"
   ]
  },
  {
   "cell_type": "code",
   "execution_count": 20,
   "metadata": {
    "scrolled": false
   },
   "outputs": [
    {
     "data": {
      "text/plain": [
       "[[1.0, 2.0, 3.0],\n",
       " [4.0, 5.0, 6.0]], shape=[2, 3], strides=[3, 1], layout=C (0x1), const ndim=2"
      ]
     },
     "execution_count": 20,
     "metadata": {},
     "output_type": "execute_result"
    }
   ],
   "source": [
    "ndarray::arr2(&[[1.,2.,3.],\n",
    "                [4.,5.,6.]])"
   ]
  },
  {
   "cell_type": "code",
   "execution_count": 21,
   "metadata": {
    "scrolled": true
   },
   "outputs": [
    {
     "data": {
      "text/plain": [
       "[[0.0, 0.0, 0.0],\n",
       " [0.0, 0.0, 0.0]], shape=[2, 3], strides=[3, 1], layout=C (0x1), const ndim=2"
      ]
     },
     "execution_count": 21,
     "metadata": {},
     "output_type": "execute_result"
    }
   ],
   "source": [
    "ndarray::array![[0.,0.,0.],\n",
    "                [0.,0.,0.]]"
   ]
  },
  {
   "cell_type": "markdown",
   "metadata": {},
   "source": [
    "### NDArray Working\n",
    "\n",
    "Let us work with dimensions, shapes, and index of arrays.\n",
    "\n",
    "We depend on `ndarray` for sake of completness and create to NDArrays assigning them to variables."
   ]
  },
  {
   "cell_type": "code",
   "execution_count": 22,
   "metadata": {
    "scrolled": true
   },
   "outputs": [
    {
     "name": "stdout",
     "output_type": "stream",
     "text": [
      "# Dimension\n",
      "\n",
      "Ix1 Array 3\n",
      "Ix2 Array (2, 3)\n",
      "\n",
      "# Shape\n",
      "\n",
      "Ix1 Array [3]\n"
     ]
    }
   ],
   "source": [
    ":dep ndarray = {version = \"0.13.1\"}\n",
    "\n",
    "let data_1d : ndarray::Array1::<f32> = ndarray::array![1.,2.,3.];\n",
    "\n",
    "let data_2d : ndarray::Array2::<f32> = ndarray::array![[1.,2.,3.],\n",
    "                                                       [4.,5.,6.]];\n",
    "\n",
    "assert_eq!(data_1d.len(), 3);\n",
    "assert_eq!(data_2d.len(), 6);\n",
    "\n",
    "assert_eq!(data_2d.len_of(ndarray::Axis(1)), 3);\n",
    "\n",
    "println!(\"# Dimension\\n\");\n",
    "println!(\"Ix1 Array {:?}\", data_1d.dim());\n",
    "println!(\"Ix2 Array {:?}\", data_2d.dim());\n",
    "println!(\"\");\n",
    "println!(\"# Shape\\n\");\n",
    "println!(\"Ix1 Array {:?}\", data_1d.shape());\n",
    "println!(\"Ix2 Array {:?}\", data_2d.shape());\n",
    "println!(\"\");\n",
    "println!(\"# Strides\\n\");\n",
    "println!(\"Ix1 Array {:?}\", data_1d.strides());\n",
    "println!(\"Ix2 Array {:?}\", data_2d.strides());\n",
    "println!(\"\");\n",
    "println!(\"# Index\\n\");\n",
    "println!(\"First cell of 1D {:?}\", data_1d[0]);\n",
    "println!(\"First cell of 2D {:?}\", data_2d[[0, 0]]);\n",
    "println!(\"Second cell of 1D {:?}\", data_1d[1]);\n",
    "println!(\"Second cell of 2D first row {:?}\", data_2d[[0, 1]]);\n",
    "println!(\"Last cell of 1D {:?}\", data_1d[data_1d.len() - 1]);\n",
    "println!(\"Last cell of 2D first row {:?}\", data_2d[[0, data_2d.len_of(ndarray::Axis(1)) - 1]]);"
   ]
  },
  {
   "cell_type": "code",
   "execution_count": 23,
   "metadata": {},
   "outputs": [
    {
     "name": "stdout",
     "output_type": "stream",
     "text": [
      "Ix2 Array [2, 3]\n",
      "\n",
      "# Strides\n",
      "\n",
      "Ix1 Array [1]\n",
      "Ix2 Array [3, 1]\n",
      "\n",
      "# Index\n",
      "\n",
      "First cell of 1D 1.0\n",
      "First cell of 2D 1.0\n",
      "Second cell of 1D 2.0\n",
      "Second cell of 2D first row 2.0\n",
      "Last cell of 1D 3.0\n",
      "Last cell of 2D first row 3.0\n"
     ]
    }
   ],
   "source": [
    ":dep ndarray = {version = \"0.13.1\"}\n",
    "\n",
    "let a_2d : ndarray::Array2::<f32> = ndarray::arr2(&[[1., 2.],\n",
    "                                                    [3., 4.]]);\n",
    "\n",
    "// Methods For Arrays\n",
    "\n",
    "/* map by reference */\n",
    "assert_eq!( a_2d.map(|x: &f32| -> f32 {x.powi(2)}), ndarray::arr2(&[[1.,  4.],\n",
    "/* map by value     */                                              [9., 16.]]) );\n",
    "assert_eq!( (&a_2d * &a_2d).mapv(f32::sqrt), a_2d );\n",
    "\n",
    "// To understand primitive type f32's method: fn sqrt(self) -> f32\n",
    "assert_eq!( 2f32.sqrt(), std::f32::consts::SQRT_2 );"
   ]
  },
  {
   "cell_type": "markdown",
   "metadata": {},
   "source": [
    "### NDArray Viewing\n",
    "\n",
    "Let us view into an array with help of [`ArrayView`](https://docs.rs/ndarray/0.15.4/ndarray/type.ArrayView.html) created from an [iterator](https://docs.rs/ndarray/0.15.4/ndarray/struct.ArrayBase.html#loops-producers-and-iterators \"Loops, Producers and Iterators\"), [subview](https://docs.rs/ndarray/0.15.4/ndarray/struct.ArrayBase.html#subviews \"Subviews\") or [slice](https://docs.rs/ndarray/0.15.4/ndarray/struct.ArrayBase.html#slicing \"Slicing\") of an array.\n",
    "\n",
    "Where as a `Array` has a [`OwnedRepr`(esentation)](https://docs.rs/ndarray/0.15.4/ndarray/struct.OwnedRepr.html) of the data a `ArrayView` has a [`ViewRepr`(esentation) ](https://docs.rs/ndarray/0.15.4/ndarray/struct.ViewRepr.html) of the data.\n",
    "\n",
    "We depend on `ndarray` for sake of completness and create to NDArrays assigning them to variables."
   ]
  },
  {
   "cell_type": "markdown",
   "metadata": {},
   "source": [
    "#### Iterating\n",
    "\n",
    "> Using `Zip` is the most general way to apply a procedure across one or several arrays or producers.\n",
    ">\n",
    "> `NdProducer` is like an iterable but for multidimensional data. All producers have dimensions and axes, like an array view, and they can be split and used with parallelization using `Zip`.\n",
    "> In general, the `zip` uses a tuple of producers ([`NdProducer`](https://docs.rs/ndarray/0.13.1/ndarray/trait.NdProducer.html) trait) that all have to be of the same shape. The `NdProducer` implementation defines what its item type is (for example if it's a shared reference, mutable reference or an array view etc).\n",
    "> \n",
    "> For example, `ArrayView<A, D>` is a producer, it has the same dimensions as the array view and for each iteration it produces a reference to the array element (`&A` in this case)."
   ]
  },
  {
   "cell_type": "code",
   "execution_count": 24,
   "metadata": {},
   "outputs": [
    {
     "data": {
      "text/plain": [
       "[[1.0, 1.0],\n",
       " [1.0, 1.0],\n",
       " [1.0, 1.0]], shape=[3, 2], strides=[2, 1], layout=C (0x1), const ndim=2"
      ]
     },
     "execution_count": 24,
     "metadata": {},
     "output_type": "execute_result"
    }
   ],
   "source": [
    ":dep ndarray = {version = \"0.13.1\"}\n",
    "\n",
    "// Interate over the rows of a 2D array\n",
    "let mut a_2d_rows = ndarray::Array2::<f32>::zeros((3, 2));\n",
    "for mut row in a_2d_rows.genrows_mut() {\n",
    "    row.fill(1.);\n",
    "}\n",
    "a_2d_rows"
   ]
  },
  {
   "cell_type": "code",
   "execution_count": 25,
   "metadata": {},
   "outputs": [
    {
     "name": "stdout",
     "output_type": "stream",
     "text": [
      "[[0.0, 0.0],\n",
      " [0.0, 0.0],\n",
      " [0.0, 0.0],\n",
      " [0.0, 0.0]], shape=[4, 2], strides=[2, 1], layout=C (0x1), const ndim=2\n",
      "[[7.0, 7.0],\n"
     ]
    }
   ],
   "source": [
    ":dep ndarray = {version = \"0.13.1\"}\n",
    "\n",
    "type M = ndarray::Array2<f64>;\n",
    "\n",
    "// Create four 2d arrays of the same size\n",
    "let mut a = M::zeros((4, 2));\n",
    "let b = M::from_elem(a.dim(), 1.);\n",
    "let c = M::from_elem(a.dim(), 2.);\n",
    "let d = M::from_elem(a.dim(), 3.);\n",
    "\n",
    "// Example 1: Perform an elementwise arithmetic operation across\n",
    "// the four arrays a, b, c, d.\n",
    "println!(\"{:?}\", a);\n",
    "ndarray::Zip::from(&mut a)\n",
    "    .and(&b)\n",
    "    .and(&c)\n",
    "    .and(&d)\n",
    "    .apply(|w, &x, &y, &z| {\n",
    "        *w += x + y * z;\n",
    "    });\n",
    "println!(\"{:?}\", a);"
   ]
  },
  {
   "cell_type": "markdown",
   "metadata": {},
   "source": [
    "#### Slicing\n",
    "\n",
    "ndarray macro `s![]` is a slice argument constructor. [`s![]`](https://docs.rs/ndarray/0.15.4/ndarray/macro.s.html) takes a list of ranges/slices/indices/new-axes, separated by comma, with optional step sizes that are separated from the range by a semicolon. It is converted into a `SliceInfo` instance.\n",
    "\n",
    "> The syntax is `s![ [ elem [, elem [ , … ] ] ] ]`, where `elem` is any of the following:\n",
    "> - **index** : an `index` to use for taking a subview with respect to that axis. (The index is selected. The axis is removed except with .slice_collapse().)\n",
    "> - **range** : a `range` with step size 1 to use for slicing that axis.\n",
    "> - **range ; step** : a `range` with step size `step` to use for slicing that axis.\n",
    "> - **slice** : a `Slice` instanc to use for slicing that axis.\n",
    "> - **slice ; step** : a range constructed from a `Slice` instance, multiplying the step size by `step`, to use for slicing that axis.\n",
    "> - **new-axis** : a `NewAxis` instance that represents the creation of a new axis. (Except for `.slice_collapse()`, which panics on `NewAxis` elements.)\n"
   ]
  },
  {
   "cell_type": "code",
   "execution_count": 26,
   "metadata": {
    "scrolled": true
   },
   "outputs": [
    {
     "name": "stdout",
     "output_type": "stream",
     "text": [
      " [7.0, 7.0],\n",
      " [7.0, 7.0],\n",
      " [7.0, 7.0]], shape=[4, 2], strides=[2, 1], layout=C (0x1), const ndim=2\n"
     ]
    },
    {
     "data": {
      "text/plain": [
       "[[3.0, 4.0],\n",
       " [7.0, 8.0]], shape=[2, 2], strides=[4, 1], layout=Custom (0x0), const ndim=2"
      ]
     },
     "execution_count": 26,
     "metadata": {},
     "output_type": "execute_result"
    }
   ],
   "source": [
    ":dep ndarray = {version = \"0.13.1\"}\n",
    "\n",
    "let a = ndarray::arr2(&[[2., 3., 4., 5.],\n",
    "                        [6., 7., 8., 9.]]);\n",
    "\n",
    "a.slice(ndarray::s![..,1..3])"
   ]
  },
  {
   "cell_type": "markdown",
   "metadata": {},
   "source": [
    "\n",
    "Method [ArrayBase.slice()](https://docs.rs/ndarray/0.15.4/ndarray/struct.ArrayBase.html#method.slice) returns a sliced view of the array. Internally it creates a read-only view of the array and does a [ArrayBase.slice_move()](https://docs.rs/ndarray/0.15.4/ndarray/struct.ArrayBase.html#method.slice_move) method call.\n",
    "\n",
    "In below example rustc says \"`a_3d` does not live long enough\" when it is sliced into a view."
   ]
  },
  {
   "cell_type": "code",
   "execution_count": 27,
   "metadata": {},
   "outputs": [
    {
     "data": {
      "text/plain": [
       "()"
      ]
     },
     "execution_count": 27,
     "metadata": {},
     "output_type": "execute_result"
    }
   ],
   "source": [
    ":dep ndarray = {version = \"0.13.1\"}\n",
    "\n",
    "// 2 submatrices of 2 rows with 3 elements per row, means a shape of `[2, 2, 3]`.\n",
    "\n",
    "let a_3d : ndarray::Array3::<i32> = \n",
    "           ndarray::arr3(&[[[ 1,  2,  3],     // -- 2 rows  \\_\n",
    "                            [ 4,  5,  6]],    // --         /\n",
    "                           [[ 7,  8,  9],     //            \\_ 2 submatrices\n",
    "                            [10, 11, 12]]]);  //            /\n",
    "           //  3 columns ..../.../.../\n",
    "assert_eq!(&a_3d.shape(), &[2, 2, 3]);\n",
    "\n",
    "/* \n",
    "   Let’s create a slice with\n",
    "   - Both of the submatrices of the greatest dimension: `..`\n",
    "   - Only the first row in each submatrix: `0..1`\n",
    "   - Every element in each row: `..`\n",
    "*/\n",
    "\n",
    "{\n",
    "    let b_arr : ndarray::ArrayView3<i32> = \n",
    "                a_3d.slice(ndarray::s![.., 0..1, ..]);\n",
    "    let c_arr : ndarray::Array3<i32> = \n",
    "                ndarray::arr3(&[[[ 1,  2,  3]],\n",
    "                                [[ 7,  8,  9]]]);\n",
    "    assert_eq!(b_arr, c_arr);\n",
    "    assert_eq!(b_arr.shape(), &[2, 1, 3]);\n",
    "}\n",
    "/* \n",
    "   Without limiting the scope `{}` of `b_arr`\n",
    "   We've got following error I don't know to solve (`rustc --explain E0597`):\n",
    "   ```\n",
    "            a_3d.slice(ndarray::s![.., 0..1, ..]);\n",
    "            ^^^^^^^^^^^^^^^^^^^^^^^^^^^^^^^^^^^^^ borrowed value does not live long enough\n",
    "            a_3d.slice(ndarray::s![.., 0..1, ..]);\n",
    "            ^^^^^^^^^^^^^^^^^^^^^^^^^^^^^^^^^^^^^ argument requires that `a_3d` is borrowed for `'static`\n",
    "   `a_3d` does not live long enough\n",
    "   ```\n",
    "   I guess it's a nature of `evcxr` in which a variable has a longer scope as the cell.\n",
    "*/"
   ]
  },
  {
   "cell_type": "markdown",
   "metadata": {},
   "source": [
    "### NDArray Calculating\n",
    "\n",
    "Numerical Methods for Arrays (and Axis)\n",
    "- sum\n",
    "- mean\n",
    "- product\n",
    "- var\n",
    "- std\n",
    "\n",
    "\n",
    "Binary Array and Array\n",
    "\n",
    "> Let `A` be an array or view of any kind. Let `B` be an array with *owned storage* (either `Array` or `ArcArray`). Let `C` be an array with *mutable data* (either `Array`, `ArcArray` or `ArrayViewMut`). The following combinations of operands are supported for an arbitrary binary operator denoted by `@` (it can be `+`, `-`, `*`, `/` and so on).\n",
    "> - `&A @ &A` which produces a new Array\n",
    "> - `B @ A` which consumes B, updates it with the result, and returns it\n",
    "> - `B @ &A` which consumes B, updates it with the result, and returns it\n",
    "> - `C @= &A` which performs an arithmetic operation in place\n",
    "\n",
    "Binary Array and Scalar\n",
    "\n",
    "> For a scalar K the following combinations of operands are supported (scalar can be on either the left or right side, but ScalarOperand docs has the detailed condtions).\n",
    "> - `&A @ K` or `K @ &A` which produces a new Array\n",
    "> - `B @ K` or `K @ B` which consumes B, updates it with the result and returns it\n",
    "> - `C @= K` which performs an arithmetic operation in place\n",
    "\n",
    "Unary\n",
    "\n",
    "> Let `A` be an array or view of any kind. Let `B` be an array with *owned storage* (either `Array` or `ArcArray`). The following operands are supported for an arbitrary unary operator denoted by `@` (it can be `-` or `!`).\n",
    "> - `@&A` which produces a new Array\n",
    "> - `@B` which consumes B, updates it with the result, and returns it\n",
    "\n",
    "\n",
    "Broadcast ([element-wise product, Schur product, Hadamard product](https://en.wikipedia.org/wiki/Hadamard_product_(matrices)#In_programming_languages))"
   ]
  },
  {
   "cell_type": "code",
   "execution_count": 28,
   "metadata": {},
   "outputs": [],
   "source": [
    ":dep ndarray = {version = \"0.13.1\"}\n",
    "\n",
    "let a_2d : ndarray::Array2::<f32> = ndarray::arr2(&[[1., 2.],\n",
    "                                                    [3., 4.]]);\n",
    "\n",
    "// Numerical Methods for Arrays\n",
    "assert_eq!( a_2d.sum(),                      10. );\n",
    "assert_eq!( a_2d.sum_axis(ndarray::Axis(0)), ndarray::arr1(&[4., 6.]) );\n",
    "assert_eq!( a_2d.sum_axis(ndarray::Axis(1)), ndarray::arr1(&[3., 7.]) );\n",
    "\n",
    "// we refernce `a` to avoid being consumed after first operation\n",
    "assert_eq!( &a_2d + 1.   , ndarray::arr2(&[[2., 3.],\n",
    "                                           [4., 5.]]) );\n",
    "assert_eq!( &a_2d + &a_2d, ndarray::arr2(&[[2., 4.],\n",
    "                                           [6., 8.]]) );\n",
    "assert_eq!( &a_2d * &a_2d, ndarray::arr2(&[[1.,  4.],\n",
    "                                           [9., 16.]]) );\n",
    "assert_eq!( &a_2d / &a_2d, ndarray::arr2(&[[1., 1.],\n",
    "                                           [1., 1.]]) );\n",
    "assert_eq!( &a_2d - &a_2d, ndarray::Array2::<f32>::zeros((2, 2)) );\n",
    "\n",
    "let a_1d : ndarray::Array1::<f32> = ndarray::array![1., 2.];\n",
    "\n",
    "assert_eq!( &a_2d + &a_1d, ndarray::arr2(&[[2., 4.],\n",
    "                                           [4., 6.]]) );\n",
    "assert_eq!( &a_2d * &a_1d, ndarray::arr2(&[[1., 4.],\n",
    "                                           [3., 8.]]) );\n",
    "assert_eq!( &a_2d / &a_1d, ndarray::arr2(&[[1., 1.], \n",
    "                                           [3., 2.]]) );\n",
    "assert_eq!( &a_2d - &a_1d, ndarray::arr2(&[[0., 0.], [2., 2.]]) );\n",
    "\n",
    "assert_eq!( a_2d.mean_axis(ndarray::Axis(0)).unwrap(), \n",
    "            ndarray::arr1(&[2.0, 3.0]) );\n",
    "assert_eq!( a_2d.mean_axis(ndarray::Axis(1)).unwrap(), \n",
    "            ndarray::arr1(&[1.5, 3.5]) );"
   ]
  },
  {
   "cell_type": "markdown",
   "metadata": {},
   "source": [
    "### NDArray Display\n",
    "\n",
    "Dr. Shahin Rostami provides following [function `darn::show_array()`](https://github.com/shahinrostami/darn/blob/c1209a5dbd466803f90ca1003d88d4fa9570a27a/src/lib.rs#L120) in his crate `darn`. Similar to `plotters`'s `evcxr_figure()`, and `plotly`'s `display_notebook()` function this function makes us of `evcxr_jupyter`'s cutom output.\n",
    "\n",
    "The type of a NDArray container is required to implement the trait `std::fmt::Debug`. In our example type `f32` has [the implementation](https://doc.rust-lang.org/std/primitive.f32.html#impl-Debug)."
   ]
  },
  {
   "cell_type": "code",
   "execution_count": 29,
   "metadata": {},
   "outputs": [
    {
     "data": {
      "text/html": [
       "<table title=\"shape=[2, 10], strides=[10, 1]\"><tr><td>1.0</td><td>2.0</td><td>3.0</td><td>4.0</td><td>5.0</td><td>6.0</td><td>7.0</td><td>8.0</td><td>9.0</td><td>10.0</td></tr><tr><td>11.0</td><td>12.0</td><td>13.0</td><td>14.0</td><td>15.0</td><td>16.0</td><td>17.0</td><td>18.0</td><td>19.0</td><td>20.0</td></tr></table>"
      ]
     },
     "execution_count": 29,
     "metadata": {},
     "output_type": "execute_result"
    }
   ],
   "source": [
    ":dep ndarray = {version = \"0.13.1\"}\n",
    "\n",
    "pub fn display_ndarray<T: std::fmt::Debug>(values: ndarray::Array2<T>) {\n",
    "    let mut html = String::new();\n",
    "    html.push_str(&format!(\"<table title=\\\"shape={:?}, strides={:?}\\\">\", \n",
    "                           values.shape(), \n",
    "                           values.strides(),));\n",
    "    for r in 0..(values.shape()[0]) {\n",
    "        html.push_str(\"<tr>\");\n",
    "        for c in 0..values.shape()[1] {\n",
    "            html.push_str(\"<td>\");\n",
    "            html.push_str(&format!(\"{:?}\", values[[r, c]]));\n",
    "            html.push_str(\"</td>\");\n",
    "        }\n",
    "        html.push_str(\"</tr>\");            \n",
    "    }\n",
    "    html.push_str(\"</table>\");\n",
    "    println!(\"EVCXR_BEGIN_CONTENT text/html\\n{}\\nEVCXR_END_CONTENT\", html);\n",
    "}\n",
    "\n",
    "let data_2d : ndarray::Array2::<f32> = \n",
    "    ndarray::array![[ 1., 2., 3., 4., 5., 6., 7., 8., 9.,10.],\n",
    "                    [11.,12.,13.,14.,15.,16.,17.,18.,19.,20.]];\n",
    "\n",
    "display_ndarray(data_2d);"
   ]
  },
  {
   "cell_type": "markdown",
   "metadata": {},
   "source": [
    "### NDArray Typing\n",
    "\n",
    "Originally I wanted to follow [Mr. Rostami's](https://datacrayon.com/posts/programming/rust-notebooks/typed-arrays-from-string-arrays-for-dataset-operation/) next page on converting parts of the Iris data set into types specific of columns. I don't understand the method selected to create a new data set [`ndarray::stack![]`](https://docs.rs/ndarray/0.15.4/ndarray/macro.stack.html): stack arrays along the new axis. The original string data is accessed with help of method [`column(ndarray::Ix)`](https://docs.rs/ndarray/0.15.4/ndarray/struct.ArrayBase.html#method.column): return an array view of column `index`.\n",
    "\n",
    "I will go and give Slice a try for selection. \n",
    "\n",
    "... and ran into an issue of primitive type's `f32` [implementation](https://doc.rust-lang.org/std/primitive.f32.html#impl-FromStr) of trait `FromStr` which not only has a required method `from_str()` but also an [associated type](https://doc.rust-lang.org/std/str/trait.FromStr.html#associated-types) `Err` ..."
   ]
  },
  {
   "cell_type": "code",
   "execution_count": 30,
   "metadata": {
    "scrolled": true
   },
   "outputs": [
    {
     "ename": "Error",
     "evalue": "no function or associated item named `from_str` found for type `f32` in the current scope",
     "output_type": "error",
     "traceback": [
      "a.slice(ndarray::s![..,1..3]).mapv(|elem: &str| -> f32 {f32::from_str(elem).unwrap()})",
      "\u001b[91m                                                             ^^^^^^^^\u001b[0m \u001b[94mfunction or associated item not found in `f32`\u001b[0m",
      "no function or associated item named `from_str` found for type `f32` in the current scope",
      "\u001b[1mhelp\u001b[0m: items from traits can only be used if the trait is in scope",
      "\u001b[1mhelp\u001b[0m: the following trait is implemented but not in scope; perhaps add a `use` for it:\n\nuse std::str::FromStr;"
     ]
    }
   ],
   "source": [
    ":dep ndarray = {version = \"0.13.1\"}\n",
    "\n",
    "let a = ndarray::arr2(&[[\"2.0\", \"3.0\", \"4.0\", \"5.0\"],\n",
    "                        [\"6.0\", \"7.0\", \"8.0\", \"9.0\"]]);\n",
    "\n",
    "a.slice(ndarray::s![..,1..3]).mapv(|elem: &str| -> f32 {f32::from_str(elem).unwrap()})"
   ]
  },
  {
   "cell_type": "markdown",
   "metadata": {},
   "source": [
    "As I'm still in learning mode I'd like to avoid the `use` decaration where ever possible. This makes the code not readable - as Rust's sugar is missing - but more understandable in terms of utilized crates and their items. As side effect you often cannot not use the [dot-operator](https://doc.rust-lang.org/stable/nomicon/dot-operator.html) and thus to learn \"essential Rust\"."
   ]
  },
  {
   "cell_type": "code",
   "execution_count": 31,
   "metadata": {
    "scrolled": true
   },
   "outputs": [
    {
     "ename": "Error",
     "evalue": "the value of the associated type `Err` (from trait `FromStr`) must be specified",
     "output_type": "error",
     "traceback": [
      "std::str::FromStr::f32::from_str(\"2.0\")",
      "\u001b[91m^^^^^^^^^^^^^^^^^\u001b[0m \u001b[94m\u001b[0m",
      "the value of the associated type `Err` (from trait `FromStr`) must be specified",
      "\u001b[1mhelp\u001b[0m: specify the associated type\n\nstd::str::FromStr<Err = Type>"
     ]
    },
    {
     "ename": "Error",
     "evalue": "ambiguous associated type",
     "output_type": "error",
     "traceback": [
      "std::str::FromStr::f32::from_str(\"2.0\")",
      "\u001b[91m^^^^^^^^^^^^^^^^^^^^^^\u001b[0m \u001b[94m\u001b[0m",
      "ambiguous associated type",
      "\u001b[1mhelp\u001b[0m: use fully-qualified syntax\n\n<dyn FromStr as Trait>::f32"
     ]
    }
   ],
   "source": [
    "std::str::FromStr::f32::from_str(\"2.0\")"
   ]
  },
  {
   "cell_type": "markdown",
   "metadata": {},
   "source": [
    "`rustc`'s first help drew my attention to associated types.\n",
    "\n",
    "Associated types are decribed in Rust's reference with an [container example](https://doc.rust-lang.org/reference/items/associated-items.html#associated-types-container-example). The example unfortunately does not apply the sample trait implementation."
   ]
  },
  {
   "cell_type": "code",
   "execution_count": 32,
   "metadata": {},
   "outputs": [],
   "source": [
    "trait Container {\n",
    "    type E;\n",
    "    fn empty() -> Self;\n",
    "    fn insert(&mut self, elem: Self::E);\n",
    "}\n",
    "\n",
    "\n",
    "impl<T> Container for Vec<T> {\n",
    "    type E = T;\n",
    "    fn empty() -> Vec<T> { Vec::<T>::new() }\n",
    "    fn insert(&mut self, x: T) {self.push(x); }\n",
    "}"
   ]
  },
  {
   "cell_type": "markdown",
   "metadata": {},
   "source": [
    " Here is one of my tries similar to the one above with `std::str::FromStr`. "
   ]
  },
  {
   "cell_type": "code",
   "execution_count": 33,
   "metadata": {},
   "outputs": [
    {
     "ename": "Error",
     "evalue": "the value of the associated type `E` (from trait `Container`) must be specified",
     "output_type": "error",
     "traceback": [
      "let mut a_vec : Vec<f32> = Container::Vec::f32::empty();",
      "\u001b[91m                           ^^^^^^^^^\u001b[0m \u001b[94m\u001b[0m",
      "the value of the associated type `E` (from trait `Container`) must be specified",
      "\u001b[1mhelp\u001b[0m: specify the associated type\n\nContainer<E = Type>"
     ]
    },
    {
     "ename": "Error",
     "evalue": "ambiguous associated type",
     "output_type": "error",
     "traceback": [
      "let mut a_vec : Vec<f32> = Container::Vec::f32::empty();",
      "\u001b[91m                           ^^^^^^^^^^^^^^\u001b[0m \u001b[94m\u001b[0m",
      "ambiguous associated type",
      "\u001b[1mhelp\u001b[0m: use fully-qualified syntax\n\n<dyn Container as Trait>::Vec"
     ]
    }
   ],
   "source": [
    "let mut a_vec : Vec<f32> = Container::Vec::f32::empty();"
   ]
  },
  {
   "cell_type": "code",
   "execution_count": 34,
   "metadata": {},
   "outputs": [
    {
     "data": {
      "text/plain": [
       "[3.0]"
      ]
     },
     "execution_count": 34,
     "metadata": {},
     "output_type": "execute_result"
    }
   ],
   "source": [
    "/* \n",
    "  Following statement took me hours to find \n",
    "  after I had been misleaded by rustc's second help:\n",
    "  >  help: use fully-qualified syntax\n",
    "  >\n",
    "  >  <dyn Container as Trait>::Vec\n",
    "*/\n",
    "let mut a_vec : Vec<f32> = <Vec::<f32> as Container>::empty();\n",
    "<Vec::<f32> as Container>::insert(&mut a_vec, 3f32);\n",
    "a_vec"
   ]
  },
  {
   "cell_type": "markdown",
   "metadata": {},
   "source": [
    "Coming back to our original issue when we wanted to create primitive type `f32` from `str` slice without using a `use` declaration. Somehow with this statement the associated type is specified too. I guess this is because `rustc` finds the right implementation which specifies `type Err = ParseFloatError;`."
   ]
  },
  {
   "cell_type": "code",
   "execution_count": 35,
   "metadata": {},
   "outputs": [
    {
     "data": {
      "text/plain": [
       "Ok(2.0)"
      ]
     },
     "execution_count": 35,
     "metadata": {},
     "output_type": "execute_result"
    }
   ],
   "source": [
    "<f32 as std::str::FromStr>::from_str(\"2.0\")"
   ]
  },
  {
   "cell_type": "code",
   "execution_count": 36,
   "metadata": {},
   "outputs": [
    {
     "data": {
      "text/plain": [
       "[[3.0, 4.0],\n",
       " [7.0, 8.0]], shape=[2, 2], strides=[2, 1], layout=C (0x1), const ndim=2"
      ]
     },
     "execution_count": 36,
     "metadata": {},
     "output_type": "execute_result"
    }
   ],
   "source": [
    ":dep ndarray = {version = \"0.13.1\"}\n",
    "\n",
    "let a : ndarray::Array2<&str> = \n",
    "        ndarray::arr2(&[[\"2.0\", \"3.0\", \"4.0\", \"5.0\"],\n",
    "                        [\"6.0\", \"7.0\", \"8.0\", \"9.0\"]]);\n",
    "\n",
    "a.slice(ndarray::s![..,1..3]).mapv(\n",
    "    |elem: &str| -> f32 {\n",
    "        <f32 as std::str::FromStr>::from_str(elem).unwrap()\n",
    "    }\n",
    ")"
   ]
  },
  {
   "cell_type": "markdown",
   "metadata": {},
   "source": [
    "## Foreign Function Interface\n",
    "\n",
    "[FFI mdoule](https://doc.rust-lang.org/std/ffi/index.html) \"provides utilities to handle data across non-Rust interfaces, like other programming languages and the underlying operating system.\"\n",
    "\n",
    "Rust represents \n",
    "- owned strings with the [String](https://doc.rust-lang.org/std/string/struct.String.html) type, \n",
    "- and borrowed slices of strings with the [str](https://doc.rust-lang.org/std/primitive.str.html) primitive type. \n",
    "\n",
    "[The Rustonomicon](https://doc.rust-lang.org/nomicon/ffi.html) as well as [Rust by Example](https://doc.rust-lang.org/rust-by-example/std_misc/ffi.html) has sample code.\n",
    "\n",
    "Following Rust code runs only once. As soon as EVCXR has compiled the code after jupyter-kernel start it executes. When the jupyter-cell is then revisit it generates an error complaining that C-function `fn csqrtf(z: Complex) -> Complex;` and `fn ccosf(z: Complex) -> Complex;` is redefined."
   ]
  },
  {
   "cell_type": "code",
   "execution_count": 37,
   "metadata": {},
   "outputs": [
    {
     "name": "stdout",
     "output_type": "stream",
     "text": [
      "the square root of -1+0i is 0+1i\n",
      "cos(-1+0i) = 0.5403023+0i\n"
     ]
    },
    {
     "data": {
      "text/plain": [
       "()"
      ]
     },
     "execution_count": 37,
     "metadata": {},
     "output_type": "execute_result"
    }
   ],
   "source": [
    "// this extern block links to the libm library\n",
    "#[link(name = \"m\")]\n",
    "extern {\n",
    "    // this is a foreign function\n",
    "    // that computes the square root of a single precision complex number\n",
    "    fn csqrtf(z: Complex) -> Complex;\n",
    "\n",
    "    fn ccosf(z: Complex) -> Complex;\n",
    "}\n",
    "\n",
    "// Since calling foreign functions is considered unsafe,\n",
    "// it's common to write safe wrappers around them.\n",
    "fn cos(z: Complex) -> Complex {\n",
    "    unsafe { ccosf(z) }\n",
    "}\n",
    "\n",
    "// Minimal implementation of single precision complex numbers\n",
    "#[repr(C)]\n",
    "#[derive(Clone, Copy)]\n",
    "struct Complex {\n",
    "    re: f32,\n",
    "    im: f32,\n",
    "}\n",
    "\n",
    "impl std::fmt::Debug for Complex {\n",
    "    fn fmt(&self, f: &mut std::fmt::Formatter) -> std::fmt::Result {\n",
    "        if self.im < 0. {\n",
    "            write!(f, \"{}-{}i\", self.re, -self.im)\n",
    "        } else {\n",
    "            write!(f, \"{}+{}i\", self.re, self.im)\n",
    "        }\n",
    "    }\n",
    "}\n",
    "\n",
    "{\n",
    "    // z = -1 + 0i\n",
    "    let z = Complex { re: -1., im: 0. };\n",
    "\n",
    "    // calling a foreign function is an unsafe operation\n",
    "    let z_sqrt = unsafe { csqrtf(z) };\n",
    "\n",
    "    println!(\"the square root of {:?} is {:?}\", z, z_sqrt);\n",
    "\n",
    "    // calling safe API wrapped around unsafe operation\n",
    "    println!(\"cos({:?}) = {:?}\", z, cos(z));\n",
    "}\n"
   ]
  },
  {
   "cell_type": "code",
   "execution_count": null,
   "metadata": {},
   "outputs": [],
   "source": []
  }
 ],
 "metadata": {
  "kernelspec": {
   "display_name": "Rust",
   "language": "rust",
   "name": "rust"
  },
  "language_info": {
   "codemirror_mode": "rust",
   "file_extension": ".rs",
   "mimetype": "text/rust",
   "name": "Rust",
   "pygment_lexer": "rust",
   "version": ""
  }
 },
 "nbformat": 4,
 "nbformat_minor": 4
}

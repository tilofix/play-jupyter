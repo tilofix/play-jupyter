{
 "cells": [
  {
   "cell_type": "markdown",
   "metadata": {},
   "source": [
    "# Notes on Rust\n",
    "\n",
    "Running this notebook requires Rust's jupyter kernel installed through `cargo` build chain which requires the Rust ecosystem.\n",
    "- install system dependency `sudo pamac install cmake` \n",
    "- install the jupyter-kernel `cargo install evcxr_jupyter`\n",
    "\n",
    ">   \n",
    "       Updating crates.io index\n",
    "    Installing evcxr_jupyter v0.7.0\n",
    "     Compiling libc v0.2.81\n",
    "     ...\n",
    "     Compiling evcxr_jupyter v0.7.0\n",
    "     Finished release [optimized] target(s) in 3m 46s\n",
    "    Installing /home/tilo/.cargo/bin/evcxr_jupyter\n",
    "     Installed package `evcxr_jupyter v0.7.0` (executable `evcxr_jupyter`)\n",
    "\n",
    "- activate jupyter-kernle ` ~/.cargo/bin/evcxr_jupyter --install` \n",
    "\n",
    ">   \n",
    "    Writing /home/tilo/.local/share/jupyter/kernels/rust/kernel.json\n",
    "    Writing /home/tilo/.local/share/jupyter/kernels/rust/logo-32x32.png\n",
    "    Writing /home/tilo/.local/share/jupyter/kernels/rust/logo-64x64.png\n",
    "    Writing /home/tilo/.local/share/jupyter/kernels/rust/logo-LICENSE.md\n",
    "    Installation complete\n",
    "\n"
   ]
  },
  {
   "cell_type": "code",
   "execution_count": 4,
   "metadata": {},
   "outputs": [],
   "source": [
    "const msg: &str = \"Hello EvCxR\";"
   ]
  },
  {
   "cell_type": "code",
   "execution_count": 7,
   "metadata": {},
   "outputs": [
    {
     "data": {
      "text/plain": [
       "\"Hello EvCxR\""
      ]
     },
     "execution_count": 7,
     "metadata": {},
     "output_type": "execute_result"
    }
   ],
   "source": [
    "msg"
   ]
  },
  {
   "cell_type": "code",
   "execution_count": null,
   "metadata": {},
   "outputs": [],
   "source": []
  }
 ],
 "metadata": {
  "kernelspec": {
   "display_name": "Rust",
   "language": "rust",
   "name": "rust"
  },
  "language_info": {
   "codemirror_mode": "rust",
   "file_extension": ".rs",
   "mimetype": "text/rust",
   "name": "Rust",
   "pygment_lexer": "rust",
   "version": ""
  }
 },
 "nbformat": 4,
 "nbformat_minor": 4
}

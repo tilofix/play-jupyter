{
 "cells": [
  {
   "cell_type": "markdown",
   "metadata": {},
   "source": [
    "# Data Analysis with Rust Notebooks\n",
    "\n",
    "These is my \"log\" learning Dr. Shahin Rostami's (2020-02-29) introduction to do [Data Analysis with Rust Notebooks](https://datacrayon.com/posts/programming/rust-notebooks/multidimensional-arrays-and-operations-with-ndarray/) by Data Crayon mainly with help of crate [`ndarray`](https://docs.rs/ndarray/0.15.4/ndarray/) and crate [plotly](https://docs.rs/plotly/0.7.0/plotly/).\n",
    "\n",
    "My notes when studying [`ndarray`](http://localhost:8888/notebooks/rust/rust_notes.ipynb#Multidimensional-Arrays-and-Operations-with-NDArray) as well as [`plotly`](rust_notes.ipynb#Plotting-with-Plotly) are done in [notebook Rust Notes](rust_notes.ipynb).\n"
   ]
  },
  {
   "cell_type": "markdown",
   "metadata": {},
   "source": [
    "### NDArray Reading (from CSV)\n",
    "\n",
    "Next step when we follow [Mr. Rostami](https://datacrayon.com/posts/programming/rust-notebooks/loading-datasets-from-csv-into-ndarray/) is to read data from a CSV file utilizing a real world dataset, the [Iris Data Set](http://archive.ics.uci.edu/ml/datasets/Iris), \"the best known database to be found in the pattern recognition literature\".\n",
    "\n",
    "Let us download the file provided by Mr. Rostami.\n",
    "\n",
    "Even thow type `std::fs::File` implements [trait `std::io::Write`](https://doc.rust-lang.org/std/fs/struct.File.html#impl-Write) the compiler cannot de-sugar the [method call expression](https://doc.rust-lang.org/reference/expressions/method-call-expr.html?highlight=dot#method-call-expressions) `file.write_all(res.as_bytes())` without a `use` declaration, the trait is not in scope, which \"is the region of source text where a named entity may be referenced with that name.\"."
   ]
  },
  {
   "cell_type": "code",
   "execution_count": 12,
   "metadata": {},
   "outputs": [
    {
     "name": "stdout",
     "output_type": "stream",
     "text": [
      "The length of the dataset string 5107 and print the first 275 characters\n",
      "\n",
      "Id,SepalLengthCm,SepalWidthCm,PetalLengthCm,PetalWidthCm,Species\n",
      "1,5.1,3.5,1.4,0.2,Iris-setosa\n",
      "2,4.9,3.0,1.4,0.2,Iris-setosa\n",
      "3,4.7,3.2,1.3,0.2,Iris-setosa\n",
      "4,4.6,3.1,1.5,0.2,Iris-setosa\n",
      "5,5.0,3.6,1.4,0.2,Iris-setosa\n",
      "6,5.4,3.9,1.7,0.4,Iris-setosa\n",
      "7,4.6,3.4,1.4,0.3,Iris-setosa\n",
      "\n"
     ]
    },
    {
     "data": {
      "text/plain": [
       "Ok(())"
      ]
     },
     "execution_count": 12,
     "metadata": {},
     "output_type": "execute_result"
    }
   ],
   "source": [
    ":dep ureq = {version = \"0.11.4\"}\n",
    "\n",
    "let res = ureq::get(\"https://datacrayon.com/datasets/Iris.csv\").call().into_string()?;\n",
    "println!(\"The length of the dataset string {} \\\n",
    "          and print the first 275 characters\\n\\n{}\"\n",
    "    , res.len()\n",
    "    , &res[..275]);\n",
    "\n",
    "let mut file = std::fs::File::create(\"Iris.csv\")?;\n",
    "//file.write_all(res.as_bytes())\n",
    "std::io::Write::write_all(&mut file, res.as_bytes())"
   ]
  },
  {
   "cell_type": "markdown",
   "metadata": {},
   "source": [
    "Crate `ndarray-csv` has two traits [`Array2Reader`](https://docs.rs/ndarray-csv/0.5.1/ndarray_csv/trait.Array2Reader.html) and [`Array2Writer`](https://docs.rs/ndarray-csv/0.5.1/ndarray_csv/trait.Array2Writer.html) connecting a 2 dimensional `ndarray::Array2` with a [`csv::Reader`](https://docs.rs/csv/1.1.6/csv/struct.Reader.html) as well as with a [`csv::Writer`](https://docs.rs/csv/1.1.6/csv/struct.Writer.html) respectivily through crate `serde`."
   ]
  },
  {
   "cell_type": "code",
   "execution_count": 13,
   "metadata": {},
   "outputs": [
    {
     "data": {
      "text/html": [
       "<table><thead><tr style=\"text-align: right;\"><th>Id</th><th>SepalLengthCm</th><th>SepalWidthCm</th><th>PetalLengthCm</th><th>PetalWidthCm</th><th>Species</th></tr></thead><tbody><tr><td>\"1\"</td><td>\"5.1\"</td><td>\"3.5\"</td><td>\"1.4\"</td><td>\"0.2\"</td><td>\"Iris-setosa\"</td></tr><tr><td>\"2\"</td><td>\"4.9\"</td><td>\"3.0\"</td><td>\"1.4\"</td><td>\"0.2\"</td><td>\"Iris-setosa\"</td></tr><tr><td>\"3\"</td><td>\"4.7\"</td><td>\"3.2\"</td><td>\"1.3\"</td><td>\"0.2\"</td><td>\"Iris-setosa\"</td></tr><tr><td>\"4\"</td><td>\"4.6\"</td><td>\"3.1\"</td><td>\"1.5\"</td><td>\"0.2\"</td><td>\"Iris-setosa\"</td></tr><tr><td>\"5\"</td><td>\"5.0\"</td><td>\"3.6\"</td><td>\"1.4\"</td><td>\"0.2\"</td><td>\"Iris-setosa\"</td></tr><tr><td>...</td><td>...</td><td>...</td><td>...</td><td>...</td><td>...</td></tr><tr><td>\"146\"</td><td>\"6.7\"</td><td>\"3.0\"</td><td>\"5.2\"</td><td>\"2.3\"</td><td>\"Iris-virginica\"</td></tr><tr><td>\"147\"</td><td>\"6.3\"</td><td>\"2.5\"</td><td>\"5.0\"</td><td>\"1.9\"</td><td>\"Iris-virginica\"</td></tr><tr><td>\"148\"</td><td>\"6.5\"</td><td>\"3.0\"</td><td>\"5.2\"</td><td>\"2.0\"</td><td>\"Iris-virginica\"</td></tr><tr><td>\"149\"</td><td>\"6.2\"</td><td>\"3.4\"</td><td>\"5.4\"</td><td>\"2.3\"</td><td>\"Iris-virginica\"</td></tr><tr><td>\"150\"</td><td>\"5.9\"</td><td>\"3.0\"</td><td>\"5.1\"</td><td>\"1.8\"</td><td>\"Iris-virginica\"</td></tr></tbody></table>"
      ]
     },
     "execution_count": 13,
     "metadata": {},
     "output_type": "execute_result"
    }
   ],
   "source": [
    ":dep csv = {version = \"1.1\"}\n",
    ":dep ndarray = {version = \"0.13.1\"}\n",
    ":dep ndarray-csv = {version = \"0.4.1\"}\n",
    ":dep darn = {version = \"0.3.0\"}\n",
    "\n",
    "let mut csv_rdr = csv::Reader::from_path(\"Iris.csv\")?;\n",
    "\n",
    "let mut csv_headers : Vec<String> = Vec::<String>::new();\n",
    "for element in csv_rdr.headers().unwrap().into_iter() {\n",
    "        csv_headers.push(String::from(element));\n",
    "};\n",
    "\n",
    "let csv_data: ndarray::Array2<String> = \n",
    "               ndarray_csv::Array2Reader::deserialize_array2_dynamic(&mut csv_rdr)?;\n",
    "\n",
    "darn::show_frame(&csv_data, Some(&csv_headers));"
   ]
  },
  {
   "cell_type": "markdown",
   "metadata": {},
   "source": [
    "### NDArray Applying"
   ]
  },
  {
   "cell_type": "markdown",
   "metadata": {},
   "source": [
    "Declare dependencies. "
   ]
  },
  {
   "cell_type": "code",
   "execution_count": 14,
   "metadata": {},
   "outputs": [],
   "source": [
    ":dep csv = {version = \"1.1\"}\n",
    ":dep ndarray = {version = \"0.13.1\"}\n",
    ":dep ndarray-csv = {version = \"0.4.1\"}\n",
    ":dep darn = {version = \"0.3.0\"}\n",
    ":dep plotly = { version = \">=0.7.0\" }\n"
   ]
  },
  {
   "cell_type": "markdown",
   "metadata": {},
   "source": [
    "Read data from file."
   ]
  },
  {
   "cell_type": "code",
   "execution_count": 15,
   "metadata": {},
   "outputs": [
    {
     "data": {
      "text/html": [
       "<table><thead><tr style=\"text-align: right;\"><th>Id</th><th>SepalLengthCm</th><th>SepalWidthCm</th><th>PetalLengthCm</th><th>PetalWidthCm</th><th>Species</th></tr></thead><tbody><tr><td>\"1\"</td><td>\"5.1\"</td><td>\"3.5\"</td><td>\"1.4\"</td><td>\"0.2\"</td><td>\"Iris-setosa\"</td></tr><tr><td>\"2\"</td><td>\"4.9\"</td><td>\"3.0\"</td><td>\"1.4\"</td><td>\"0.2\"</td><td>\"Iris-setosa\"</td></tr><tr><td>\"3\"</td><td>\"4.7\"</td><td>\"3.2\"</td><td>\"1.3\"</td><td>\"0.2\"</td><td>\"Iris-setosa\"</td></tr><tr><td>\"4\"</td><td>\"4.6\"</td><td>\"3.1\"</td><td>\"1.5\"</td><td>\"0.2\"</td><td>\"Iris-setosa\"</td></tr><tr><td>\"5\"</td><td>\"5.0\"</td><td>\"3.6\"</td><td>\"1.4\"</td><td>\"0.2\"</td><td>\"Iris-setosa\"</td></tr><tr><td>...</td><td>...</td><td>...</td><td>...</td><td>...</td><td>...</td></tr><tr><td>\"146\"</td><td>\"6.7\"</td><td>\"3.0\"</td><td>\"5.2\"</td><td>\"2.3\"</td><td>\"Iris-virginica\"</td></tr><tr><td>\"147\"</td><td>\"6.3\"</td><td>\"2.5\"</td><td>\"5.0\"</td><td>\"1.9\"</td><td>\"Iris-virginica\"</td></tr><tr><td>\"148\"</td><td>\"6.5\"</td><td>\"3.0\"</td><td>\"5.2\"</td><td>\"2.0\"</td><td>\"Iris-virginica\"</td></tr><tr><td>\"149\"</td><td>\"6.2\"</td><td>\"3.4\"</td><td>\"5.4\"</td><td>\"2.3\"</td><td>\"Iris-virginica\"</td></tr><tr><td>\"150\"</td><td>\"5.9\"</td><td>\"3.0\"</td><td>\"5.1\"</td><td>\"1.8\"</td><td>\"Iris-virginica\"</td></tr></tbody></table>"
      ]
     },
     "execution_count": 15,
     "metadata": {},
     "output_type": "execute_result"
    }
   ],
   "source": [
    "let mut rdr = csv::Reader::from_path(\"Iris.csv\")?;\n",
    "\n",
    "let mut headers : Vec<String> = Vec::<String>::new();\n",
    "for element in rdr.headers().unwrap().into_iter() {\n",
    "        headers.push(String::from(element));\n",
    "};\n",
    "\n",
    "let iris_data: ndarray::Array2<String> = \n",
    "               ndarray_csv::Array2Reader::deserialize_array2_dynamic(&mut rdr)?;\n",
    "\n",
    "darn::show_frame(&iris_data, Some(&headers));"
   ]
  },
  {
   "cell_type": "markdown",
   "metadata": {},
   "source": [
    "Create `f32`data set from CSV's string data"
   ]
  },
  {
   "cell_type": "code",
   "execution_count": 16,
   "metadata": {},
   "outputs": [
    {
     "data": {
      "text/html": [
       "<table><thead><tr style=\"text-align: right;\"><th>SepalLengthCm</th><th>SepalWidthCm</th><th>PetalLengthCm</th><th>PetalWidthCm</th></tr></thead><tbody><tr><td>5.1</td><td>3.5</td><td>1.4</td><td>0.2</td></tr><tr><td>4.9</td><td>3.0</td><td>1.4</td><td>0.2</td></tr><tr><td>4.7</td><td>3.2</td><td>1.3</td><td>0.2</td></tr><tr><td>4.6</td><td>3.1</td><td>1.5</td><td>0.2</td></tr><tr><td>5.0</td><td>3.6</td><td>1.4</td><td>0.2</td></tr><tr><td>...</td><td>...</td><td>...</td><td>...</td></tr><tr><td>6.7</td><td>3.0</td><td>5.2</td><td>2.3</td></tr><tr><td>6.3</td><td>2.5</td><td>5.0</td><td>1.9</td></tr><tr><td>6.5</td><td>3.0</td><td>5.2</td><td>2.0</td></tr><tr><td>6.2</td><td>3.4</td><td>5.4</td><td>2.3</td></tr><tr><td>5.9</td><td>3.0</td><td>5.1</td><td>1.8</td></tr></tbody></table>"
      ]
     },
     "execution_count": 16,
     "metadata": {},
     "output_type": "execute_result"
    }
   ],
   "source": [
    "let iris_features : ndarray::Array2<f32> = \n",
    "    iris_data.slice(ndarray::s![..,1..(4+1)]).mapv(\n",
    "      |elem: String| -> f32 {\n",
    "        <f32 as std::str::FromStr>::from_str(&elem).unwrap()\n",
    "      }\n",
    "    );\n",
    "\n",
    "let headers_feature : Vec<String> = headers[1..(4+1)].to_vec();\n",
    "\n",
    "darn::show_frame(&iris_features, Some(&headers_feature));"
   ]
  },
  {
   "cell_type": "markdown",
   "metadata": {},
   "source": [
    "Display data set"
   ]
  },
  {
   "cell_type": "code",
   "execution_count": 17,
   "metadata": {},
   "outputs": [
    {
     "data": {
      "text/html": [
       "<div>\n",
       "    <div id=\"KIYsoW9aBzLVHBpYYnz0\" class=\"plotly-graph-div\" style=\"height:100%; width:100%;\"></div>\n",
       "    <script type=\"text/javascript\">\n",
       "        require(['https://cdn.plot.ly/plotly-2.8.3.min.js'], function(Plotly) {\n",
       "            window.PLOTLYENV=window.PLOTLYENV || {};\n",
       "\n",
       "            if (document.getElementById(\"KIYsoW9aBzLVHBpYYnz0\")) {\n",
       "                var trace_0 = {\"type\":\"scatter\",\"name\":\"Sepal\",\"mode\":\"markers\",\"x\":[5.1,4.9,4.7,4.6,5.0,5.4,4.6,5.0,4.4,4.9,5.4,4.8,4.8,4.3,5.8,5.7,5.4,5.1,5.7,5.1,5.4,5.1,4.6,5.1,4.8,5.0,5.0,5.2,5.2,4.7,4.8,5.4,5.2,5.5,4.9,5.0,5.5,4.9,4.4,5.1,5.0,4.5,4.4,5.0,5.1,4.8,5.1,4.6,5.3,5.0,7.0,6.4,6.9,5.5,6.5,5.7,6.3,4.9,6.6,5.2,5.0,5.9,6.0,6.1,5.6,6.7,5.6,5.8,6.2,5.6,5.9,6.1,6.3,6.1,6.4,6.6,6.8,6.7,6.0,5.7,5.5,5.5,5.8,6.0,5.4,6.0,6.7,6.3,5.6,5.5,5.5,6.1,5.8,5.0,5.6,5.7,5.7,6.2,5.1,5.7,6.3,5.8,7.1,6.3,6.5,7.6,4.9,7.3,6.7,7.2,6.5,6.4,6.8,5.7,5.8,6.4,6.5,7.7,7.7,6.0,6.9,5.6,7.7,6.3,6.7,7.2,6.2,6.1,6.4,7.2,7.4,7.9,6.4,6.3,6.1,7.7,6.3,6.4,6.0,6.9,6.7,6.9,5.8,6.8,6.7,6.7,6.3,6.5,6.2,5.9],\"y\":[3.5,3.0,3.2,3.1,3.6,3.9,3.4,3.4,2.9,3.1,3.7,3.4,3.0,3.0,4.0,4.4,3.9,3.5,3.8,3.8,3.4,3.7,3.6,3.3,3.4,3.0,3.4,3.5,3.4,3.2,3.1,3.4,4.1,4.2,3.1,3.2,3.5,3.1,3.0,3.4,3.5,2.3,3.2,3.5,3.8,3.0,3.8,3.2,3.7,3.3,3.2,3.2,3.1,2.3,2.8,2.8,3.3,2.4,2.9,2.7,2.0,3.0,2.2,2.9,2.9,3.1,3.0,2.7,2.2,2.5,3.2,2.8,2.5,2.8,2.9,3.0,2.8,3.0,2.9,2.6,2.4,2.4,2.7,2.7,3.0,3.4,3.1,2.3,3.0,2.5,2.6,3.0,2.6,2.3,2.7,3.0,2.9,2.9,2.5,2.8,3.3,2.7,3.0,2.9,3.0,3.0,2.5,2.9,2.5,3.6,3.2,2.7,3.0,2.5,2.8,3.2,3.0,3.8,2.6,2.2,3.2,2.8,2.8,2.7,3.3,3.2,2.8,3.0,2.8,3.0,2.8,3.8,2.8,2.8,2.6,3.0,3.4,3.1,3.0,3.1,3.1,3.1,2.7,3.2,3.3,3.0,2.5,3.0,3.4,3.0]};\n",
       "var trace_1 = {\"type\":\"scatter\",\"name\":\"Petal\",\"mode\":\"markers\",\"x\":[1.4,1.4,1.3,1.5,1.4,1.7,1.4,1.5,1.4,1.5,1.5,1.6,1.4,1.1,1.2,1.5,1.3,1.4,1.7,1.5,1.7,1.5,1.0,1.7,1.9,1.6,1.6,1.5,1.4,1.6,1.6,1.5,1.5,1.4,1.5,1.2,1.3,1.5,1.3,1.5,1.3,1.3,1.3,1.6,1.9,1.4,1.6,1.4,1.5,1.4,4.7,4.5,4.9,4.0,4.6,4.5,4.7,3.3,4.6,3.9,3.5,4.2,4.0,4.7,3.6,4.4,4.5,4.1,4.5,3.9,4.8,4.0,4.9,4.7,4.3,4.4,4.8,5.0,4.5,3.5,3.8,3.7,3.9,5.1,4.5,4.5,4.7,4.4,4.1,4.0,4.4,4.6,4.0,3.3,4.2,4.2,4.2,4.3,3.0,4.1,6.0,5.1,5.9,5.6,5.8,6.6,4.5,6.3,5.8,6.1,5.1,5.3,5.5,5.0,5.1,5.3,5.5,6.7,6.9,5.0,5.7,4.9,6.7,4.9,5.7,6.0,4.8,4.9,5.6,5.8,6.1,6.4,5.6,5.1,5.6,6.1,5.6,5.5,4.8,5.4,5.6,5.1,5.1,5.9,5.7,5.2,5.0,5.2,5.4,5.1],\"y\":[0.2,0.2,0.2,0.2,0.2,0.4,0.3,0.2,0.2,0.1,0.2,0.2,0.1,0.1,0.2,0.4,0.4,0.3,0.3,0.3,0.2,0.4,0.2,0.5,0.2,0.2,0.4,0.2,0.2,0.2,0.2,0.4,0.1,0.2,0.1,0.2,0.2,0.1,0.2,0.2,0.3,0.3,0.2,0.6,0.4,0.3,0.2,0.2,0.2,0.2,1.4,1.5,1.5,1.3,1.5,1.3,1.6,1.0,1.3,1.4,1.0,1.5,1.0,1.4,1.3,1.4,1.5,1.0,1.5,1.1,1.8,1.3,1.5,1.2,1.3,1.4,1.4,1.7,1.5,1.0,1.1,1.0,1.2,1.6,1.5,1.6,1.5,1.3,1.3,1.3,1.2,1.4,1.2,1.0,1.3,1.2,1.3,1.3,1.1,1.3,2.5,1.9,2.1,1.8,2.2,2.1,1.7,1.8,1.8,2.5,2.0,1.9,2.1,2.0,2.4,2.3,1.8,2.2,2.3,1.5,2.3,2.0,2.0,1.8,2.1,1.8,1.8,1.8,2.1,1.6,1.9,2.0,2.2,1.5,1.4,2.3,2.4,1.8,1.8,2.1,2.4,2.3,1.9,2.3,2.5,2.3,1.9,2.0,2.3,1.8]};\n",
       "var data = [trace_0,trace_1];\n",
       "var layout = {\"xaxis\":{\"title\":{\"text\":\"Length (cm)\"}},\"yaxis\":{\"title\":{\"text\":\"Width (cm)\"}}};\n",
       "                Plotly.newPlot(\n",
       "                    'KIYsoW9aBzLVHBpYYnz0',\n",
       "                    data,\n",
       "                    layout,\n",
       "                    {\"responsive\": true}\n",
       "                ).then(function(){\n",
       "                    var gd = document.getElementById('KIYsoW9aBzLVHBpYYnz0');\n",
       "                    var x = new MutationObserver(function (mutations, observer) { {\n",
       "                            var display = window.getComputedStyle(gd).display;\n",
       "                            if (!display || display === 'none') { {\n",
       "                                console.log([gd, 'removed!']);\n",
       "                                Plotly.purge(gd);\n",
       "                                observer.disconnect();\n",
       "                            } }\n",
       "                    } });\n",
       "\n",
       "                    // Listen for the removal of the full notebook cells\n",
       "                    var notebookContainer = gd.closest('#notebook-container');\n",
       "                    if (notebookContainer) { {\n",
       "                        x.observe(notebookContainer, {childList: true});\n",
       "                    } }\n",
       "\n",
       "                    // Listen for the clearing of the current output cell\n",
       "                    var outputEl = gd.closest('.output');\n",
       "                    if (outputEl) { {\n",
       "                        x.observe(outputEl, {childList: true});\n",
       "                    } } })\n",
       "            };\n",
       "        });\n",
       "            </script>\n",
       "</div>"
      ]
     },
     "execution_count": 17,
     "metadata": {},
     "output_type": "execute_result"
    }
   ],
   "source": [
    "let layout = plotly::Layout::new()\n",
    "    .x_axis(plotly::layout::Axis::new()\n",
    "            .title(plotly::common::Title::new(\"Length (cm)\")))\n",
    "    .y_axis(plotly::layout::Axis::new()\n",
    "            .title(plotly::common::Title::new(\"Width (cm)\")));\n",
    "\n",
    "let sepal = plotly::Scatter::new(iris_features.column(0).to_vec(), \n",
    "                                 iris_features.column(1).to_vec())\n",
    "    .name(\"Sepal\")\n",
    "    .mode(plotly::common::Mode::Markers);\n",
    "let petal = plotly::Scatter::new(iris_features.column(2).to_vec(), \n",
    "                                 iris_features.column(3).to_vec())\n",
    "    .name(\"Petal\")\n",
    "    .mode(plotly::common::Mode::Markers);\n",
    "\n",
    "let mut plot = plotly::Plot::new();\n",
    "\n",
    "plot.set_layout(layout);\n",
    "plot.add_trace(sepal);\n",
    "plot.add_trace(petal);\n",
    "\n",
    "plot.notebook_display();"
   ]
  },
  {
   "cell_type": "markdown",
   "metadata": {},
   "source": [
    "For sake of completeness lets extract the labels of data sample, each row"
   ]
  },
  {
   "cell_type": "code",
   "execution_count": 18,
   "metadata": {},
   "outputs": [
    {
     "data": {
      "text/plain": [
       "()"
      ]
     },
     "execution_count": 18,
     "metadata": {},
     "output_type": "execute_result"
    }
   ],
   "source": [
    "let labels_feature: ndarray::Array1<String> = \n",
    "                    iris_data.slice(ndarray::s![..,5])\n",
    "                             .to_owned(); // Return an uniquely owned copy of the array.\n",
    "\n",
    "assert_eq!(iris_features.len_of(ndarray::Axis(0)),\n",
    "           labels_feature.len_of(ndarray::Axis(0)))"
   ]
  },
  {
   "cell_type": "code",
   "execution_count": null,
   "metadata": {},
   "outputs": [],
   "source": []
  }
 ],
 "metadata": {
  "kernelspec": {
   "display_name": "Rust",
   "language": "rust",
   "name": "rust"
  },
  "language_info": {
   "codemirror_mode": "rust",
   "file_extension": ".rs",
   "mimetype": "text/rust",
   "name": "Rust",
   "pygment_lexer": "rust",
   "version": ""
  }
 },
 "nbformat": 4,
 "nbformat_minor": 4
}

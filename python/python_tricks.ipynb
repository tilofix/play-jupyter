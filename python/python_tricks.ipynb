{
 "cells": [
  {
   "cell_type": "markdown",
   "metadata": {},
   "source": [
    "# Python-Tricks\n",
    "\n",
    "Diese Notizbuch ist eine \"Mitschrift\" aus, Bibliografische Information der Deutschen Nationalbilbliothek: \n",
    "- Link zu diesem Datensatz : http://d-nb.info/1155748549\n",
    "- Titel : Python-Tricks : praktische Tipps für Fortgeschrittene / Dan Bader\n",
    "- Person(en) : Bader, Dan L. (Verfasser)\n",
    "- Organisation(en) : Dpunkt.Verlag (Heidelberg) (Verlag)\n",
    "- Ausgabe : 1. Auflage\n",
    "- Verlag : Heidelberg : dpunkt.verlag\n",
    "- Zeitliche Einordnung \tErscheinungsdatum: 2018\n",
    "- Umfang/Format : xii, 198 Seiten ; 24 cm\n",
    "- Andere Ausgabe(n) : Erscheint auch als Online-Ausgabe: Python-Tricks --> http://d-nb.info/1166851451\n"
   ]
  },
  {
   "cell_type": "markdown",
   "metadata": {},
   "source": [
    "## Untersuche Python-Module, -Klassen, Objekte, Funktionen\n",
    "\n",
    "Kapitel 8.1, Seite 177"
   ]
  },
  {
   "cell_type": "code",
   "execution_count": 1,
   "metadata": {},
   "outputs": [
    {
     "data": {
      "text/plain": [
       "['MAXYEAR',\n",
       " 'MINYEAR',\n",
       " '__all__',\n",
       " '__builtins__',\n",
       " '__cached__',\n",
       " '__doc__',\n",
       " '__file__',\n",
       " '__loader__',\n",
       " '__name__',\n",
       " '__package__',\n",
       " '__spec__',\n",
       " 'date',\n",
       " 'datetime',\n",
       " 'datetime_CAPI',\n",
       " 'sys',\n",
       " 'time',\n",
       " 'timedelta',\n",
       " 'timezone',\n",
       " 'tzinfo']"
      ]
     },
     "execution_count": 1,
     "metadata": {},
     "output_type": "execute_result"
    }
   ],
   "source": [
    "import datetime\n",
    "dir(datetime)"
   ]
  },
  {
   "cell_type": "code",
   "execution_count": 2,
   "metadata": {
    "scrolled": true
   },
   "outputs": [
    {
     "data": {
      "text/plain": [
       "['date', 'datetime', 'datetime_CAPI']"
      ]
     },
     "execution_count": 2,
     "metadata": {},
     "output_type": "execute_result"
    }
   ],
   "source": [
    "import datetime\n",
    "[_ for _ in dir(datetime) if 'date' in _.lower()]"
   ]
  },
  {
   "cell_type": "markdown",
   "metadata": {},
   "source": [
    "## Kommasetzung\n",
    "\n",
    "Kapitel 2.2, Seite 11\n",
    "\n",
    "Praktischer Tipp um Elemente aus einer Liste, Dictionary oder einer Menge zu entfernen oder hinzu zufügen. Man sieht in einer Differenzanzeige eines Versionsverwaltungsprogramms Änderungen einer ganzen Zeile besser als einer Änderungen innerhalb einer Zeile."
   ]
  },
  {
   "cell_type": "code",
   "execution_count": 3,
   "metadata": {},
   "outputs": [
    {
     "data": {
      "text/plain": [
       "['Alice', 'Bob', 'Dilbert']"
      ]
     },
     "execution_count": 3,
     "metadata": {},
     "output_type": "execute_result"
    }
   ],
   "source": [
    "['Alice', 'Bob', 'Dilbert']"
   ]
  },
  {
   "cell_type": "code",
   "execution_count": 4,
   "metadata": {},
   "outputs": [
    {
     "data": {
      "text/plain": [
       "['Alice', 'Bob', 'Dilbert']"
      ]
     },
     "execution_count": 4,
     "metadata": {},
     "output_type": "execute_result"
    }
   ],
   "source": [
    "[\n",
    "    'Alice',\n",
    "    'Bob',\n",
    "    'Dilbert'\n",
    "]"
   ]
  },
  {
   "cell_type": "markdown",
   "metadata": {},
   "source": [
    "Folgendes fehlendes Komma für nicht zur einem Laufzeitfehler, sondern zu einer Zeichenkette aus aneinander geketten Zeichenketten."
   ]
  },
  {
   "cell_type": "code",
   "execution_count": 5,
   "metadata": {},
   "outputs": [
    {
     "data": {
      "text/plain": [
       "['Alice', 'Bob', 'DilbertJane']"
      ]
     },
     "execution_count": 5,
     "metadata": {},
     "output_type": "execute_result"
    }
   ],
   "source": [
    "[\n",
    "    'Alice',\n",
    "    'Bob',\n",
    "    'Dilbert' # <- Fehlendes Komma!\n",
    "    'Jane'\n",
    "]"
   ]
  },
  {
   "cell_type": "markdown",
   "metadata": {},
   "source": [
    "Die Syntax von Python lässt einigen Spielraum. In Python kann hinter jedem Element einer Liste, Dictionary und einer Menge ein Komma stehen - auch hinter dem letzten Element."
   ]
  },
  {
   "cell_type": "code",
   "execution_count": 6,
   "metadata": {},
   "outputs": [],
   "source": [
    "names = [\n",
    "    'Alice',\n",
    "    'Bob',\n",
    "    'Dilbert',\n",
    "    'Jane',\n",
    "]"
   ]
  },
  {
   "cell_type": "markdown",
   "metadata": {},
   "source": [
    "Das \"zusätzliche\" Komma führt nicht etwa zu einem 5. Element."
   ]
  },
  {
   "cell_type": "code",
   "execution_count": 7,
   "metadata": {},
   "outputs": [
    {
     "data": {
      "text/plain": [
       "4"
      ]
     },
     "execution_count": 7,
     "metadata": {},
     "output_type": "execute_result"
    }
   ],
   "source": [
    "len(names)"
   ]
  },
  {
   "cell_type": "code",
   "execution_count": 8,
   "metadata": {},
   "outputs": [
    {
     "data": {
      "text/plain": [
       "['Alice', 'Bob', 'Dilbert', 'Jane']"
      ]
     },
     "execution_count": 8,
     "metadata": {},
     "output_type": "execute_result"
    }
   ],
   "source": [
    "names"
   ]
  },
  {
   "cell_type": "markdown",
   "metadata": {},
   "source": [
    "## Kontextmanager und die with-Anweisung\n",
    "\n",
    "Die `with`-Anweisung kapselt den Großteil der Logik zur Handhabung einer Ressource. Man muss nicht jedesmal ausdrücklich `try...finally`-Anweisungen schreiben.\n",
    "\n",
    "Eine Klasse oder Funktion kann mit der `with`-Anweisung benutzt werden, wenn sie das Kontextmanager-Protokoll implementieren. Im Falle einer Klasse muss die Klasse die Methoden `__enter__` und `__exit__` bereit stellen, in denen jeweils die Ressource besetzt und wieder frei gegeben wird."
   ]
  },
  {
   "cell_type": "code",
   "execution_count": 9,
   "metadata": {},
   "outputs": [],
   "source": [
    "class ManagedFile:\n",
    "    def __init__(self, name):\n",
    "        self.name = name\n",
    "        \n",
    "    def __enter__(self):\n",
    "        self.file = open(self.name, 'w')\n",
    "        return self.file\n",
    "    \n",
    "    def __exit__(self, exc_type, exc_val, exc_tb):\n",
    "        if self.file:\n",
    "            self.file.close()\n"
   ]
  },
  {
   "cell_type": "code",
   "execution_count": 10,
   "metadata": {},
   "outputs": [],
   "source": [
    "with ManagedFile('hello_with_class.txt') as f:\n",
    "    f.write('hello with statement with a class!')\n",
    "    f.write('bye')"
   ]
  },
  {
   "cell_type": "markdown",
   "metadata": {},
   "source": [
    "Bemerkung: Jupyter Notebook hat in der Tat eine Text-Datei erzeugt.\n",
    "\n",
    "Ein Kontextmanager muss nicht auf Grundlage einer Klasse geschrieben werden, es kann auch eine Funktion durch einen Dekorator aus der Bibliothek `contextlib` zum Kontextmanager werden."
   ]
  },
  {
   "cell_type": "code",
   "execution_count": 11,
   "metadata": {},
   "outputs": [],
   "source": [
    "import contextlib\n",
    "@contextlib.contextmanager\n",
    "def managed_file(name):\n",
    "    try:\n",
    "        f = open(name, 'w')\n",
    "        yield f\n",
    "    finally:\n",
    "        f.close()"
   ]
  },
  {
   "cell_type": "code",
   "execution_count": 12,
   "metadata": {},
   "outputs": [],
   "source": [
    "with managed_file('hello_with_decorator.txt') as f:\n",
    "    f.write('hello with statement with a function!')\n",
    "    f.write('bye')"
   ]
  },
  {
   "cell_type": "code",
   "execution_count": null,
   "metadata": {},
   "outputs": [],
   "source": []
  }
 ],
 "metadata": {
  "kernelspec": {
   "display_name": "Python 3 (ipykernel)",
   "language": "python",
   "name": "python3"
  },
  "language_info": {
   "codemirror_mode": {
    "name": "ipython",
    "version": 3
   },
   "file_extension": ".py",
   "mimetype": "text/x-python",
   "name": "python",
   "nbconvert_exporter": "python",
   "pygments_lexer": "ipython3",
   "version": "3.11.8"
  }
 },
 "nbformat": 4,
 "nbformat_minor": 4
}

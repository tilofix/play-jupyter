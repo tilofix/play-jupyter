{
 "cells": [
  {
   "cell_type": "code",
   "execution_count": 1,
   "metadata": {},
   "outputs": [
    {
     "ename": "ModuleNotFoundError",
     "evalue": "No module named 'netaddr'",
     "output_type": "error",
     "traceback": [
      "\u001b[0;31m---------------------------------------------------------------------------\u001b[0m",
      "\u001b[0;31mModuleNotFoundError\u001b[0m                       Traceback (most recent call last)",
      "Input \u001b[0;32mIn [1]\u001b[0m, in \u001b[0;36m<module>\u001b[0;34m\u001b[0m\n\u001b[0;32m----> 1\u001b[0m \u001b[38;5;28;01mimport\u001b[39;00m \u001b[38;5;21;01mnetaddr\u001b[39;00m\n\u001b[1;32m      2\u001b[0m ip \u001b[38;5;241m=\u001b[39m netaddr\u001b[38;5;241m.\u001b[39mIPNetwork(\u001b[38;5;124m'\u001b[39m\u001b[38;5;124m192.168.10.116/23\u001b[39m\u001b[38;5;124m'\u001b[39m)\n\u001b[1;32m      3\u001b[0m \u001b[38;5;28mprint\u001b[39m(ip\u001b[38;5;241m.\u001b[39mip)\n",
      "\u001b[0;31mModuleNotFoundError\u001b[0m: No module named 'netaddr'"
     ]
    }
   ],
   "source": [
    "import netaddr\n",
    "ip = netaddr.IPNetwork('192.168.10.116/23')\n",
    "print(ip.ip)\n",
    "print(\"%s, %s\" % (ip.network, ip.broadcast))\n",
    "print(\"%s, %s\" % (ip.netmask, ip.hostmask))"
   ]
  },
  {
   "cell_type": "code",
   "execution_count": 8,
   "metadata": {},
   "outputs": [
    {
     "name": "stdout",
     "output_type": "stream",
     "text": [
      "11000000.10101000.00001010.01110100\n"
     ]
    }
   ],
   "source": [
    "ip = netaddr.IPAddress('192.168.10.116')\n",
    "print(ip.bits())"
   ]
  },
  {
   "cell_type": "code",
   "execution_count": null,
   "metadata": {},
   "outputs": [],
   "source": []
  }
 ],
 "metadata": {
  "kernelspec": {
   "display_name": "Python 3 (ipykernel)",
   "language": "python",
   "name": "python3"
  },
  "language_info": {
   "codemirror_mode": {
    "name": "ipython",
    "version": 3
   },
   "file_extension": ".py",
   "mimetype": "text/x-python",
   "name": "python",
   "nbconvert_exporter": "python",
   "pygments_lexer": "ipython3",
   "version": "3.10.2"
  }
 },
 "nbformat": 4,
 "nbformat_minor": 2
}

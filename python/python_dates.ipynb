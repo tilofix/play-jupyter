{
 "cells": [
  {
   "cell_type": "markdown",
   "id": "db5c581c-d15a-4a42-8fff-141f96b0dab6",
   "metadata": {},
   "source": [
    "## Working with Quarter"
   ]
  },
  {
   "cell_type": "markdown",
   "id": "549a1896-1593-4d1c-8dca-6204f3ffb85a",
   "metadata": {},
   "source": [
    "\n",
    "\n",
    "Code \"stolen\" from following website being overwhelmed with ads: [5 Best Ways to Extract the Quarter from Dates Using Python Pandas](https://blog.finxter.com/5-best-ways-to-extract-the-quarter-from-dates-using-python-pandas/)"
   ]
  },
  {
   "cell_type": "markdown",
   "id": "3c6fae19-90cb-45b2-8774-69e301d52db9",
   "metadata": {},
   "source": [
    "Below snippets import package pandas with `ModuleNotFoundError` as I did not install `pandas` in notebook's environment (yet). Let's see if I could install at runtime ... yes I can : [Installing Python Packages from a Jupyter Notebook](https://jakevdp.github.io/blog/2017/12/05/installing-python-packages-from-jupyter/#How-to-use-Pip-from-the-Jupyter-Notebook)\n",
    "\n",
    "Package `pandas` [is documented at pydata](https://pandas.pydata.org/docs/reference/api/pandas.DatetimeIndex.html). \"PyData is an educational program of [NumFOCUS](https://numfocus.org/), a 501(c)(3) nonprofit charity.\""
   ]
  },
  {
   "cell_type": "code",
   "execution_count": 21,
   "id": "635bb2a9-30bc-4f85-947b-35dacbf49eb5",
   "metadata": {},
   "outputs": [
    {
     "name": "stdout",
     "output_type": "stream",
     "text": [
      "Requirement already satisfied: pandas in /home/tilo/.local/share/virtualenvs/play-jupyter-8vMFQbMi/lib/python3.11/site-packages (2.2.2)\n",
      "Requirement already satisfied: numpy>=1.23.2 in /home/tilo/.local/share/virtualenvs/play-jupyter-8vMFQbMi/lib/python3.11/site-packages (from pandas) (1.26.2)\n",
      "Requirement already satisfied: python-dateutil>=2.8.2 in /home/tilo/.local/share/virtualenvs/play-jupyter-8vMFQbMi/lib/python3.11/site-packages (from pandas) (2.8.2)\n",
      "Requirement already satisfied: pytz>=2020.1 in /home/tilo/.local/share/virtualenvs/play-jupyter-8vMFQbMi/lib/python3.11/site-packages (from pandas) (2024.1)\n",
      "Requirement already satisfied: tzdata>=2022.7 in /home/tilo/.local/share/virtualenvs/play-jupyter-8vMFQbMi/lib/python3.11/site-packages (from pandas) (2024.1)\n",
      "Requirement already satisfied: six>=1.5 in /home/tilo/.local/share/virtualenvs/play-jupyter-8vMFQbMi/lib/python3.11/site-packages (from python-dateutil>=2.8.2->pandas) (1.16.0)\n"
     ]
    }
   ],
   "source": [
    "# Install a pip package in the current Jupyter kernel\n",
    "import sys\n",
    "!{sys.executable} -m pip install pandas"
   ]
  },
  {
   "cell_type": "markdown",
   "id": "cd4cf942-939d-46bf-8b29-c5bf623e092d",
   "metadata": {},
   "source": [
    "### Method 1: Using DatetimeIndex.quarter Attribute\n",
    "\n",
    "This method involves accessing the `quarter` attribute of the Pandas `DatetimeIndex` object."
   ]
  },
  {
   "cell_type": "code",
   "execution_count": 22,
   "id": "cd7baaf4-f5fc-4c31-a0c2-1023f2384749",
   "metadata": {},
   "outputs": [
    {
     "name": "stdout",
     "output_type": "stream",
     "text": [
      "Index([1, 2, 3, 4], dtype='int32')\n"
     ]
    }
   ],
   "source": [
    "import pandas as pd\n",
    "\n",
    "# Create a datetime index\n",
    "dt_index = pd.DatetimeIndex(['2023-01-01', '2023-04-01', '2023-07-01', '2023-10-01'])\n",
    "\n",
    "# Extract the quarter\n",
    "quarters = dt_index.quarter\n",
    "print(quarters)"
   ]
  },
  {
   "cell_type": "markdown",
   "id": "718e7431-ee5a-4a38-ace2-6cc0265d52cc",
   "metadata": {},
   "source": [
    "### Method 2: Using `to_period` Method with ‘Q’ Alias\n",
    "\n",
    "The `to_period` method converts the `DatetimeIndex` into a `PeriodIndex` which is useful for time-based grouping. "
   ]
  },
  {
   "cell_type": "code",
   "execution_count": 23,
   "id": "17242ce9-7ea1-42b9-868e-fb27988ca730",
   "metadata": {},
   "outputs": [
    {
     "name": "stdout",
     "output_type": "stream",
     "text": [
      "PeriodIndex(['2023Q1', '2023Q2'], dtype='period[Q-DEC]')\n"
     ]
    }
   ],
   "source": [
    "import pandas as pd\n",
    "\n",
    "# Create a datetime index\n",
    "dt_index = pd.DatetimeIndex(['2023-03-15', '2023-06-21'])\n",
    "\n",
    "# Convert to PeriodIndex with quarterly frequency\n",
    "quarters = dt_index.to_period('Q')\n",
    "print(quarters)"
   ]
  },
  {
   "cell_type": "markdown",
   "id": "0f3e6c47-bb75-4cde-bf89-08ac158ba7d5",
   "metadata": {},
   "source": [
    "### Method 3: Using a Lambda Function and `month` To Determine Quarter\n",
    "\n",
    "This method involves applying a lambda function across a Series or Index to calculate quarters manually based on the month. "
   ]
  },
  {
   "cell_type": "code",
   "execution_count": 24,
   "id": "16b332f5-5d59-421c-aa38-febd7609ce11",
   "metadata": {},
   "outputs": [
    {
     "name": "stdout",
     "output_type": "stream",
     "text": [
      "Index([1, 3], dtype='int32')\n"
     ]
    }
   ],
   "source": [
    "import pandas as pd\n",
    "\n",
    "# Create a datetime index\n",
    "dt_index = pd.DatetimeIndex(['2023-02-14', '2023-08-09'])\n",
    "\n",
    "# Calculate the quarter manually\n",
    "quarters = dt_index.month.map(lambda x: (x - 1) // 3 + 1)\n",
    "print(quarters)"
   ]
  },
  {
   "cell_type": "markdown",
   "id": "706b8c72-7d0a-480e-92ca-04b8d9dc4234",
   "metadata": {},
   "source": [
    "### Method 4: Using `groupby` and `Grouper` for Complex Grouping\n",
    "\n",
    "For more advanced analyses where you need to group by quarter but keep your data within a DataFrame structure, you can use `groupby` along with Pandas’ `Grouper` class, which allows for specifying frequency like ‘Q’."
   ]
  },
  {
   "cell_type": "code",
   "execution_count": 25,
   "id": "d4c2a312-33e4-4c51-b5cc-d277bb2fe086",
   "metadata": {},
   "outputs": [
    {
     "name": "stdout",
     "output_type": "stream",
     "text": [
      "2023-03-31    10\n",
      "2023-06-30     0\n",
      "2023-09-30    22\n",
      "Freq: QE-DEC, dtype: int64\n"
     ]
    }
   ],
   "source": [
    "import pandas as pd\n",
    "\n",
    "# Create a series with a datetime index\n",
    "date_series = pd.Series([10, 22], index=pd.to_datetime(['2023-02-14', '2023-08-09']))\n",
    "\n",
    "# Group by quarter\n",
    "quarterly_data = date_series.groupby(pd.Grouper(freq='QE')).sum()\n",
    "print(quarterly_data)"
   ]
  },
  {
   "cell_type": "markdown",
   "id": "8b3c9a61-490b-4e6b-8307-835573bb8169",
   "metadata": {},
   "source": [
    "### Bonus One-Liner Method 5: Using `dt` Accessor and Floor Division\n",
    "\n",
    "The one-liner uses the `dt` accessor to work directly with the month property of a date. "
   ]
  },
  {
   "cell_type": "code",
   "execution_count": 26,
   "id": "87a390cb-df35-4204-920c-8e667f23a122",
   "metadata": {},
   "outputs": [
    {
     "name": "stdout",
     "output_type": "stream",
     "text": [
      "0    1\n",
      "1    1\n",
      "2    1\n",
      "3    2\n",
      "dtype: int32\n"
     ]
    }
   ],
   "source": [
    "import pandas as pd\n",
    "\n",
    "# Create a series with a datetime index\n",
    "date_series = pd.Series(pd.date_range('2023-01-01', periods=4, freq='ME'))\n",
    "\n",
    "# Extract the quarter using a one-liner\n",
    "quarters = ((date_series.dt.month - 1) // 3 + 1)\n",
    "print(quarters)"
   ]
  },
  {
   "cell_type": "code",
   "execution_count": null,
   "id": "f2f75a39-9868-4f0e-bd9d-3e613f77652f",
   "metadata": {},
   "outputs": [],
   "source": []
  }
 ],
 "metadata": {
  "kernelspec": {
   "display_name": "Python 3 (ipykernel)",
   "language": "python",
   "name": "python3"
  },
  "language_info": {
   "codemirror_mode": {
    "name": "ipython",
    "version": 3
   },
   "file_extension": ".py",
   "mimetype": "text/x-python",
   "name": "python",
   "nbconvert_exporter": "python",
   "pygments_lexer": "ipython3",
   "version": "3.11.8"
  }
 },
 "nbformat": 4,
 "nbformat_minor": 5
}

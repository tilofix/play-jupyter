{
 "cells": [
  {
   "cell_type": "markdown",
   "id": "c6207bd9-c197-4079-8e87-be29ddb9717d",
   "metadata": {},
   "source": [
    "## Date, Time\n",
    "\n",
    "Let's check what Julia has for [Dates](https://docs.julialang.org/en/v1/stdlib/Dates/) and [Periods](https://docs.julialang.org/en/v1/stdlib/Dates/#Dates.Period) of day, week, month, quarter, year.\n",
    "\n",
    "Basic abstract types are `Period`, and its subsets `DatePeriod` as well as `TimePeriod` with a `Period` type constructing a `Period` instances out of a given value `v`.\n",
    "\n",
    "`DateTime`, `Date` and `Time` are contructed out of the fundamental type `UTInstant{T}` which represents a machine timeline based on [UT](https://en.wikipedia.org/wiki/Universal_Time) seconds where `T` is a `Period` parameter that indicates the resolution or precision of\n",
    "the instant.\n",
    "- `DateTime` type is not aware of time zones (*naive*, in Python parlance), analogous to a *LocalDateTime* in Java 8. Additional time zone functionality can be added through the [TimeZones.jl package](https://github.com/JuliaTime/TimeZones.jl/), which compiles the [IANA time zone database](http://www.iana.org/time-zones).\n",
    "- `DateTime` wrapping a `UTInstant{Millisecond}` and `Date` wrapping a `UTInstant{Day}` are based on the [ISO 8601](https://en.wikipedia.org/wiki/ISO_8601) standard, which follows the proleptic Gregorian calendar.\n",
    "- `Time` wraps a `Nanosecond` and represents a specific moment in a 24-hour day.\n",
    "\n",
    "\n",
    "\n",
    "https://en.wikipedia.org/wiki/Talk:ISO_week_date#Algorithms\n",
    "\n",
    "https://web.archive.org/web/20140910060704/mysite.verizon.net/aesir_research/date/date0.htm\n"
   ]
  },
  {
   "cell_type": "code",
   "execution_count": 1,
   "id": "121bac4d-c474-4af7-b555-4a4e62e04ae7",
   "metadata": {},
   "outputs": [],
   "source": [
    "import Dates"
   ]
  },
  {
   "cell_type": "markdown",
   "id": "0157e571-b4f8-4a91-9fa1-96176167662a",
   "metadata": {},
   "source": [
    "### Dates Functions\n",
    "\n",
    "[`Date`](https://docs.julialang.org/en/v1/stdlib/Dates/#Dates.Date) and [`DateTime`](https://docs.julialang.org/en/v1/stdlib/Dates/#Dates.DateTime) types can be constructed \n",
    "- by integer parts. Arguments must be convertible to [`Int64`](https://docs.julialang.org/en/v1/base/numbers/#Core.Int64): \n",
    "  - `Date(y, [m, d]) -> Date`;\n",
    "  - `DateTime(y, [m, d, h, mi, s, ms]) -> DateTime`;\n",
    "  - `Time(h, [mi, s, ms, us, ns]) -> Time`;\n",
    "- by [`Period`](https://docs.julialang.org/en/v1/stdlib/Dates/#Dates.Period) types: \n",
    "  - `Date(period::Period...) -> Date`;\n",
    "  - `DateTime(period::Period...) -> DateTime`; \n",
    "  - `Time(period::TimePeriod...) -> Time`;\n",
    "- by parsing (see [DateFormat](https://docs.julialang.org/en/v1/stdlib/Dates/#Dates.DateFormat) for syntax and also [`Dates.@dateformat_str`](https://docs.julialang.org/en/v1/stdlib/Dates/#Dates.@dateformat_str)\n",
    "- Macro): \n",
    "  - `Date(d::AbstractString, format::AbstractString; locale=\"english\") -> Date`;\n",
    "  - `DateTime(dt::AbstractString, format::AbstractString; locale=\"english\") -> DateTime`;\n",
    "  - `Time(t::AbstractString, format::AbstractString; locale=\"english\") -> Time`\n",
    "- or through the [adjuster API](https://docs.julialang.org/en/v1/stdlib/Dates/#Adjuster-Functions):\n",
    "  - `Date(f::Function, y[, m, d]; step=Day(1), limit=10000) -> Date`;\n",
    "  - `DateTime(f::Function, y[, m, d, h, mi, s]; step=Day(1), limit=10000) -> DateTime`;\n",
    "  - `Time(f::Function, h, mi=0; step::Period=Second(1), limit::Int=10000)` and some [more methods](https://docs.julialang.org/en/v1/stdlib/Dates/#Dates.Time-Tuple{Function,%20Vararg{Any}})"
   ]
  },
  {
   "cell_type": "code",
   "execution_count": 2,
   "id": "9f72be1f-b4e8-441c-a261-446df95b8f62",
   "metadata": {},
   "outputs": [
    {
     "name": "stdout",
     "output_type": "stream",
     "text": [
      "Dates.Date\n",
      "  instant: Dates.UTInstant{Dates.Day}\n",
      "    periods: Dates.Day\n",
      "      value: Int64 734562\n"
     ]
    }
   ],
   "source": [
    "dt = Dates.Date(2012,2,29)\n",
    "dump(dt)"
   ]
  },
  {
   "cell_type": "code",
   "execution_count": 3,
   "id": "932700a5-3573-45bb-aa97-7a57be902046",
   "metadata": {},
   "outputs": [
    {
     "data": {
      "text/plain": [
       "2014-02-28"
      ]
     },
     "execution_count": 3,
     "metadata": {},
     "output_type": "execute_result"
    }
   ],
   "source": [
    "(Dates.Date(2014,1,29)+Dates.Day(1)) + Dates.Month(1)"
   ]
  },
  {
   "cell_type": "code",
   "execution_count": 4,
   "id": "f59f94c1-f70d-4899-ae97-95e938ed56e2",
   "metadata": {},
   "outputs": [
    {
     "data": {
      "text/plain": [
       "2-element Vector{Dates.Date}:\n",
       " 2015-01-01\n",
       " 2016-01-01"
      ]
     },
     "execution_count": 4,
     "metadata": {},
     "output_type": "execute_result"
    }
   ],
   "source": [
    "Dates.Date.([\"2015\", \"2016\"], Dates.DateFormat(\"yyyy\"))"
   ]
  },
  {
   "cell_type": "code",
   "execution_count": 5,
   "id": "d981cd18-cad7-4be6-8395-ec9fdaf53d30",
   "metadata": {},
   "outputs": [
    {
     "data": {
      "text/plain": [
       "2010-10-20T10:00:40"
      ]
     },
     "execution_count": 5,
     "metadata": {},
     "output_type": "execute_result"
    }
   ],
   "source": [
    "Dates.DateTime(dt -> Dates.second(dt) == 40, 2010, 10, 20, 10; step = Dates.Second(1))"
   ]
  },
  {
   "cell_type": "code",
   "execution_count": 6,
   "id": "744d019b-e3ef-476f-b6a4-e4990e7d267e",
   "metadata": {},
   "outputs": [
    {
     "data": {
      "text/plain": [
       "2014-07-14"
      ]
     },
     "execution_count": 6,
     "metadata": {},
     "output_type": "execute_result"
    }
   ],
   "source": [
    "Dates.firstdayofweek(Dates.Date(2014,7,16))"
   ]
  },
  {
   "cell_type": "code",
   "execution_count": 7,
   "id": "4ab2ce70-2bdf-44c6-a365-4de70519e1a2",
   "metadata": {},
   "outputs": [
    {
     "data": {
      "text/plain": [
       "12:34:00"
      ]
     },
     "execution_count": 7,
     "metadata": {},
     "output_type": "execute_result"
    }
   ],
   "source": [
    "Dates.Time(\"12:34pm\", \"HH:MMp\")"
   ]
  },
  {
   "cell_type": "code",
   "execution_count": 8,
   "id": "72164998-cd51-420e-9eb7-5aa327545f66",
   "metadata": {},
   "outputs": [
    {
     "data": {
      "text/plain": [
       "2-element Vector{Dates.Time}:\n",
       " 12:34:00\n",
       " 02:34:00"
      ]
     },
     "execution_count": 8,
     "metadata": {},
     "output_type": "execute_result"
    }
   ],
   "source": [
    "a = (\"12:34pm\", \"2:34am\");\n",
    "[Dates.Time(d, Dates.dateformat\"HH:MMp\") for d ∈ a]"
   ]
  },
  {
   "cell_type": "markdown",
   "id": "ae2662fc-5a04-494b-b861-abf970e332c4",
   "metadata": {},
   "source": [
    "### Dates Accessor Functions"
   ]
  },
  {
   "cell_type": "code",
   "execution_count": 9,
   "id": "a17b48db-cefe-453a-96ae-e1d9ed3adeab",
   "metadata": {},
   "outputs": [
    {
     "data": {
      "text/plain": [
       "2014-06-29"
      ]
     },
     "execution_count": 9,
     "metadata": {},
     "output_type": "execute_result"
    }
   ],
   "source": [
    "dt = Dates.Date(2014, 6, 29)"
   ]
  },
  {
   "cell_type": "code",
   "execution_count": 10,
   "id": "fe9c90f2-5db1-4a54-a9a1-9d2350745269",
   "metadata": {},
   "outputs": [
    {
     "data": {
      "text/plain": [
       "2014"
      ]
     },
     "execution_count": 10,
     "metadata": {},
     "output_type": "execute_result"
    }
   ],
   "source": [
    "Dates.year(dt)"
   ]
  },
  {
   "cell_type": "code",
   "execution_count": 11,
   "id": "c8ad6052-4124-4f1d-b409-74490e482b5c",
   "metadata": {},
   "outputs": [
    {
     "data": {
      "text/plain": [
       "2"
      ]
     },
     "execution_count": 11,
     "metadata": {},
     "output_type": "execute_result"
    }
   ],
   "source": [
    "Dates.quarter(dt)"
   ]
  },
  {
   "cell_type": "code",
   "execution_count": 12,
   "id": "89aa408f-ab62-466e-af1a-fda78393695b",
   "metadata": {},
   "outputs": [
    {
     "data": {
      "text/plain": [
       "6"
      ]
     },
     "execution_count": 12,
     "metadata": {},
     "output_type": "execute_result"
    }
   ],
   "source": [
    "Dates.month(dt)"
   ]
  },
  {
   "cell_type": "code",
   "execution_count": 13,
   "id": "538c4f85-cca0-4b0d-936a-5ae9c5f952eb",
   "metadata": {},
   "outputs": [
    {
     "data": {
      "text/plain": [
       "26"
      ]
     },
     "execution_count": 13,
     "metadata": {},
     "output_type": "execute_result"
    }
   ],
   "source": [
    "Dates.week(dt)"
   ]
  },
  {
   "cell_type": "code",
   "execution_count": 14,
   "id": "99969c4d-e863-47c6-9f0c-11b6d2500517",
   "metadata": {},
   "outputs": [
    {
     "data": {
      "text/plain": [
       "29"
      ]
     },
     "execution_count": 14,
     "metadata": {},
     "output_type": "execute_result"
    }
   ],
   "source": [
    "Dates.day(dt)"
   ]
  },
  {
   "cell_type": "code",
   "execution_count": 15,
   "id": "36ce61a1-83cf-48ec-aef5-105745a45c4a",
   "metadata": {},
   "outputs": [
    {
     "data": {
      "text/plain": [
       "(2014, 6, 29)"
      ]
     },
     "execution_count": 15,
     "metadata": {},
     "output_type": "execute_result"
    }
   ],
   "source": [
    "Dates.yearmonthday(dt)"
   ]
  },
  {
   "cell_type": "markdown",
   "id": "672dfc68-6cf9-476b-a58b-9523f9429a7d",
   "metadata": {},
   "source": [
    "### Dates Query Functions"
   ]
  },
  {
   "cell_type": "code",
   "execution_count": 16,
   "id": "4e62cd82-847c-4e63-9b88-4f7a83460bc8",
   "metadata": {},
   "outputs": [
    {
     "data": {
      "text/plain": [
       "2023-01-06T05:08:35.091"
      ]
     },
     "execution_count": 16,
     "metadata": {},
     "output_type": "execute_result"
    }
   ],
   "source": [
    "now_dt = Dates.now()"
   ]
  },
  {
   "cell_type": "code",
   "execution_count": 17,
   "id": "6fb7d024-1150-4cf9-b021-e9d19589bf07",
   "metadata": {},
   "outputs": [
    {
     "data": {
      "text/plain": [
       "2-element Vector{String}:\n",
       " \"Friday\"\n",
       " \"Fri\""
      ]
     },
     "execution_count": 17,
     "metadata": {},
     "output_type": "execute_result"
    }
   ],
   "source": [
    "[Dates.dayname(now_dt), Dates.dayabbr(now_dt)]"
   ]
  },
  {
   "cell_type": "code",
   "execution_count": 18,
   "id": "fd27c890-b4a0-4f29-84d7-d3448b9c2d81",
   "metadata": {
    "scrolled": true
   },
   "outputs": [
    {
     "data": {
      "text/plain": [
       "\"2023-01-06\""
      ]
     },
     "execution_count": 18,
     "metadata": {},
     "output_type": "execute_result"
    }
   ],
   "source": [
    "Dates.format(now_dt, \"yyyy-mm-dd\")"
   ]
  },
  {
   "cell_type": "code",
   "execution_count": 19,
   "id": "75683506-dfa8-4149-a270-b22f645eeb0f",
   "metadata": {},
   "outputs": [
    {
     "data": {
      "text/plain": [
       "2-element Vector{String}:\n",
       " \"January\"\n",
       " \"Jan\""
      ]
     },
     "execution_count": 19,
     "metadata": {},
     "output_type": "execute_result"
    }
   ],
   "source": [
    "[Dates.monthname(now_dt), Dates.monthabbr(now_dt)]"
   ]
  },
  {
   "cell_type": "code",
   "execution_count": 20,
   "id": "0efbe830-af88-481e-9f5f-2b851b0a59fe",
   "metadata": {},
   "outputs": [
    {
     "data": {
      "text/plain": [
       "1"
      ]
     },
     "execution_count": 20,
     "metadata": {},
     "output_type": "execute_result"
    }
   ],
   "source": [
    "Dates.quarterofyear(now_dt)"
   ]
  },
  {
   "cell_type": "code",
   "execution_count": 21,
   "id": "9852d49f-8ac4-4829-a81f-d38831e72454",
   "metadata": {},
   "outputs": [
    {
     "data": {
      "text/plain": [
       "true"
      ]
     },
     "execution_count": 21,
     "metadata": {},
     "output_type": "execute_result"
    }
   ],
   "source": [
    "Dates.isleapyear(2004)"
   ]
  },
  {
   "cell_type": "code",
   "execution_count": 22,
   "id": "2cfdc00d-e8ef-470a-880b-e8555bd5f1c4",
   "metadata": {},
   "outputs": [
    {
     "data": {
      "text/plain": [
       "29"
      ]
     },
     "execution_count": 22,
     "metadata": {},
     "output_type": "execute_result"
    }
   ],
   "source": [
    "Dates.daysinmonth(2004, 2)"
   ]
  },
  {
   "cell_type": "markdown",
   "id": "3877076b-abf4-4293-94c2-3f015f877c4d",
   "metadata": {},
   "source": [
    "### Dates Periods"
   ]
  },
  {
   "cell_type": "code",
   "execution_count": 23,
   "id": "56b35e36-b1ec-464a-9734-ecc82b579555",
   "metadata": {},
   "outputs": [
    {
     "data": {
      "text/plain": [
       "2 quarters"
      ]
     },
     "execution_count": 23,
     "metadata": {},
     "output_type": "execute_result"
    }
   ],
   "source": [
    "Dates.Quarter(2)"
   ]
  },
  {
   "cell_type": "code",
   "execution_count": null,
   "id": "82106296",
   "metadata": {},
   "outputs": [],
   "source": []
  }
 ],
 "metadata": {
  "kernelspec": {
   "display_name": "Julia 1.7.1",
   "language": "julia",
   "name": "julia-1.7"
  },
  "language_info": {
   "file_extension": ".jl",
   "mimetype": "application/julia",
   "name": "julia",
   "version": "1.8.3"
  }
 },
 "nbformat": 4,
 "nbformat_minor": 5
}
